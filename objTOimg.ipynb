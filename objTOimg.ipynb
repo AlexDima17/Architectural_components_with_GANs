{
 "cells": [
  {
   "cell_type": "markdown",
   "metadata": {},
   "source": [
    "Load modules"
   ]
  },
  {
   "cell_type": "code",
   "execution_count": 5,
   "metadata": {},
   "outputs": [],
   "source": [
    "from IPython import display\n",
    "\n",
    "import torch\n",
    "from torch import nn, optim\n",
    "from torch.autograd.variable import Variable\n",
    "from torchvision import transforms, datasets\n",
    "\n",
    "import numpy as np\n",
    "import matplotlib.pyplot as plt\n",
    "\n",
    "import numpy as np\n",
    "import trimesh\n",
    "import trimesh.voxel.creation\n",
    "import rtree\n",
    "\n",
    "import glob"
   ]
  },
  {
   "cell_type": "code",
   "execution_count": 2,
   "metadata": {},
   "outputs": [],
   "source": [
    "from torch.utils.data import Dataset"
   ]
  },
  {
   "cell_type": "code",
   "execution_count": 3,
   "metadata": {},
   "outputs": [],
   "source": [
    "import scipy.ndimage as ndimage"
   ]
  },
  {
   "cell_type": "code",
   "execution_count": 4,
   "metadata": {},
   "outputs": [],
   "source": [
    "import matplotlib.pyplot as plt\n",
    "from mpl_toolkits.mplot3d import Axes3D\n",
    "import matplotlib.gridspec as gridspec"
   ]
  },
  {
   "cell_type": "code",
   "execution_count": 6,
   "metadata": {},
   "outputs": [],
   "source": [
    "from os import listdir\n",
    "from os.path import join"
   ]
  },
  {
   "cell_type": "code",
   "execution_count": 7,
   "metadata": {},
   "outputs": [],
   "source": [
    "torch.set_printoptions(profile=\"full\")"
   ]
  },
  {
   "cell_type": "markdown",
   "metadata": {},
   "source": [
    "Load .obj files"
   ]
  },
  {
   "cell_type": "code",
   "execution_count": 8,
   "metadata": {},
   "outputs": [],
   "source": [
    "obj_folder ='./objects/gt'\n",
    "incomplete_obj_folder ='./objects/inp'"
   ]
  },
  {
   "cell_type": "code",
   "execution_count": 9,
   "metadata": {},
   "outputs": [],
   "source": [
    "objects = []\n",
    "for file in listdir(obj_folder):\n",
    "    if file.endswith(\".stl\"):\n",
    "        m = trimesh.load_mesh(join(obj_folder,file))\n",
    "        #convert to voxels\n",
    "        m_vox = trimesh.voxel.creation.voxelize(m,0.3)\n",
    "        objects.append(m_vox)\n",
    "\n",
    "incomplete_objects = []\n",
    "for file in listdir(incomplete_obj_folder):\n",
    "    if file.endswith(\".stl\"):\n",
    "        m = trimesh.load_mesh(join(incomplete_obj_folder,file))\n",
    "        #convert to voxels\n",
    "        m_vox = trimesh.voxel.creation.voxelize(m,0.3)\n",
    "        incomplete_objects.append(m_vox)"
   ]
  },
  {
   "cell_type": "code",
   "execution_count": 10,
   "metadata": {},
   "outputs": [
    {
     "data": {
      "text/plain": [
       "15"
      ]
     },
     "execution_count": 10,
     "metadata": {},
     "output_type": "execute_result"
    }
   ],
   "source": [
    "len(incomplete_objects)"
   ]
  },
  {
   "cell_type": "markdown",
   "metadata": {},
   "source": [
    "Reshape tensors with padding"
   ]
  },
  {
   "cell_type": "code",
   "execution_count": 11,
   "metadata": {},
   "outputs": [],
   "source": [
    "# Define size of the space (pix)\n",
    "w = 32\n",
    "l = 32 \n",
    "h = 64 "
   ]
  },
  {
   "cell_type": "code",
   "execution_count": 12,
   "metadata": {},
   "outputs": [],
   "source": [
    "def objects_to_matrices(objs):\n",
    "    vox_matrices = []\n",
    "    for m in objs:\n",
    "        object_matrix = torch.from_numpy(m.matrix.astype(int)) # torch.ones(m.matrix.shape)\n",
    "        scene_matrix = torch.zeros((l,w,h))\n",
    "            \n",
    "    # center the matrices in the scene\n",
    "        low = (int)(scene_matrix.size(0)//2) - (int)(object_matrix.size(0)//2)\n",
    "        up = low + object_matrix.size(0)\n",
    "    \n",
    "        low1 = (int)(scene_matrix.size(1)//2) - (int)(object_matrix.size(1)//2)\n",
    "        up1 = low1 + object_matrix.size(1)\n",
    "    \n",
    "        low2 = (int)(scene_matrix.size(2)//2) - (int)(object_matrix.size(2)//2)\n",
    "        up2 = low2 + object_matrix.size(2)\n",
    "    \n",
    "    \n",
    "        scene_matrix[low:up,low1:up1,low2:up2] = object_matrix\n",
    "        vox_matrices.append((scene_matrix))\n",
    "        \n",
    "    return vox_matrices\n",
    "    #print(scene_matrix)\n",
    "    "
   ]
  },
  {
   "cell_type": "code",
   "execution_count": 13,
   "metadata": {},
   "outputs": [
    {
     "data": {
      "text/plain": [
       "False"
      ]
     },
     "execution_count": 13,
     "metadata": {},
     "output_type": "execute_result"
    }
   ],
   "source": [
    "incomplete_objects[0]==objects[0]"
   ]
  },
  {
   "cell_type": "code",
   "execution_count": 14,
   "metadata": {},
   "outputs": [],
   "source": [
    "# convert to tensors\n",
    "vox_meshes = objects_to_matrices(objects)\n",
    "incomplete_vox_meshes = objects_to_matrices(incomplete_objects)\n"
   ]
  },
  {
   "cell_type": "code",
   "execution_count": 15,
   "metadata": {},
   "outputs": [],
   "source": [
    "# #show sample\n",
    "\n",
    "# #colors = np.empty(vox_meshes[0].shape, dtype=object)\n",
    "# fig = plt.figure(figsize=(6,8))\n",
    "# ax = fig.gca(projection='3d')\n",
    "# ax.voxels(vox_meshes[0], edgecolor='cyan')\n",
    "# plt.show()"
   ]
  },
  {
   "cell_type": "code",
   "execution_count": 16,
   "metadata": {},
   "outputs": [
    {
     "data": {
      "text/plain": [
       "15"
      ]
     },
     "execution_count": 16,
     "metadata": {},
     "output_type": "execute_result"
    }
   ],
   "source": [
    "encoded_objects = []\n",
    "for object in vox_meshes:\n",
    "    layers = object[:,:,0]\n",
    "    layers = layers.reshape(256,4)\n",
    "    for i in range(63):\n",
    "        next = object[:,:,i+1]\n",
    "        next = next.reshape(256,4)\n",
    "        layers = torch.cat([layers,next],1)\n",
    "        \n",
    "    encoded_objects.append(layers.reshape(1,256,256))\n",
    "    \n",
    "len(encoded_objects)\n",
    "\n",
    "encoded_masks = []\n",
    "for object in incomplete_vox_meshes:\n",
    "    layers = object[:,:,0]\n",
    "    layers = layers.reshape(256,4)\n",
    "    for i in range(63):\n",
    "        next = object[:,:,i+1]\n",
    "        next = next.reshape(256,4)\n",
    "        layers = torch.cat([layers,next],1)\n",
    "        \n",
    "    encoded_masks.append(layers.reshape(1,256,256))\n",
    "    \n",
    "len(encoded_objects)"
   ]
  },
  {
   "cell_type": "code",
   "execution_count": 17,
   "metadata": {},
   "outputs": [
    {
     "data": {
      "image/png": "[encoded data removed]",
      "text/plain": [
       "<Figure size 432x288 with 1 Axes>"
      ]
     },
     "metadata": {
      "needs_background": "light"
     },
     "output_type": "display_data"
    }
   ],
   "source": [
    "plt.imshow(encoded_objects[0][0])\n",
    "plt.show()\n"
   ]
  },
  {
   "cell_type": "code",
   "execution_count": 18,
   "metadata": {},
   "outputs": [
    {
     "data": {
      "image/png": "[encoded data removed]",
      "text/plain": [
       "<Figure size 432x288 with 1 Axes>"
      ]
     },
     "metadata": {
      "needs_background": "light"
     },
     "output_type": "display_data"
    }
   ],
   "source": [
    "plt.imshow(encoded_masks[0][0])\n",
    "plt.show()"
   ]
  },
  {
   "cell_type": "code",
   "execution_count": 19,
   "metadata": {},
   "outputs": [],
   "source": [
    "# #inverse procedure from 2d to 3d\n",
    "\n",
    "# c = torch.chunk(encoded_objects[0], 64, dim=1)\n",
    "# chunks=[]\n",
    "# for chunk in c:\n",
    "#     ch = chunk.reshape(32,32)\n",
    "#     chunks.append(ch)\n",
    "    \n",
    "# rearranged = torch.stack(chunks,2)\n",
    "# #colors = np.empty(vox_meshes[0].shape, dtype=object)\n",
    "# fig = plt.figure(figsize=(6,8))\n",
    "# ax = fig.gca(projection='3d')\n",
    "# ax.voxels(rearranged, edgecolor='cyan')\n",
    "# plt.show()\n",
    "# rearranged.shape\n",
    "# # c1= c[1].reshape(32,32)\n",
    "# # c1.shape\n",
    "# # plt.imshow(c1)\n",
    "# # plt.show()"
   ]
  },
  {
   "cell_type": "code",
   "execution_count": 20,
   "metadata": {},
   "outputs": [],
   "source": [
    "# #show sample\n",
    "\n",
    "# colors = np.empty(vox_meshes[0].shape, dtype=object)\n",
    "# fig = plt.figure(figsize=(6,8))\n",
    "# ax = fig.gca(projection='3d')\n",
    "# ax.voxels(test_rearr, edgecolor='cyan')\n",
    "# plt.show()"
   ]
  },
  {
   "cell_type": "code",
   "execution_count": 21,
   "metadata": {},
   "outputs": [],
   "source": [
    "#dataset class\n",
    "class image_dataset(Dataset):\n",
    "    def __init__(self, images, masks, train=True):\n",
    "        self.images = images\n",
    "        self.masks = masks\n",
    "\n",
    "\n",
    "        \n",
    "    def __getitem__(self, idx):\n",
    "        image = self.images[idx]\n",
    "        mask = self.masks[idx]        \n",
    "        #x,y = self.transform(image,mask)\n",
    "        return image,mask\n",
    "        \n",
    "    def __len__(self):\n",
    "        return len(self.images)\n"
   ]
  },
  {
   "cell_type": "code",
   "execution_count": 22,
   "metadata": {},
   "outputs": [],
   "source": [
    "from torch.utils.data import Dataset, DataLoader"
   ]
  },
  {
   "cell_type": "code",
   "execution_count": 23,
   "metadata": {},
   "outputs": [],
   "source": [
    "len_images=len(objects)\n",
    "train_size =0.8\n",
    "train_data = image_dataset(encoded_objects[:int(len_images*train_size)], encoded_masks[:int(len_images*train_size)], train=True)\n",
    "train_loader = DataLoader(train_data, batch_size = 3, shuffle = True)\n",
    "\n",
    "test_data = image_dataset(encoded_objects[int(len_images*train_size):], encoded_masks[int(len_images*train_size):], train = False)\n",
    "test_loader = DataLoader(test_data, batch_size = 3, shuffle = False)"
   ]
  },
  {
   "cell_type": "code",
   "execution_count": 24,
   "metadata": {},
   "outputs": [
    {
     "data": {
      "text/plain": [
       "12"
      ]
     },
     "execution_count": 24,
     "metadata": {},
     "output_type": "execute_result"
    }
   ],
   "source": [
    "len(train_data)"
   ]
  },
  {
   "cell_type": "code",
   "execution_count": 25,
   "metadata": {},
   "outputs": [
    {
     "data": {
      "image/png": "[encoded data removed]",
      "text/plain": [
       "<Figure size 432x288 with 2 Axes>"
      ]
     },
     "metadata": {
      "needs_background": "light"
     },
     "output_type": "display_data"
    },
    {
     "name": "stdout",
     "output_type": "stream",
     "text": [
      "torch.Size([1, 256, 256])\n"
     ]
    }
   ],
   "source": [
    "fig = plt.figure()\n",
    "ax1 = fig.add_subplot(2,2,1)\n",
    "ax1.imshow(train_data[1][1][0],cmap ='gray')\n",
    "ax2 = fig.add_subplot(2,2,2)\n",
    "ax2.imshow(train_data[1][0][0],cmap ='gray')\n",
    "plt.show()\n",
    "#print(train_data[1][1])\n",
    "print(train_data[0][0].shape)"
   ]
  },
  {
   "cell_type": "markdown",
   "metadata": {},
   "source": [
    "networks"
   ]
  },
  {
   "cell_type": "code",
   "execution_count": 26,
   "metadata": {},
   "outputs": [],
   "source": [
    "device = torch.device('cuda:0' if torch.cuda.is_available() else 'cpu')"
   ]
  },
  {
   "cell_type": "code",
   "execution_count": 27,
   "metadata": {},
   "outputs": [],
   "source": [
    "def Conv_double(in_chans, out_chans):\n",
    "    conv = nn.Sequential(\n",
    "        nn.Conv2d(in_chans,out_chans, kernel_size =3,padding =1),\n",
    "        nn.BatchNorm2d(out_chans),\n",
    "        nn.ReLU(inplace = True),\n",
    "        nn.Conv2d(out_chans, out_chans, kernel_size =3,padding = 1),\n",
    "        nn.BatchNorm2d(out_chans),\n",
    "        nn.ReLU(inplace=True)\n",
    "    )\n",
    "    return conv\n",
    "\n",
    "def Crop_tensor(source, target):\n",
    "    target_size = target.size()[2]\n",
    "    source_size = source.size()[2]\n",
    "    d = source_size - target_size\n",
    "    if d>1:\n",
    "        d = (int)(d // 2)\n",
    "        return source[:,:,d:source_size-d, d:source_size-d]\n",
    "    else:\n",
    "        return source[:,:,d:source_size, d:source_size]"
   ]
  },
  {
   "cell_type": "code",
   "execution_count": 28,
   "metadata": {},
   "outputs": [],
   "source": [
    "class UNet(nn.Module):\n",
    "    def __init__(self):\n",
    "        super(UNet, self).__init__()\n",
    "        self.maxpool = nn.MaxPool2d(kernel_size =2, stride =2)\n",
    "        \n",
    "        #convolutions\n",
    "        self.down_conv1 = Conv_double(1,64)\n",
    "        self.down_conv2 = Conv_double(64, 128)\n",
    "        self.down_conv3 = Conv_double(128, 256)\n",
    "        self.down_conv4 = Conv_double(256, 512)\n",
    "        self.down_conv5 = Conv_double(512, 1024)\n",
    "        \n",
    "        #up-convolutions\n",
    "        self.conv_trans1 = nn.ConvTranspose2d(in_channels = 1024, out_channels = 512, kernel_size=2, stride=2)\n",
    "        self.up_conv1 = Conv_double(1024, 512)\n",
    "        \n",
    "        self.conv_trans2 = nn.ConvTranspose2d(in_channels = 512, out_channels = 256, kernel_size=2, stride=2)\n",
    "        self.up_conv2 = Conv_double(512, 256)\n",
    "        \n",
    "        self.conv_trans3 = nn.ConvTranspose2d(in_channels = 256, out_channels = 128, kernel_size=2, stride=2)\n",
    "        self.up_conv3 = Conv_double(256, 128)\n",
    "        \n",
    "        self.conv_trans4 = nn.ConvTranspose2d(in_channels = 128, out_channels = 64, kernel_size=2, stride=2)\n",
    "        self.up_conv4 = Conv_double(128, 64)\n",
    "    \n",
    "        #output\n",
    "        self.out = nn.Conv2d(in_channels = 64, out_channels = 1,kernel_size=1)\n",
    "        \n",
    "        \n",
    "    def forward(self, img):\n",
    "        #bs,c,h,w\n",
    "        #encoder\n",
    "        x1 = self.down_conv1(img) # \n",
    "        x2 = self.maxpool(x1)\n",
    "        x3 = self.down_conv2(x2)   #\n",
    "        x4 = self.maxpool(x3)\n",
    "        x5 = self.down_conv3(x4)   #\n",
    "        x6 = self.maxpool(x5)\n",
    "        x7 = self.down_conv4(x6)   #\n",
    "        x8 = self.maxpool(x7)\n",
    "        x9 = self.down_conv5(x8) \n",
    "        \n",
    "        #decoder\n",
    "        x = self.conv_trans1(x9)  \n",
    "        #crop tensor\n",
    "        y = Crop_tensor(x7, x)        \n",
    "        #conacatenate\n",
    "        x = self.up_conv1(torch.cat([x,y],1))\n",
    "        \n",
    "        x = self.conv_trans2(x)        \n",
    "        y = Crop_tensor(x5, x)        \n",
    "        x = self.up_conv2(torch.cat([x,y],1))\n",
    "      \n",
    "        x = self.conv_trans3(x)        \n",
    "        y = Crop_tensor(x3, x)\n",
    "        x = self.up_conv3(torch.cat([x,y],1))\n",
    "\n",
    "        x = self.conv_trans4(x)        \n",
    "        y = Crop_tensor(x1, x)\n",
    "        x = self.up_conv4(torch.cat([x,y],1))\n",
    " \n",
    "        x = self.out(x)\n",
    "    \n",
    "        return x"
   ]
  },
  {
   "cell_type": "code",
   "execution_count": 29,
   "metadata": {},
   "outputs": [],
   "source": [
    "model = UNet()\n",
    "model = model.to(device)\n",
    "#model.apply(weights_init)\n",
    "#print(model)"
   ]
  },
  {
   "cell_type": "code",
   "execution_count": 30,
   "metadata": {},
   "outputs": [],
   "source": [
    "learning_rate = 0.001\n",
    "criterion = nn.BCEWithLogitsLoss()\n",
    "optimizer = torch.optim.Adam(model.parameters(), lr=learning_rate)"
   ]
  },
  {
   "cell_type": "code",
   "execution_count": 31,
   "metadata": {},
   "outputs": [
    {
     "name": "stdout",
     "output_type": "stream",
     "text": [
      "Epoch [1/800], Step [0/4], Loss: 0.735214, Accuracy:294.3115234375\n"
     ]
    },
    {
     "ename": "RuntimeError",
     "evalue": "CUDA out of memory. Tried to allocate 48.00 MiB (GPU 0; 4.00 GiB total capacity; 1.34 GiB already allocated; 14.31 MiB free; 1.40 GiB reserved in total by PyTorch)",
     "output_type": "error",
     "traceback": [
      "\u001b[1;31m---------------------------------------------------------------------------\u001b[0m",
      "\u001b[1;31mRuntimeError\u001b[0m                              Traceback (most recent call last)",
      "\u001b[1;32m<ipython-input-31-2c7490234e49>\u001b[0m in \u001b[0;36m<module>\u001b[1;34m\u001b[0m\n\u001b[0;32m     13\u001b[0m \u001b[1;33m\u001b[0m\u001b[0m\n\u001b[0;32m     14\u001b[0m         \u001b[1;31m# Forward pass\u001b[0m\u001b[1;33m\u001b[0m\u001b[1;33m\u001b[0m\u001b[1;33m\u001b[0m\u001b[0m\n\u001b[1;32m---> 15\u001b[1;33m         \u001b[0moutputs\u001b[0m \u001b[1;33m=\u001b[0m \u001b[0mmodel\u001b[0m\u001b[1;33m(\u001b[0m\u001b[0mmasks\u001b[0m\u001b[1;33m)\u001b[0m\u001b[1;33m\u001b[0m\u001b[1;33m\u001b[0m\u001b[0m\n\u001b[0m\u001b[0;32m     16\u001b[0m \u001b[1;33m\u001b[0m\u001b[0m\n\u001b[0;32m     17\u001b[0m         \u001b[0msoftmax\u001b[0m \u001b[1;33m=\u001b[0m \u001b[0mtorch\u001b[0m\u001b[1;33m.\u001b[0m\u001b[0mnn\u001b[0m\u001b[1;33m.\u001b[0m\u001b[0mfunctional\u001b[0m\u001b[1;33m.\u001b[0m\u001b[0mlog_softmax\u001b[0m\u001b[1;33m(\u001b[0m\u001b[0moutputs\u001b[0m\u001b[1;33m,\u001b[0m \u001b[0mdim\u001b[0m\u001b[1;33m=\u001b[0m\u001b[1;36m1\u001b[0m\u001b[1;33m)\u001b[0m\u001b[1;33m\u001b[0m\u001b[1;33m\u001b[0m\u001b[0m\n",
      "\u001b[1;32m~\\ANACONDA3\\lib\\site-packages\\torch\\nn\\modules\\module.py\u001b[0m in \u001b[0;36m__call__\u001b[1;34m(self, *input, **kwargs)\u001b[0m\n\u001b[0;32m    548\u001b[0m             \u001b[0mresult\u001b[0m \u001b[1;33m=\u001b[0m \u001b[0mself\u001b[0m\u001b[1;33m.\u001b[0m\u001b[0m_slow_forward\u001b[0m\u001b[1;33m(\u001b[0m\u001b[1;33m*\u001b[0m\u001b[0minput\u001b[0m\u001b[1;33m,\u001b[0m \u001b[1;33m**\u001b[0m\u001b[0mkwargs\u001b[0m\u001b[1;33m)\u001b[0m\u001b[1;33m\u001b[0m\u001b[1;33m\u001b[0m\u001b[0m\n\u001b[0;32m    549\u001b[0m         \u001b[1;32melse\u001b[0m\u001b[1;33m:\u001b[0m\u001b[1;33m\u001b[0m\u001b[1;33m\u001b[0m\u001b[0m\n\u001b[1;32m--> 550\u001b[1;33m             \u001b[0mresult\u001b[0m \u001b[1;33m=\u001b[0m \u001b[0mself\u001b[0m\u001b[1;33m.\u001b[0m\u001b[0mforward\u001b[0m\u001b[1;33m(\u001b[0m\u001b[1;33m*\u001b[0m\u001b[0minput\u001b[0m\u001b[1;33m,\u001b[0m \u001b[1;33m**\u001b[0m\u001b[0mkwargs\u001b[0m\u001b[1;33m)\u001b[0m\u001b[1;33m\u001b[0m\u001b[1;33m\u001b[0m\u001b[0m\n\u001b[0m\u001b[0;32m    551\u001b[0m         \u001b[1;32mfor\u001b[0m \u001b[0mhook\u001b[0m \u001b[1;32min\u001b[0m \u001b[0mself\u001b[0m\u001b[1;33m.\u001b[0m\u001b[0m_forward_hooks\u001b[0m\u001b[1;33m.\u001b[0m\u001b[0mvalues\u001b[0m\u001b[1;33m(\u001b[0m\u001b[1;33m)\u001b[0m\u001b[1;33m:\u001b[0m\u001b[1;33m\u001b[0m\u001b[1;33m\u001b[0m\u001b[0m\n\u001b[0;32m    552\u001b[0m             \u001b[0mhook_result\u001b[0m \u001b[1;33m=\u001b[0m \u001b[0mhook\u001b[0m\u001b[1;33m(\u001b[0m\u001b[0mself\u001b[0m\u001b[1;33m,\u001b[0m \u001b[0minput\u001b[0m\u001b[1;33m,\u001b[0m \u001b[0mresult\u001b[0m\u001b[1;33m)\u001b[0m\u001b[1;33m\u001b[0m\u001b[1;33m\u001b[0m\u001b[0m\n",
      "\u001b[1;32m<ipython-input-28-23b0cd8121fc>\u001b[0m in \u001b[0;36mforward\u001b[1;34m(self, img)\u001b[0m\n\u001b[0;32m     58\u001b[0m         \u001b[0mx\u001b[0m \u001b[1;33m=\u001b[0m \u001b[0mself\u001b[0m\u001b[1;33m.\u001b[0m\u001b[0mconv_trans4\u001b[0m\u001b[1;33m(\u001b[0m\u001b[0mx\u001b[0m\u001b[1;33m)\u001b[0m\u001b[1;33m\u001b[0m\u001b[1;33m\u001b[0m\u001b[0m\n\u001b[0;32m     59\u001b[0m         \u001b[0my\u001b[0m \u001b[1;33m=\u001b[0m \u001b[0mCrop_tensor\u001b[0m\u001b[1;33m(\u001b[0m\u001b[0mx1\u001b[0m\u001b[1;33m,\u001b[0m \u001b[0mx\u001b[0m\u001b[1;33m)\u001b[0m\u001b[1;33m\u001b[0m\u001b[1;33m\u001b[0m\u001b[0m\n\u001b[1;32m---> 60\u001b[1;33m         \u001b[0mx\u001b[0m \u001b[1;33m=\u001b[0m \u001b[0mself\u001b[0m\u001b[1;33m.\u001b[0m\u001b[0mup_conv4\u001b[0m\u001b[1;33m(\u001b[0m\u001b[0mtorch\u001b[0m\u001b[1;33m.\u001b[0m\u001b[0mcat\u001b[0m\u001b[1;33m(\u001b[0m\u001b[1;33m[\u001b[0m\u001b[0mx\u001b[0m\u001b[1;33m,\u001b[0m\u001b[0my\u001b[0m\u001b[1;33m]\u001b[0m\u001b[1;33m,\u001b[0m\u001b[1;36m1\u001b[0m\u001b[1;33m)\u001b[0m\u001b[1;33m)\u001b[0m\u001b[1;33m\u001b[0m\u001b[1;33m\u001b[0m\u001b[0m\n\u001b[0m\u001b[0;32m     61\u001b[0m \u001b[1;33m\u001b[0m\u001b[0m\n\u001b[0;32m     62\u001b[0m         \u001b[0mx\u001b[0m \u001b[1;33m=\u001b[0m \u001b[0mself\u001b[0m\u001b[1;33m.\u001b[0m\u001b[0mout\u001b[0m\u001b[1;33m(\u001b[0m\u001b[0mx\u001b[0m\u001b[1;33m)\u001b[0m\u001b[1;33m\u001b[0m\u001b[1;33m\u001b[0m\u001b[0m\n",
      "\u001b[1;32m~\\ANACONDA3\\lib\\site-packages\\torch\\nn\\modules\\module.py\u001b[0m in \u001b[0;36m__call__\u001b[1;34m(self, *input, **kwargs)\u001b[0m\n\u001b[0;32m    548\u001b[0m             \u001b[0mresult\u001b[0m \u001b[1;33m=\u001b[0m \u001b[0mself\u001b[0m\u001b[1;33m.\u001b[0m\u001b[0m_slow_forward\u001b[0m\u001b[1;33m(\u001b[0m\u001b[1;33m*\u001b[0m\u001b[0minput\u001b[0m\u001b[1;33m,\u001b[0m \u001b[1;33m**\u001b[0m\u001b[0mkwargs\u001b[0m\u001b[1;33m)\u001b[0m\u001b[1;33m\u001b[0m\u001b[1;33m\u001b[0m\u001b[0m\n\u001b[0;32m    549\u001b[0m         \u001b[1;32melse\u001b[0m\u001b[1;33m:\u001b[0m\u001b[1;33m\u001b[0m\u001b[1;33m\u001b[0m\u001b[0m\n\u001b[1;32m--> 550\u001b[1;33m             \u001b[0mresult\u001b[0m \u001b[1;33m=\u001b[0m \u001b[0mself\u001b[0m\u001b[1;33m.\u001b[0m\u001b[0mforward\u001b[0m\u001b[1;33m(\u001b[0m\u001b[1;33m*\u001b[0m\u001b[0minput\u001b[0m\u001b[1;33m,\u001b[0m \u001b[1;33m**\u001b[0m\u001b[0mkwargs\u001b[0m\u001b[1;33m)\u001b[0m\u001b[1;33m\u001b[0m\u001b[1;33m\u001b[0m\u001b[0m\n\u001b[0m\u001b[0;32m    551\u001b[0m         \u001b[1;32mfor\u001b[0m \u001b[0mhook\u001b[0m \u001b[1;32min\u001b[0m \u001b[0mself\u001b[0m\u001b[1;33m.\u001b[0m\u001b[0m_forward_hooks\u001b[0m\u001b[1;33m.\u001b[0m\u001b[0mvalues\u001b[0m\u001b[1;33m(\u001b[0m\u001b[1;33m)\u001b[0m\u001b[1;33m:\u001b[0m\u001b[1;33m\u001b[0m\u001b[1;33m\u001b[0m\u001b[0m\n\u001b[0;32m    552\u001b[0m             \u001b[0mhook_result\u001b[0m \u001b[1;33m=\u001b[0m \u001b[0mhook\u001b[0m\u001b[1;33m(\u001b[0m\u001b[0mself\u001b[0m\u001b[1;33m,\u001b[0m \u001b[0minput\u001b[0m\u001b[1;33m,\u001b[0m \u001b[0mresult\u001b[0m\u001b[1;33m)\u001b[0m\u001b[1;33m\u001b[0m\u001b[1;33m\u001b[0m\u001b[0m\n",
      "\u001b[1;32m~\\ANACONDA3\\lib\\site-packages\\torch\\nn\\modules\\container.py\u001b[0m in \u001b[0;36mforward\u001b[1;34m(self, input)\u001b[0m\n\u001b[0;32m     98\u001b[0m     \u001b[1;32mdef\u001b[0m \u001b[0mforward\u001b[0m\u001b[1;33m(\u001b[0m\u001b[0mself\u001b[0m\u001b[1;33m,\u001b[0m \u001b[0minput\u001b[0m\u001b[1;33m)\u001b[0m\u001b[1;33m:\u001b[0m\u001b[1;33m\u001b[0m\u001b[1;33m\u001b[0m\u001b[0m\n\u001b[0;32m     99\u001b[0m         \u001b[1;32mfor\u001b[0m \u001b[0mmodule\u001b[0m \u001b[1;32min\u001b[0m \u001b[0mself\u001b[0m\u001b[1;33m:\u001b[0m\u001b[1;33m\u001b[0m\u001b[1;33m\u001b[0m\u001b[0m\n\u001b[1;32m--> 100\u001b[1;33m             \u001b[0minput\u001b[0m \u001b[1;33m=\u001b[0m \u001b[0mmodule\u001b[0m\u001b[1;33m(\u001b[0m\u001b[0minput\u001b[0m\u001b[1;33m)\u001b[0m\u001b[1;33m\u001b[0m\u001b[1;33m\u001b[0m\u001b[0m\n\u001b[0m\u001b[0;32m    101\u001b[0m         \u001b[1;32mreturn\u001b[0m \u001b[0minput\u001b[0m\u001b[1;33m\u001b[0m\u001b[1;33m\u001b[0m\u001b[0m\n\u001b[0;32m    102\u001b[0m \u001b[1;33m\u001b[0m\u001b[0m\n",
      "\u001b[1;32m~\\ANACONDA3\\lib\\site-packages\\torch\\nn\\modules\\module.py\u001b[0m in \u001b[0;36m__call__\u001b[1;34m(self, *input, **kwargs)\u001b[0m\n\u001b[0;32m    548\u001b[0m             \u001b[0mresult\u001b[0m \u001b[1;33m=\u001b[0m \u001b[0mself\u001b[0m\u001b[1;33m.\u001b[0m\u001b[0m_slow_forward\u001b[0m\u001b[1;33m(\u001b[0m\u001b[1;33m*\u001b[0m\u001b[0minput\u001b[0m\u001b[1;33m,\u001b[0m \u001b[1;33m**\u001b[0m\u001b[0mkwargs\u001b[0m\u001b[1;33m)\u001b[0m\u001b[1;33m\u001b[0m\u001b[1;33m\u001b[0m\u001b[0m\n\u001b[0;32m    549\u001b[0m         \u001b[1;32melse\u001b[0m\u001b[1;33m:\u001b[0m\u001b[1;33m\u001b[0m\u001b[1;33m\u001b[0m\u001b[0m\n\u001b[1;32m--> 550\u001b[1;33m             \u001b[0mresult\u001b[0m \u001b[1;33m=\u001b[0m \u001b[0mself\u001b[0m\u001b[1;33m.\u001b[0m\u001b[0mforward\u001b[0m\u001b[1;33m(\u001b[0m\u001b[1;33m*\u001b[0m\u001b[0minput\u001b[0m\u001b[1;33m,\u001b[0m \u001b[1;33m**\u001b[0m\u001b[0mkwargs\u001b[0m\u001b[1;33m)\u001b[0m\u001b[1;33m\u001b[0m\u001b[1;33m\u001b[0m\u001b[0m\n\u001b[0m\u001b[0;32m    551\u001b[0m         \u001b[1;32mfor\u001b[0m \u001b[0mhook\u001b[0m \u001b[1;32min\u001b[0m \u001b[0mself\u001b[0m\u001b[1;33m.\u001b[0m\u001b[0m_forward_hooks\u001b[0m\u001b[1;33m.\u001b[0m\u001b[0mvalues\u001b[0m\u001b[1;33m(\u001b[0m\u001b[1;33m)\u001b[0m\u001b[1;33m:\u001b[0m\u001b[1;33m\u001b[0m\u001b[1;33m\u001b[0m\u001b[0m\n\u001b[0;32m    552\u001b[0m             \u001b[0mhook_result\u001b[0m \u001b[1;33m=\u001b[0m \u001b[0mhook\u001b[0m\u001b[1;33m(\u001b[0m\u001b[0mself\u001b[0m\u001b[1;33m,\u001b[0m \u001b[0minput\u001b[0m\u001b[1;33m,\u001b[0m \u001b[0mresult\u001b[0m\u001b[1;33m)\u001b[0m\u001b[1;33m\u001b[0m\u001b[1;33m\u001b[0m\u001b[0m\n",
      "\u001b[1;32m~\\ANACONDA3\\lib\\site-packages\\torch\\nn\\modules\\conv.py\u001b[0m in \u001b[0;36mforward\u001b[1;34m(self, input)\u001b[0m\n\u001b[0;32m    347\u001b[0m \u001b[1;33m\u001b[0m\u001b[0m\n\u001b[0;32m    348\u001b[0m     \u001b[1;32mdef\u001b[0m \u001b[0mforward\u001b[0m\u001b[1;33m(\u001b[0m\u001b[0mself\u001b[0m\u001b[1;33m,\u001b[0m \u001b[0minput\u001b[0m\u001b[1;33m)\u001b[0m\u001b[1;33m:\u001b[0m\u001b[1;33m\u001b[0m\u001b[1;33m\u001b[0m\u001b[0m\n\u001b[1;32m--> 349\u001b[1;33m         \u001b[1;32mreturn\u001b[0m \u001b[0mself\u001b[0m\u001b[1;33m.\u001b[0m\u001b[0m_conv_forward\u001b[0m\u001b[1;33m(\u001b[0m\u001b[0minput\u001b[0m\u001b[1;33m,\u001b[0m \u001b[0mself\u001b[0m\u001b[1;33m.\u001b[0m\u001b[0mweight\u001b[0m\u001b[1;33m)\u001b[0m\u001b[1;33m\u001b[0m\u001b[1;33m\u001b[0m\u001b[0m\n\u001b[0m\u001b[0;32m    350\u001b[0m \u001b[1;33m\u001b[0m\u001b[0m\n\u001b[0;32m    351\u001b[0m \u001b[1;32mclass\u001b[0m \u001b[0mConv3d\u001b[0m\u001b[1;33m(\u001b[0m\u001b[0m_ConvNd\u001b[0m\u001b[1;33m)\u001b[0m\u001b[1;33m:\u001b[0m\u001b[1;33m\u001b[0m\u001b[1;33m\u001b[0m\u001b[0m\n",
      "\u001b[1;32m~\\ANACONDA3\\lib\\site-packages\\torch\\nn\\modules\\conv.py\u001b[0m in \u001b[0;36m_conv_forward\u001b[1;34m(self, input, weight)\u001b[0m\n\u001b[0;32m    344\u001b[0m                             _pair(0), self.dilation, self.groups)\n\u001b[0;32m    345\u001b[0m         return F.conv2d(input, weight, self.bias, self.stride,\n\u001b[1;32m--> 346\u001b[1;33m                         self.padding, self.dilation, self.groups)\n\u001b[0m\u001b[0;32m    347\u001b[0m \u001b[1;33m\u001b[0m\u001b[0m\n\u001b[0;32m    348\u001b[0m     \u001b[1;32mdef\u001b[0m \u001b[0mforward\u001b[0m\u001b[1;33m(\u001b[0m\u001b[0mself\u001b[0m\u001b[1;33m,\u001b[0m \u001b[0minput\u001b[0m\u001b[1;33m)\u001b[0m\u001b[1;33m:\u001b[0m\u001b[1;33m\u001b[0m\u001b[1;33m\u001b[0m\u001b[0m\n",
      "\u001b[1;31mRuntimeError\u001b[0m: CUDA out of memory. Tried to allocate 48.00 MiB (GPU 0; 4.00 GiB total capacity; 1.34 GiB already allocated; 14.31 MiB free; 1.40 GiB reserved in total by PyTorch)"
     ]
    }
   ],
   "source": [
    "# The training loop\n",
    "epochs = 800\n",
    "total_steps = len(train_loader)\n",
    "\n",
    "for epoch in range(epochs):\n",
    "    total_train = 0\n",
    "    correct_train = 0\n",
    "    for i, (images, masks) in enumerate(train_loader):\n",
    "        #print(masks.shape)\n",
    "\n",
    "        images = images.to(device)\n",
    "        masks = masks.to(device)\n",
    "\n",
    "        # Forward pass\n",
    "        outputs = model(masks)\n",
    "        \n",
    "        softmax = torch.nn.functional.log_softmax(outputs, dim=1)\n",
    "        loss = criterion(outputs, images)\n",
    "       \n",
    "        # Backward and optimize\n",
    "        optimizer.zero_grad()\n",
    "        loss.backward()\n",
    "        optimizer.step()\n",
    "        \n",
    "        # accuracy\n",
    "        _, predicted = torch.max(outputs.data, 1)\n",
    "        total_train += images.nelement()\n",
    "        correct_train += (predicted == masks).sum().item()\n",
    "        train_accuracy = 100 * correct_train / total_train\n",
    "         \n",
    "        if (i) % 100 == 0:\n",
    "            print (f\"Epoch [{epoch + 1}/{epochs}], Step [{i}/{total_steps}], Loss: {loss.item():4f}, Accuracy:{train_accuracy}\")"
   ]
  },
  {
   "cell_type": "code",
   "execution_count": null,
   "metadata": {},
   "outputs": [],
   "source": [
    "total_test = 0\n",
    "correct_test = 0\n",
    "\n",
    "for i, (images, masks) in enumerate(tεστ_loader):\n",
    "    \n",
    "#     #blur masks-2 in the batch\n",
    "#     masks[0] = torch.from_numpy(gaussian_filter(masks[0],10))\n",
    "#     masks[1] = torch.from_numpy(gaussian_filter(masks[1],1))\n",
    "    \n",
    "    fig = plt.figure()\n",
    "    ax1 = fig.add_subplot(2,2,1)\n",
    "    ax1.imshow(np.squeeze(masks[0].cpu().detach().numpy()),cmap = 'gray')\n",
    "    \n",
    "    masks = masks.to(device)\n",
    "    images = images.to(device)\n",
    "    output = model(masks)\n",
    "    softmax = torch.nn.functional.log_softmax(output, dim=1)\n",
    "    loss = criterion(output, images)\n",
    "   \n",
    "    print(\"loss:\", loss)\n",
    "    \n",
    "     # accuracy\n",
    "    _, predicted = torch.max(output.data, 1)\n",
    "    total_test += images.nelement()\n",
    "    correct_test += (predicted == masks).sum().item()\n",
    "    test_accuracy = 100 * correct_train / total_train\n",
    "    print(\"test accuracy:\", test_accuracy)\n",
    "\n",
    "    fig = plt.figure()\n",
    "    ax1 = fig.add_subplot(2,2,1)\n",
    "    ax1.imshow(np.squeeze(masks[0].cpu().detach().numpy()),cmap = 'gray')\n",
    "    ax2 = fig.add_subplot(2,2,2)\n",
    "    ax2.imshow(np.squeeze(output[0].cpu().detach().numpy()),cmap = 'gray')\n",
    "    \n",
    "    ax3 = fig.add_subplot(2,2,3)\n",
    "    ax3.imshow(np.squeeze(images[0].cpu().detach().numpy()),cmap = 'gray')\n",
    "    \n",
    "    plt.show()"
   ]
  },
  {
   "cell_type": "markdown",
   "metadata": {},
   "source": [
    "### Training"
   ]
  },
  {
   "cell_type": "code",
   "execution_count": null,
   "metadata": {
    "scrolled": true
   },
   "outputs": [],
   "source": [
    "myModel = adversarialModel(num_epochs=500, samples=3, batch=3, betas=(0.5,0.5),\n",
    "          g_lr=0.002, d_lr=0.001, size=32, lat_vec =200,data_path='output/models/', transforms=None)"
   ]
  },
  {
   "cell_type": "code",
   "execution_count": null,
   "metadata": {},
   "outputs": [],
   "source": [
    "myModel.train() #reaaaaally bad results :) "
   ]
  },
  {
   "cell_type": "code",
   "execution_count": null,
   "metadata": {},
   "outputs": [],
   "source": [
    "some_noise = make_noise(1, 200)\n",
    "some_noise = some_noise.cuda()\n",
    "samples = myModel.generator(some_noise).cpu().data.numpy()"
   ]
  },
  {
   "cell_type": "code",
   "execution_count": null,
   "metadata": {},
   "outputs": [],
   "source": [
    "image = np.squeeze(samples,0)\n",
    "positive = image.__ge__(0.1)\n",
    "positive"
   ]
  },
  {
   "cell_type": "code",
   "execution_count": null,
   "metadata": {},
   "outputs": [],
   "source": [
    "torch.autograd.set_detect_anomaly(True)"
   ]
  },
  {
   "cell_type": "code",
   "execution_count": null,
   "metadata": {},
   "outputs": [],
   "source": [
    "vox_to_display = myModel.fake_data.cpu().data.squeeze().numpy()\n",
    "vox_to_display[0] "
   ]
  },
  {
   "cell_type": "code",
   "execution_count": null,
   "metadata": {},
   "outputs": [],
   "source": [
    "#I CAN FIND THE POSITIONS OF THE NON-ZERO ELEMENTS...CAN I USE THIS?\n",
    "\n",
    "#get the values > number\n",
    "voxels = image.__ge__(0.5)\n",
    "fig = plt.figure(figsize=(32, 16))\n",
    "gs = gridspec.GridSpec(2, 4)\n",
    "gs.update(wspace=0.05, hspace=0.05)\n",
    "\n",
    "print(voxels.shape)\n",
    "#print(voxels)\n",
    "for i, sample in enumerate(voxels):\n",
    "        #print(sample.shape)\n",
    "        s = sample.nonzero()#.reshape([3,27000])\n",
    "        #print(s)\n",
    "        x,y,z = s\n",
    "        \n",
    "        ax = plt.subplot(gs[i], projection='3d')\n",
    "        ax.scatter(x, y, z, zdir='z', c='red')\n",
    "        ax.set_xticklabels([])\n",
    "        ax.set_yticklabels([])\n",
    "        \n",
    "        fig = plt.figure()\n",
    "        fig.set_size_inches(18.5, 16.5)\n",
    "        ax = fig.gca(projection='3d')\n",
    "        ax.voxels(voxels.squeeze())#, edgecolor='cyan')\n",
    "        #ax.set_aspect('equal')\n",
    "#plt.savefig(path + '{}.png'.format(str(iteration).zfill(3)), bbox_inches='tight')\n",
    "#plt.close()\n",
    "\n",
    "\n",
    "#print(test_vox[0].shape)\n",
    "#v=test_vox[0].squeeze()#.reshape([3,8000])\n",
    "#print(v.shape)\n",
    "#ax.voxels(v)\n",
    "#plt.show()"
   ]
  },
  {
   "cell_type": "code",
   "execution_count": null,
   "metadata": {},
   "outputs": [],
   "source": []
  }
 ],
 "metadata": {
  "kernelspec": {
   "display_name": "Python 3",
   "language": "python",
   "name": "python3"
  },
  "language_info": {
   "codemirror_mode": {
    "name": "ipython",
    "version": 3
   },
   "file_extension": ".py",
   "mimetype": "text/x-python",
   "name": "python",
   "nbconvert_exporter": "python",
   "pygments_lexer": "ipython3",
   "version": "3.7.6"
  }
 },
 "nbformat": 4,
 "nbformat_minor": 4
}
