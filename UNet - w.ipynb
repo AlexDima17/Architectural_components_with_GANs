{
 "cells": [
  {
   "cell_type": "code",
   "execution_count": 2,
   "metadata": {},
   "outputs": [],
   "source": [
    "import torch\n",
    "import torch.nn as nn\n",
    "import torchvision.transforms.functional as TF\n",
    "from torchvision import transforms, utils,datasets\n",
    "from torch.utils.data import Dataset, DataLoader\n",
    "\n",
    "import numpy as np\n",
    "import matplotlib.pyplot as plt\n",
    "\n",
    "from PIL import Image\n",
    "\n",
    "import glob"
   ]
  },
  {
   "cell_type": "markdown",
   "metadata": {},
   "source": [
    "##### Define data paths"
   ]
  },
  {
   "cell_type": "code",
   "execution_count": 3,
   "metadata": {},
   "outputs": [
    {
     "name": "stdout",
     "output_type": "stream",
     "text": [
      "50\n"
     ]
    }
   ],
   "source": [
    "#get all image and mask paths\n",
    "image_paths = glob.glob(\"C:\\\\Users\\\\Alexandra\\\\Desktop\\\\thesis\\\\9_week\\\\data\\\\imgB\\\\*.jpg\")\n",
    "mask_paths = glob.glob(\"C:\\\\Users\\\\Alexandra\\\\Desktop\\\\thesis\\\\9_week\\\\data\\\\mskB\\\\*.jpg\")\n",
    "\n",
    "#split paths\n",
    "len_images = len(image_paths)\n",
    "print(len_images)\n",
    "train_size = 0.8\n",
    "\n",
    "#length of image and mask folder is the same\n",
    "train_image_paths = image_paths [:int(len_images*train_size)]\n",
    "test_image_paths = image_paths[int(len_images*train_size):]\n",
    "\n",
    "train_mask_paths = mask_paths [:int(len_images*train_size)]\n",
    "test_mask_paths = mask_paths[int(len_images*train_size):]\n"
   ]
  },
  {
   "cell_type": "code",
   "execution_count": 4,
   "metadata": {},
   "outputs": [],
   "source": [
    "#torch.set_printoptions(profile=\"full\")"
   ]
  },
  {
   "cell_type": "markdown",
   "metadata": {},
   "source": [
    "##### Custom dataset"
   ]
  },
  {
   "cell_type": "code",
   "execution_count": 5,
   "metadata": {},
   "outputs": [],
   "source": [
    "#dataset class\n",
    "class image_dataset(Dataset):\n",
    "    def __init__(self, images, masks, train=True):\n",
    "        self.images = images\n",
    "        self.masks = masks\n",
    "#         self.num_classes = num_classes\n",
    "#         self.transforms = transforms\n",
    "\n",
    "    def transform(self, image,mask):\n",
    "        resize_im = transforms.Resize(size = (256,256), interpolation=Image.NEAREST)\n",
    "        resize_m = transforms.Resize(size = (256,256), interpolation=Image.NEAREST)\n",
    "        gray =  transforms.Grayscale(num_output_channels=1)\n",
    "        \n",
    "        image = resize_im(image)\n",
    "        mask = resize_m(mask)\n",
    "        \n",
    "        image = gray(image)\n",
    "        mask = gray(mask)\n",
    "        \n",
    "        \n",
    "        ####\n",
    "        image = TF.to_tensor(image)\n",
    "        mask = TF.to_tensor(mask)\n",
    "        mask = mask.__ge__(0.7).type(torch.FloatTensor) \n",
    "        return image,mask\n",
    "        \n",
    "    def __getitem__(self, idx):\n",
    "        image = Image.open(self.images[idx])\n",
    "        mask = Image.open(self.masks[idx])        \n",
    "        x,y = self.transform(image,mask)\n",
    "        return x,y\n",
    "        \n",
    "    def __len__(self):\n",
    "        return len(self.images)\n"
   ]
  },
  {
   "cell_type": "code",
   "execution_count": 6,
   "metadata": {},
   "outputs": [],
   "source": [
    "train_data = image_dataset(train_image_paths, train_mask_paths, train=True)\n",
    "train_loader = DataLoader(train_data, batch_size = 3, shuffle = True)\n",
    "\n",
    "test_data = image_dataset(test_image_paths, test_mask_paths, train = False)\n",
    "test_loader = DataLoader(test_data, batch_size = 3, shuffle = False)"
   ]
  },
  {
   "cell_type": "code",
   "execution_count": 7,
   "metadata": {},
   "outputs": [
    {
     "data": {
      "image/png": "[encoded data removed]",
      "text/plain": [
       "<Figure size 432x288 with 2 Axes>"
      ]
     },
     "metadata": {
      "needs_background": "light"
     },
     "output_type": "display_data"
    },
    {
     "name": "stdout",
     "output_type": "stream",
     "text": [
      "torch.Size([1, 256, 256])\n"
     ]
    }
   ],
   "source": [
    "fig = plt.figure()\n",
    "ax1 = fig.add_subplot(2,2,1)\n",
    "ax1.imshow(train_data[0][1][0],cmap ='gray')\n",
    "ax2 = fig.add_subplot(2,2,2)\n",
    "ax2.imshow(train_data[0][0][0],cmap ='gray')\n",
    "plt.show()\n",
    "#print(train_data[1][1])\n",
    "print(train_data[0][0].shape)"
   ]
  },
  {
   "cell_type": "code",
   "execution_count": 8,
   "metadata": {},
   "outputs": [],
   "source": [
    "# Use gpu for training if available else use cpu\n",
    "device = torch.device('cuda:0' if torch.cuda.is_available() else 'cpu')"
   ]
  },
  {
   "cell_type": "code",
   "execution_count": 9,
   "metadata": {},
   "outputs": [],
   "source": [
    "def Conv_double(in_chans, out_chans):\n",
    "    conv = nn.Sequential(\n",
    "        nn.Conv2d(in_chans,out_chans, kernel_size =3,padding =1),\n",
    "        nn.BatchNorm2d(out_chans),\n",
    "        nn.ReLU(inplace = True),\n",
    "        nn.Conv2d(out_chans, out_chans, kernel_size =3,padding = 1),\n",
    "        nn.BatchNorm2d(out_chans),\n",
    "        nn.ReLU(inplace=True)\n",
    "    )\n",
    "    return conv\n",
    "\n",
    "def Crop_tensor(source, target):\n",
    "    target_size = target.size()[2]\n",
    "    source_size = source.size()[2]\n",
    "    d = source_size - target_size\n",
    "    if d>1:\n",
    "        d = (int)(d // 2)\n",
    "        return source[:,:,d:source_size-d, d:source_size-d]\n",
    "    else:\n",
    "        return source[:,:,d:source_size, d:source_size]"
   ]
  },
  {
   "cell_type": "code",
   "execution_count": 10,
   "metadata": {},
   "outputs": [],
   "source": [
    "class UNet(nn.Module):\n",
    "    def __init__(self):\n",
    "        super(UNet, self).__init__()\n",
    "        self.maxpool = nn.MaxPool2d(kernel_size =2, stride =2)\n",
    "        \n",
    "        #convolutions\n",
    "        self.down_conv1 = Conv_double(1,64)\n",
    "        self.down_conv2 = Conv_double(64, 128)\n",
    "        self.down_conv3 = Conv_double(128, 256)\n",
    "        self.down_conv4 = Conv_double(256, 512)\n",
    "        self.down_conv5 = Conv_double(512, 1024)\n",
    "        \n",
    "        #up-convolutions\n",
    "        self.conv_trans1 = nn.ConvTranspose2d(in_channels = 1024, out_channels = 512, kernel_size=2, stride=2)\n",
    "        self.up_conv1 = Conv_double(1024, 512)\n",
    "        \n",
    "        self.conv_trans2 = nn.ConvTranspose2d(in_channels = 512, out_channels = 256, kernel_size=2, stride=2)\n",
    "        self.up_conv2 = Conv_double(512, 256)\n",
    "        \n",
    "        self.conv_trans3 = nn.ConvTranspose2d(in_channels = 256, out_channels = 128, kernel_size=2, stride=2)\n",
    "        self.up_conv3 = Conv_double(256, 128)\n",
    "        \n",
    "        self.conv_trans4 = nn.ConvTranspose2d(in_channels = 128, out_channels = 64, kernel_size=2, stride=2)\n",
    "        self.up_conv4 = Conv_double(128, 64)\n",
    "    \n",
    "        #output\n",
    "        self.out = nn.Conv2d(in_channels = 64, out_channels = 1,kernel_size=1)\n",
    "        \n",
    "        #weights\n",
    "#         for m in self.modules():\n",
    "#                     if isinstance(m, nn.Conv2d):\n",
    "#                             n = m.kernel_size[0] * m.kernel_size[1] * m.out_channels\n",
    "#                             m.weight.data.normal_(0, math.sqrt(2. / n))\n",
    "\n",
    "\n",
    "        \n",
    "    def forward(self, img):\n",
    "        #bs,c,h,w\n",
    "        #encoder\n",
    "        x1 = self.down_conv1(img) # \n",
    "        x2 = self.maxpool(x1)\n",
    "        x3 = self.down_conv2(x2)   #\n",
    "        x4 = self.maxpool(x3)\n",
    "        x5 = self.down_conv3(x4)   #\n",
    "        x6 = self.maxpool(x5)\n",
    "        x7 = self.down_conv4(x6)   #\n",
    "        x8 = self.maxpool(x7)\n",
    "        x9 = self.down_conv5(x8) \n",
    "        \n",
    "        #decoder\n",
    "        x = self.conv_trans1(x9)  \n",
    "        #crop tensor\n",
    "        y = Crop_tensor(x7, x)        \n",
    "        #conacatenate\n",
    "        x = self.up_conv1(torch.cat([x,y],1))\n",
    "        \n",
    "        x = self.conv_trans2(x)        \n",
    "        y = Crop_tensor(x5, x)        \n",
    "        x = self.up_conv2(torch.cat([x,y],1))\n",
    "      \n",
    "        x = self.conv_trans3(x)        \n",
    "        y = Crop_tensor(x3, x)\n",
    "        x = self.up_conv3(torch.cat([x,y],1))\n",
    "\n",
    "        x = self.conv_trans4(x)        \n",
    "        y = Crop_tensor(x1, x)\n",
    "        x = self.up_conv4(torch.cat([x,y],1))\n",
    " \n",
    "        x = self.out(x)\n",
    "    \n",
    "        return x\n",
    "  "
   ]
  },
  {
   "cell_type": "code",
   "execution_count": null,
   "metadata": {},
   "outputs": [],
   "source": [
    "def weights_init(m):\n",
    "#     classname = m.__class__.__name__\n",
    "#     if classname.find('Conv2d') != -1:\n",
    "#         torch.nn.init.normal_(m.weight, 0.0, 0.02)\n",
    "#     elif classname.find('BatchNorm2d') != -1:\n",
    "#         torch.nn.init.normal_(m.weight, 1.0, 0.02)\n",
    "#         torch.nn.init.zeros_(m.bias)\n"
   ]
  },
  {
   "cell_type": "code",
   "execution_count": 11,
   "metadata": {},
   "outputs": [],
   "source": [
    "def weights_init(m): \n",
    "    if isinstance(m, nn.Conv2d): \n",
    "        nn.init.xavier_normal_(m.weight.data, gain = 1.0) \n",
    "        #nn.init.xavier_normal_(m.bias.data)\n",
    "    elif isinstance(m, nn.BatchNorm2d):\n",
    "        nn.init.constant_(m.weight,1)\n",
    "        nn.init.constant_(m.bias, 0)\n"
   ]
  },
  {
   "cell_type": "code",
   "execution_count": 12,
   "metadata": {},
   "outputs": [],
   "source": [
    "import math"
   ]
  },
  {
   "cell_type": "code",
   "execution_count": 13,
   "metadata": {},
   "outputs": [
    {
     "name": "stdout",
     "output_type": "stream",
     "text": [
      "UNet(\n",
      "  (maxpool): MaxPool2d(kernel_size=2, stride=2, padding=0, dilation=1, ceil_mode=False)\n",
      "  (down_conv1): Sequential(\n",
      "    (0): Conv2d(1, 64, kernel_size=(3, 3), stride=(1, 1), padding=(1, 1))\n",
      "    (1): BatchNorm2d(64, eps=1e-05, momentum=0.1, affine=True, track_running_stats=True)\n",
      "    (2): ReLU(inplace=True)\n",
      "    (3): Conv2d(64, 64, kernel_size=(3, 3), stride=(1, 1), padding=(1, 1))\n",
      "    (4): BatchNorm2d(64, eps=1e-05, momentum=0.1, affine=True, track_running_stats=True)\n",
      "    (5): ReLU(inplace=True)\n",
      "  )\n",
      "  (down_conv2): Sequential(\n",
      "    (0): Conv2d(64, 128, kernel_size=(3, 3), stride=(1, 1), padding=(1, 1))\n",
      "    (1): BatchNorm2d(128, eps=1e-05, momentum=0.1, affine=True, track_running_stats=True)\n",
      "    (2): ReLU(inplace=True)\n",
      "    (3): Conv2d(128, 128, kernel_size=(3, 3), stride=(1, 1), padding=(1, 1))\n",
      "    (4): BatchNorm2d(128, eps=1e-05, momentum=0.1, affine=True, track_running_stats=True)\n",
      "    (5): ReLU(inplace=True)\n",
      "  )\n",
      "  (down_conv3): Sequential(\n",
      "    (0): Conv2d(128, 256, kernel_size=(3, 3), stride=(1, 1), padding=(1, 1))\n",
      "    (1): BatchNorm2d(256, eps=1e-05, momentum=0.1, affine=True, track_running_stats=True)\n",
      "    (2): ReLU(inplace=True)\n",
      "    (3): Conv2d(256, 256, kernel_size=(3, 3), stride=(1, 1), padding=(1, 1))\n",
      "    (4): BatchNorm2d(256, eps=1e-05, momentum=0.1, affine=True, track_running_stats=True)\n",
      "    (5): ReLU(inplace=True)\n",
      "  )\n",
      "  (down_conv4): Sequential(\n",
      "    (0): Conv2d(256, 512, kernel_size=(3, 3), stride=(1, 1), padding=(1, 1))\n",
      "    (1): BatchNorm2d(512, eps=1e-05, momentum=0.1, affine=True, track_running_stats=True)\n",
      "    (2): ReLU(inplace=True)\n",
      "    (3): Conv2d(512, 512, kernel_size=(3, 3), stride=(1, 1), padding=(1, 1))\n",
      "    (4): BatchNorm2d(512, eps=1e-05, momentum=0.1, affine=True, track_running_stats=True)\n",
      "    (5): ReLU(inplace=True)\n",
      "  )\n",
      "  (down_conv5): Sequential(\n",
      "    (0): Conv2d(512, 1024, kernel_size=(3, 3), stride=(1, 1), padding=(1, 1))\n",
      "    (1): BatchNorm2d(1024, eps=1e-05, momentum=0.1, affine=True, track_running_stats=True)\n",
      "    (2): ReLU(inplace=True)\n",
      "    (3): Conv2d(1024, 1024, kernel_size=(3, 3), stride=(1, 1), padding=(1, 1))\n",
      "    (4): BatchNorm2d(1024, eps=1e-05, momentum=0.1, affine=True, track_running_stats=True)\n",
      "    (5): ReLU(inplace=True)\n",
      "  )\n",
      "  (conv_trans1): ConvTranspose2d(1024, 512, kernel_size=(2, 2), stride=(2, 2))\n",
      "  (up_conv1): Sequential(\n",
      "    (0): Conv2d(1024, 512, kernel_size=(3, 3), stride=(1, 1), padding=(1, 1))\n",
      "    (1): BatchNorm2d(512, eps=1e-05, momentum=0.1, affine=True, track_running_stats=True)\n",
      "    (2): ReLU(inplace=True)\n",
      "    (3): Conv2d(512, 512, kernel_size=(3, 3), stride=(1, 1), padding=(1, 1))\n",
      "    (4): BatchNorm2d(512, eps=1e-05, momentum=0.1, affine=True, track_running_stats=True)\n",
      "    (5): ReLU(inplace=True)\n",
      "  )\n",
      "  (conv_trans2): ConvTranspose2d(512, 256, kernel_size=(2, 2), stride=(2, 2))\n",
      "  (up_conv2): Sequential(\n",
      "    (0): Conv2d(512, 256, kernel_size=(3, 3), stride=(1, 1), padding=(1, 1))\n",
      "    (1): BatchNorm2d(256, eps=1e-05, momentum=0.1, affine=True, track_running_stats=True)\n",
      "    (2): ReLU(inplace=True)\n",
      "    (3): Conv2d(256, 256, kernel_size=(3, 3), stride=(1, 1), padding=(1, 1))\n",
      "    (4): BatchNorm2d(256, eps=1e-05, momentum=0.1, affine=True, track_running_stats=True)\n",
      "    (5): ReLU(inplace=True)\n",
      "  )\n",
      "  (conv_trans3): ConvTranspose2d(256, 128, kernel_size=(2, 2), stride=(2, 2))\n",
      "  (up_conv3): Sequential(\n",
      "    (0): Conv2d(256, 128, kernel_size=(3, 3), stride=(1, 1), padding=(1, 1))\n",
      "    (1): BatchNorm2d(128, eps=1e-05, momentum=0.1, affine=True, track_running_stats=True)\n",
      "    (2): ReLU(inplace=True)\n",
      "    (3): Conv2d(128, 128, kernel_size=(3, 3), stride=(1, 1), padding=(1, 1))\n",
      "    (4): BatchNorm2d(128, eps=1e-05, momentum=0.1, affine=True, track_running_stats=True)\n",
      "    (5): ReLU(inplace=True)\n",
      "  )\n",
      "  (conv_trans4): ConvTranspose2d(128, 64, kernel_size=(2, 2), stride=(2, 2))\n",
      "  (up_conv4): Sequential(\n",
      "    (0): Conv2d(128, 64, kernel_size=(3, 3), stride=(1, 1), padding=(1, 1))\n",
      "    (1): BatchNorm2d(64, eps=1e-05, momentum=0.1, affine=True, track_running_stats=True)\n",
      "    (2): ReLU(inplace=True)\n",
      "    (3): Conv2d(64, 64, kernel_size=(3, 3), stride=(1, 1), padding=(1, 1))\n",
      "    (4): BatchNorm2d(64, eps=1e-05, momentum=0.1, affine=True, track_running_stats=True)\n",
      "    (5): ReLU(inplace=True)\n",
      "  )\n",
      "  (out): Conv2d(64, 1, kernel_size=(1, 1), stride=(1, 1))\n",
      ")\n"
     ]
    }
   ],
   "source": [
    "model = UNet()\n",
    "model = model.to(device)\n",
    "model.apply(weights_init)\n",
    "print(model)"
   ]
  },
  {
   "cell_type": "code",
   "execution_count": 14,
   "metadata": {},
   "outputs": [],
   "source": [
    "test_im = torch.rand(1,1,256,256)\n",
    "test_im = test_im.to(device)\n",
    "outputs = model(test_im)"
   ]
  },
  {
   "cell_type": "code",
   "execution_count": null,
   "metadata": {},
   "outputs": [],
   "source": [
    "def Apply_filter(masks):\n",
    "    m_f=[]\n",
    "    for i,msk in enumerate(masks):\n",
    "        klen = 10\n",
    "        kernel = np.ones(klen)\n",
    "        k = np.ones([1,20,20])\n",
    "        msk = gaussian_filter(msk,10) \n",
    "        m_f.append(msk)\n",
    "    return torch.from_numpy(m_f)"
   ]
  },
  {
   "cell_type": "code",
   "execution_count": null,
   "metadata": {},
   "outputs": [],
   "source": [
    "outputs.shape"
   ]
  },
  {
   "cell_type": "code",
   "execution_count": 15,
   "metadata": {},
   "outputs": [],
   "source": [
    "learning_rate = 0.001\n",
    "criterion = nn.BCEWithLogitsLoss()\n",
    "#criterion = nn.BCELoss()\n",
    "optimizer = torch.optim.Adam(model.parameters(), lr=learning_rate)"
   ]
  },
  {
   "cell_type": "code",
   "execution_count": 16,
   "metadata": {},
   "outputs": [
    {
     "name": "stdout",
     "output_type": "stream",
     "text": [
      "torch.Size([3, 1, 256, 256])\n",
      "Epoch [1/800], Step [0/14], Loss: 0.635885, Accuracy:32.763671875\n",
      "torch.Size([3, 1, 256, 256])\n",
      "torch.Size([3, 1, 256, 256])\n",
      "torch.Size([3, 1, 256, 256])\n",
      "torch.Size([3, 1, 256, 256])\n",
      "torch.Size([3, 1, 256, 256])\n"
     ]
    },
    {
     "ename": "KeyboardInterrupt",
     "evalue": "",
     "output_type": "error",
     "traceback": [
      "\u001b[1;31m---------------------------------------------------------------------------\u001b[0m",
      "\u001b[1;31mKeyboardInterrupt\u001b[0m                         Traceback (most recent call last)",
      "\u001b[1;32m<ipython-input-16-56bb2cb52656>\u001b[0m in \u001b[0;36m<module>\u001b[1;34m\u001b[0m\n\u001b[0;32m     32\u001b[0m         \u001b[0m_\u001b[0m\u001b[1;33m,\u001b[0m \u001b[0mpredicted\u001b[0m \u001b[1;33m=\u001b[0m \u001b[0mtorch\u001b[0m\u001b[1;33m.\u001b[0m\u001b[0mmax\u001b[0m\u001b[1;33m(\u001b[0m\u001b[0moutputs\u001b[0m\u001b[1;33m.\u001b[0m\u001b[0mdata\u001b[0m\u001b[1;33m,\u001b[0m \u001b[1;36m1\u001b[0m\u001b[1;33m)\u001b[0m\u001b[1;33m\u001b[0m\u001b[1;33m\u001b[0m\u001b[0m\n\u001b[0;32m     33\u001b[0m         \u001b[0mtotal_train\u001b[0m \u001b[1;33m+=\u001b[0m \u001b[0mimages\u001b[0m\u001b[1;33m.\u001b[0m\u001b[0mnelement\u001b[0m\u001b[1;33m(\u001b[0m\u001b[1;33m)\u001b[0m\u001b[1;33m\u001b[0m\u001b[1;33m\u001b[0m\u001b[0m\n\u001b[1;32m---> 34\u001b[1;33m         \u001b[0mcorrect_train\u001b[0m \u001b[1;33m+=\u001b[0m \u001b[1;33m(\u001b[0m\u001b[0mpredicted\u001b[0m \u001b[1;33m==\u001b[0m \u001b[0mmasks\u001b[0m\u001b[1;33m)\u001b[0m\u001b[1;33m.\u001b[0m\u001b[0msum\u001b[0m\u001b[1;33m(\u001b[0m\u001b[1;33m)\u001b[0m\u001b[1;33m.\u001b[0m\u001b[0mitem\u001b[0m\u001b[1;33m(\u001b[0m\u001b[1;33m)\u001b[0m\u001b[1;33m\u001b[0m\u001b[1;33m\u001b[0m\u001b[0m\n\u001b[0m\u001b[0;32m     35\u001b[0m         \u001b[0mtrain_accuracy\u001b[0m \u001b[1;33m=\u001b[0m \u001b[1;36m100\u001b[0m \u001b[1;33m*\u001b[0m \u001b[0mcorrect_train\u001b[0m \u001b[1;33m/\u001b[0m \u001b[0mtotal_train\u001b[0m\u001b[1;33m\u001b[0m\u001b[1;33m\u001b[0m\u001b[0m\n\u001b[0;32m     36\u001b[0m \u001b[1;33m\u001b[0m\u001b[0m\n",
      "\u001b[1;31mKeyboardInterrupt\u001b[0m: "
     ]
    }
   ],
   "source": [
    "# The training loop\n",
    "epochs = 800\n",
    "total_steps = len(train_loader)\n",
    "#print(f\"{epochs} epochs, {total_steps} total_steps per epoch\")\n",
    "for epoch in range(epochs):\n",
    "    total_train = 0\n",
    "    correct_train = 0\n",
    "    for i, (images, masks) in enumerate(train_loader):\n",
    "        #print(masks.shape)\n",
    "\n",
    "        images = images.to(device)\n",
    "        \n",
    "#         #blur masks-2 in the batch\n",
    "#         masks[0] = torch.from_numpy(gaussian_filter(masks[0],2))\n",
    "#         masks[1] = torch.from_numpy(gaussian_filter(masks[1],2))\n",
    "        \n",
    "        masks = masks.to(device)\n",
    "\n",
    "\n",
    "        # Forward pass\n",
    "        outputs = model(masks)\n",
    "        \n",
    "        softmax = torch.nn.functional.log_softmax(outputs, dim=1)\n",
    "        loss = criterion(outputs, images)\n",
    "       \n",
    "        # Backward and optimize\n",
    "        optimizer.zero_grad()\n",
    "        loss.backward()\n",
    "        optimizer.step()\n",
    "        \n",
    "        # accuracy\n",
    "        _, predicted = torch.max(outputs.data, 1)\n",
    "        total_train += images.nelement()\n",
    "        correct_train += (predicted == masks).sum().item()\n",
    "        train_accuracy = 100 * correct_train / total_train\n",
    "         \n",
    "        if (i) % 100 == 0:\n",
    "            print (f\"Epoch [{epoch + 1}/{epochs}], Step [{i}/{total_steps}], Loss: {loss.item():4f}, Accuracy:{train_accuracy}\")"
   ]
  },
  {
   "cell_type": "code",
   "execution_count": null,
   "metadata": {},
   "outputs": [],
   "source": [
    "from scipy.ndimage import uniform_filter1d, convolve1d, convolve,gaussian_filter"
   ]
  },
  {
   "cell_type": "code",
   "execution_count": 17,
   "metadata": {},
   "outputs": [
    {
     "ename": "NameError",
     "evalue": "name 'masks_f' is not defined",
     "output_type": "error",
     "traceback": [
      "\u001b[1;31m---------------------------------------------------------------------------\u001b[0m",
      "\u001b[1;31mNameError\u001b[0m                                 Traceback (most recent call last)",
      "\u001b[1;32m<ipython-input-17-fae1804c205e>\u001b[0m in \u001b[0;36m<module>\u001b[1;34m\u001b[0m\n\u001b[0;32m      1\u001b[0m \u001b[0mfig\u001b[0m \u001b[1;33m=\u001b[0m \u001b[0mplt\u001b[0m\u001b[1;33m.\u001b[0m\u001b[0mfigure\u001b[0m\u001b[1;33m(\u001b[0m\u001b[1;33m)\u001b[0m\u001b[1;33m\u001b[0m\u001b[1;33m\u001b[0m\u001b[0m\n\u001b[0;32m      2\u001b[0m \u001b[0max1\u001b[0m \u001b[1;33m=\u001b[0m \u001b[0mfig\u001b[0m\u001b[1;33m.\u001b[0m\u001b[0madd_subplot\u001b[0m\u001b[1;33m(\u001b[0m\u001b[1;36m2\u001b[0m\u001b[1;33m,\u001b[0m\u001b[1;36m2\u001b[0m\u001b[1;33m,\u001b[0m\u001b[1;36m1\u001b[0m\u001b[1;33m)\u001b[0m\u001b[1;33m\u001b[0m\u001b[1;33m\u001b[0m\u001b[0m\n\u001b[1;32m----> 3\u001b[1;33m \u001b[0mimage\u001b[0m \u001b[1;33m=\u001b[0m \u001b[0mmasks_f\u001b[0m\u001b[1;33m[\u001b[0m\u001b[1;36m1\u001b[0m\u001b[1;33m]\u001b[0m\u001b[1;33m.\u001b[0m\u001b[0mcpu\u001b[0m\u001b[1;33m(\u001b[0m\u001b[1;33m)\u001b[0m\u001b[1;33m.\u001b[0m\u001b[0mdetach\u001b[0m\u001b[1;33m(\u001b[0m\u001b[1;33m)\u001b[0m\u001b[1;33m.\u001b[0m\u001b[0mnumpy\u001b[0m\u001b[1;33m(\u001b[0m\u001b[1;33m)\u001b[0m\u001b[1;33m\u001b[0m\u001b[1;33m\u001b[0m\u001b[0m\n\u001b[0m\u001b[0;32m      4\u001b[0m \u001b[0max1\u001b[0m\u001b[1;33m.\u001b[0m\u001b[0mimshow\u001b[0m\u001b[1;33m(\u001b[0m\u001b[0mnp\u001b[0m\u001b[1;33m.\u001b[0m\u001b[0msqueeze\u001b[0m\u001b[1;33m(\u001b[0m\u001b[0mimage\u001b[0m\u001b[1;33m)\u001b[0m\u001b[1;33m,\u001b[0m\u001b[0mcmap\u001b[0m \u001b[1;33m=\u001b[0m \u001b[1;34m'gray'\u001b[0m\u001b[1;33m)\u001b[0m\u001b[1;33m\u001b[0m\u001b[1;33m\u001b[0m\u001b[0m\n\u001b[0;32m      5\u001b[0m \u001b[0mplt\u001b[0m\u001b[1;33m.\u001b[0m\u001b[0mshow\u001b[0m\u001b[1;33m(\u001b[0m\u001b[1;33m)\u001b[0m\u001b[1;33m\u001b[0m\u001b[1;33m\u001b[0m\u001b[0m\n",
      "\u001b[1;31mNameError\u001b[0m: name 'masks_f' is not defined"
     ]
    },
    {
     "data": {
      "image/png": "[encoded data removed]",
      "text/plain": [
       "<Figure size 432x288 with 1 Axes>"
      ]
     },
     "metadata": {
      "needs_background": "light"
     },
     "output_type": "display_data"
    }
   ],
   "source": [
    "fig = plt.figure()\n",
    "ax1 = fig.add_subplot(2,2,1)\n",
    "image = masks_f[1].cpu().detach().numpy()\n",
    "ax1.imshow(np.squeeze(image),cmap = 'gray')\n",
    "plt.show()"
   ]
  },
  {
   "cell_type": "code",
   "execution_count": null,
   "metadata": {},
   "outputs": [],
   "source": [
    "im = np.random.rand(256,256,3)"
   ]
  },
  {
   "cell_type": "code",
   "execution_count": null,
   "metadata": {},
   "outputs": [],
   "source": [
    "fig = plt.figure()\n",
    "ax1 = fig.add_subplot(2,2,1)\n",
    "ax1.imshow(im)\n",
    "plt.show()"
   ]
  },
  {
   "cell_type": "code",
   "execution_count": null,
   "metadata": {},
   "outputs": [],
   "source": [
    "criterion(out[0],images[0])"
   ]
  },
  {
   "cell_type": "code",
   "execution_count": 12,
   "metadata": {},
   "outputs": [
    {
     "name": "stdout",
     "output_type": "stream",
     "text": [
      "loss: tensor(0.4369, device='cuda:0', grad_fn=<BinaryCrossEntropyWithLogitsBackward>)\n",
      "test accuracy: 37.99568176269531\n"
     ]
    },
    {
     "data": {
      "image/png": "[encoded data removed]",
      "text/plain": [
       "<Figure size 432x288 with 1 Axes>"
      ]
     },
     "metadata": {
      "needs_background": "light"
     },
     "output_type": "display_data"
    },
    {
     "data": {
      "image/png": "[encoded data removed]",
      "text/plain": [
       "<Figure size 432x288 with 3 Axes>"
      ]
     },
     "metadata": {
      "needs_background": "light"
     },
     "output_type": "display_data"
    },
    {
     "name": "stdout",
     "output_type": "stream",
     "text": [
      "loss: tensor(0.2790, device='cuda:0', grad_fn=<BinaryCrossEntropyWithLogitsBackward>)\n",
      "test accuracy: 37.99568176269531\n"
     ]
    },
    {
     "data": {
      "image/png": "[encoded data removed]",
      "text/plain": [
       "<Figure size 432x288 with 1 Axes>"
      ]
     },
     "metadata": {
      "needs_background": "light"
     },
     "output_type": "display_data"
    },
    {
     "data": {
      "image/png": "[encoded data removed]",
      "text/plain": [
       "<Figure size 432x288 with 3 Axes>"
      ]
     },
     "metadata": {
      "needs_background": "light"
     },
     "output_type": "display_data"
    },
    {
     "name": "stdout",
     "output_type": "stream",
     "text": [
      "loss: tensor(0.3531, device='cuda:0', grad_fn=<BinaryCrossEntropyWithLogitsBackward>)\n",
      "test accuracy: 37.99568176269531\n"
     ]
    },
    {
     "data": {
      "image/png": "[encoded data removed]",
      "text/plain": [
       "<Figure size 432x288 with 1 Axes>"
      ]
     },
     "metadata": {
      "needs_background": "light"
     },
     "output_type": "display_data"
    },
    {
     "data": {
      "image/png": "[encoded data removed]",
      "text/plain": [
       "<Figure size 432x288 with 3 Axes>"
      ]
     },
     "metadata": {
      "needs_background": "light"
     },
     "output_type": "display_data"
    },
    {
     "name": "stdout",
     "output_type": "stream",
     "text": [
      "loss: tensor(0.2277, device='cuda:0', grad_fn=<BinaryCrossEntropyWithLogitsBackward>)\n",
      "test accuracy: 37.99568176269531\n"
     ]
    },
    {
     "data": {
      "image/png": "[encoded data removed]",
      "text/plain": [
       "<Figure size 432x288 with 1 Axes>"
      ]
     },
     "metadata": {
      "needs_background": "light"
     },
     "output_type": "display_data"
    },
    {
     "data": {
      "image/png": "[encoded data removed]",
      "text/plain": [
       "<Figure size 432x288 with 3 Axes>"
      ]
     },
     "metadata": {
      "needs_background": "light"
     },
     "output_type": "display_data"
    }
   ],
   "source": [
    "total_test = 0\n",
    "correct_test = 0\n",
    "\n",
    "for i, (images, masks) in enumerate(test_loader):\n",
    "    \n",
    "#     #blur masks-2 in the batch\n",
    "#     masks[0] = torch.from_numpy(gaussian_filter(masks[0],10))\n",
    "#     masks[1] = torch.from_numpy(gaussian_filter(masks[1],1))\n",
    "    \n",
    "    fig = plt.figure()\n",
    "    ax1 = fig.add_subplot(2,2,1)\n",
    "    ax1.imshow(np.squeeze(masks[0].cpu().detach().numpy()),cmap = 'gray')\n",
    "    \n",
    "    masks = masks.to(device)\n",
    "    images = images.to(device)\n",
    "    output = model(masks)\n",
    "    softmax = torch.nn.functional.log_softmax(output, dim=1)\n",
    "    loss = criterion(output, images)\n",
    "   \n",
    "    print(\"loss:\", loss)\n",
    "    \n",
    "     # accuracy\n",
    "    _, predicted = torch.max(output.data, 1)\n",
    "    total_test += images.nelement()\n",
    "    correct_test += (predicted == masks).sum().item()\n",
    "    test_accuracy = 100 * correct_train / total_train\n",
    "    print(\"test accuracy:\", test_accuracy)\n",
    "\n",
    "    fig = plt.figure()\n",
    "    ax1 = fig.add_subplot(2,2,1)\n",
    "    ax1.imshow(np.squeeze(masks[0].cpu().detach().numpy()),cmap = 'gray')\n",
    "    ax2 = fig.add_subplot(2,2,2)\n",
    "    ax2.imshow(np.squeeze(output[0].cpu().detach().numpy()),cmap = 'gray')\n",
    "    \n",
    "    ax3 = fig.add_subplot(2,2,3)\n",
    "    ax3.imshow(np.squeeze(images[0].cpu().detach().numpy()),cmap = 'gray')\n",
    "    \n",
    "    plt.show()\n"
   ]
  },
  {
   "cell_type": "code",
   "execution_count": null,
   "metadata": {},
   "outputs": [],
   "source": [
    "image = Image.open('test_textures/boat.jpg')\n",
    "img = image.resize((300,300))\n",
    "img = img.convert('L')\n",
    "display(img)\n",
    "print(img)\n",
    "print(img.size)\n",
    "\n",
    "#connvert to tensor\n",
    "trans1 = transforms.ToTensor()\n",
    "img = trans1(img).view(1,1,300,300)\n",
    "print(img.shape)"
   ]
  },
  {
   "cell_type": "code",
   "execution_count": null,
   "metadata": {},
   "outputs": [],
   "source": [
    "image = torch.rand((1,1,300,300))"
   ]
  },
  {
   "cell_type": "code",
   "execution_count": null,
   "metadata": {},
   "outputs": [],
   "source": [
    "outputs = model(img.to(device))\n",
    "img1 = np.squeeze(outputs[0].cpu().detach().numpy())\n",
    "print(img1.shape)\n",
    "plt.imshow(img1)\n",
    "plt.show()\n"
   ]
  },
  {
   "cell_type": "code",
   "execution_count": null,
   "metadata": {},
   "outputs": [],
   "source": [
    "img3 = np.squeeze(myImage.detach().numpy())\n",
    "img3 = (img3)\n",
    "print(img3.shape)\n",
    "plt.imshow(img3)\n",
    "plt.show()"
   ]
  },
  {
   "cell_type": "code",
   "execution_count": null,
   "metadata": {},
   "outputs": [],
   "source": []
  }
 ],
 "metadata": {
  "kernelspec": {
   "display_name": "Python 3",
   "language": "python",
   "name": "python3"
  },
  "language_info": {
   "codemirror_mode": {
    "name": "ipython",
    "version": 3
   },
   "file_extension": ".py",
   "mimetype": "text/x-python",
   "name": "python",
   "nbconvert_exporter": "python",
   "pygments_lexer": "ipython3",
   "version": "3.7.6"
  }
 },
 "nbformat": 4,
 "nbformat_minor": 4
}
