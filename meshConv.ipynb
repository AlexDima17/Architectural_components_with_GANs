{
  "nbformat": 4,
  "nbformat_minor": 0,
  "metadata": {
    "accelerator": "GPU",
    "bento_stylesheets": {
      "bento/extensions/flow/main.css": true,
      "bento/extensions/kernel_selector/main.css": true,
      "bento/extensions/kernel_ui/main.css": true,
      "bento/extensions/new_kernel/main.css": true,
      "bento/extensions/system_usage/main.css": true,
      "bento/extensions/theme/main.css": true
    },
    "colab": {
      "name": "meshConv.ipynb",
      "provenance": [],
      "collapsed_sections": [
        "dYWDl4VGWHRK",
        "3Lg90Ugu1P7h"
      ],
      "include_colab_link": true
    },
    "kernelspec": {
      "display_name": "Python 3",
      "language": "python",
      "name": "python3"
    },
    "language_info": {
      "codemirror_mode": {
        "name": "ipython",
        "version": 3
      },
      "file_extension": ".py",
      "mimetype": "text/x-python",
      "name": "python",
      "nbconvert_exporter": "python",
      "pygments_lexer": "ipython3",
      "version": "3.7.6"
    },
    "widgets": {
      "application/vnd.jupyter.widget-state+json": {
        "a6db031ca39a45b3b4eb39d20e8f6a9d": {
          "model_module": "@jupyter-widgets/controls",
          "model_name": "HBoxModel",
          "state": {
            "_view_name": "HBoxView",
            "_dom_classes": [],
            "_model_name": "HBoxModel",
            "_view_module": "@jupyter-widgets/controls",
            "_model_module_version": "1.5.0",
            "_view_count": null,
            "_view_module_version": "1.5.0",
            "box_style": "",
            "layout": "IPY_MODEL_8685f8e0f7444e59926d1655734b05f4",
            "_model_module": "@jupyter-widgets/controls",
            "children": [
              "IPY_MODEL_933ea531c2a44056b8b31ecd0c4b8d73",
              "IPY_MODEL_74f4e5cf9871489cbc291ff7e73e4d6a"
            ]
          }
        },
        "8685f8e0f7444e59926d1655734b05f4": {
          "model_module": "@jupyter-widgets/base",
          "model_name": "LayoutModel",
          "state": {
            "_view_name": "LayoutView",
            "grid_template_rows": null,
            "right": null,
            "justify_content": null,
            "_view_module": "@jupyter-widgets/base",
            "overflow": null,
            "_model_module_version": "1.2.0",
            "_view_count": null,
            "flex_flow": null,
            "width": null,
            "min_width": null,
            "border": null,
            "align_items": null,
            "bottom": null,
            "_model_module": "@jupyter-widgets/base",
            "top": null,
            "grid_column": null,
            "overflow_y": null,
            "overflow_x": null,
            "grid_auto_flow": null,
            "grid_area": null,
            "grid_template_columns": null,
            "flex": null,
            "_model_name": "LayoutModel",
            "justify_items": null,
            "grid_row": null,
            "max_height": null,
            "align_content": null,
            "visibility": null,
            "align_self": null,
            "height": null,
            "min_height": null,
            "padding": null,
            "grid_auto_rows": null,
            "grid_gap": null,
            "max_width": null,
            "order": null,
            "_view_module_version": "1.2.0",
            "grid_template_areas": null,
            "object_position": null,
            "object_fit": null,
            "grid_auto_columns": null,
            "margin": null,
            "display": null,
            "left": null
          }
        },
        "933ea531c2a44056b8b31ecd0c4b8d73": {
          "model_module": "@jupyter-widgets/controls",
          "model_name": "FloatProgressModel",
          "state": {
            "_view_name": "ProgressView",
            "style": "IPY_MODEL_d3b83de033a04b9085361dcef1364a76",
            "_dom_classes": [],
            "description": "100%",
            "_model_name": "FloatProgressModel",
            "bar_style": "success",
            "max": 2000,
            "_view_module": "@jupyter-widgets/controls",
            "_model_module_version": "1.5.0",
            "value": 2000,
            "_view_count": null,
            "_view_module_version": "1.5.0",
            "orientation": "horizontal",
            "min": 0,
            "description_tooltip": null,
            "_model_module": "@jupyter-widgets/controls",
            "layout": "IPY_MODEL_28daba4f34c2463ea08c63bcba792ebb"
          }
        },
        "74f4e5cf9871489cbc291ff7e73e4d6a": {
          "model_module": "@jupyter-widgets/controls",
          "model_name": "HTMLModel",
          "state": {
            "_view_name": "HTMLView",
            "style": "IPY_MODEL_14522edf034d4f11830a64307d93b476",
            "_dom_classes": [],
            "description": "",
            "_model_name": "HTMLModel",
            "placeholder": "​",
            "_view_module": "@jupyter-widgets/controls",
            "_model_module_version": "1.5.0",
            "value": " 2000/2000 [01:07&lt;00:00, 29.72it/s]",
            "_view_count": null,
            "_view_module_version": "1.5.0",
            "description_tooltip": null,
            "_model_module": "@jupyter-widgets/controls",
            "layout": "IPY_MODEL_9b1bebd9fb4d46e486b4b8dc385b8eb5"
          }
        },
        "d3b83de033a04b9085361dcef1364a76": {
          "model_module": "@jupyter-widgets/controls",
          "model_name": "ProgressStyleModel",
          "state": {
            "_view_name": "StyleView",
            "_model_name": "ProgressStyleModel",
            "description_width": "initial",
            "_view_module": "@jupyter-widgets/base",
            "_model_module_version": "1.5.0",
            "_view_count": null,
            "_view_module_version": "1.2.0",
            "bar_color": null,
            "_model_module": "@jupyter-widgets/controls"
          }
        },
        "28daba4f34c2463ea08c63bcba792ebb": {
          "model_module": "@jupyter-widgets/base",
          "model_name": "LayoutModel",
          "state": {
            "_view_name": "LayoutView",
            "grid_template_rows": null,
            "right": null,
            "justify_content": null,
            "_view_module": "@jupyter-widgets/base",
            "overflow": null,
            "_model_module_version": "1.2.0",
            "_view_count": null,
            "flex_flow": null,
            "width": null,
            "min_width": null,
            "border": null,
            "align_items": null,
            "bottom": null,
            "_model_module": "@jupyter-widgets/base",
            "top": null,
            "grid_column": null,
            "overflow_y": null,
            "overflow_x": null,
            "grid_auto_flow": null,
            "grid_area": null,
            "grid_template_columns": null,
            "flex": null,
            "_model_name": "LayoutModel",
            "justify_items": null,
            "grid_row": null,
            "max_height": null,
            "align_content": null,
            "visibility": null,
            "align_self": null,
            "height": null,
            "min_height": null,
            "padding": null,
            "grid_auto_rows": null,
            "grid_gap": null,
            "max_width": null,
            "order": null,
            "_view_module_version": "1.2.0",
            "grid_template_areas": null,
            "object_position": null,
            "object_fit": null,
            "grid_auto_columns": null,
            "margin": null,
            "display": null,
            "left": null
          }
        },
        "14522edf034d4f11830a64307d93b476": {
          "model_module": "@jupyter-widgets/controls",
          "model_name": "DescriptionStyleModel",
          "state": {
            "_view_name": "StyleView",
            "_model_name": "DescriptionStyleModel",
            "description_width": "",
            "_view_module": "@jupyter-widgets/base",
            "_model_module_version": "1.5.0",
            "_view_count": null,
            "_view_module_version": "1.2.0",
            "_model_module": "@jupyter-widgets/controls"
          }
        },
        "9b1bebd9fb4d46e486b4b8dc385b8eb5": {
          "model_module": "@jupyter-widgets/base",
          "model_name": "LayoutModel",
          "state": {
            "_view_name": "LayoutView",
            "grid_template_rows": null,
            "right": null,
            "justify_content": null,
            "_view_module": "@jupyter-widgets/base",
            "overflow": null,
            "_model_module_version": "1.2.0",
            "_view_count": null,
            "flex_flow": null,
            "width": null,
            "min_width": null,
            "border": null,
            "align_items": null,
            "bottom": null,
            "_model_module": "@jupyter-widgets/base",
            "top": null,
            "grid_column": null,
            "overflow_y": null,
            "overflow_x": null,
            "grid_auto_flow": null,
            "grid_area": null,
            "grid_template_columns": null,
            "flex": null,
            "_model_name": "LayoutModel",
            "justify_items": null,
            "grid_row": null,
            "max_height": null,
            "align_content": null,
            "visibility": null,
            "align_self": null,
            "height": null,
            "min_height": null,
            "padding": null,
            "grid_auto_rows": null,
            "grid_gap": null,
            "max_width": null,
            "order": null,
            "_view_module_version": "1.2.0",
            "grid_template_areas": null,
            "object_position": null,
            "object_fit": null,
            "grid_auto_columns": null,
            "margin": null,
            "display": null,
            "left": null
          }
        }
      }
    }
  },
  "cells": [
    {
      "cell_type": "markdown",
      "metadata": {
        "id": "view-in-github",
        "colab_type": "text"
      },
      "source": [
        "<a href=\"https://colab.research.google.com/github/AlexDima17/Architectural_components_with_GANs/blob/master/meshConv.ipynb\" target=\"_parent\"><img src=\"https://colab.research.google.com/assets/colab-badge.svg\" alt=\"Open In Colab\"/></a>"
      ]
    },
    {
      "cell_type": "code",
      "metadata": {
        "colab_type": "code",
        "id": "nF07sDgJWHQy",
        "colab": {}
      },
      "source": [
        "# Copyright (c) Facebook, Inc. and its affiliates. All rights reserved."
      ],
      "execution_count": null,
      "outputs": []
    },
    {
      "cell_type": "markdown",
      "metadata": {
        "colab_type": "text",
        "id": "P-h1ji4dWHQ5"
      },
      "source": [
        "##  Install and Import modules"
      ]
    },
    {
      "cell_type": "markdown",
      "metadata": {
        "id": "JdNheIBuLP16",
        "colab_type": "text"
      },
      "source": [
        "If `torch`, `torchvision` and `pytorch3d` are not installed, run the following cell:"
      ]
    },
    {
      "cell_type": "code",
      "metadata": {
        "colab_type": "code",
        "id": "_qkuyhyTeRyM",
        "colab": {
          "base_uri": "https://localhost:8080/",
          "height": 646
        },
        "outputId": "8c28931d-4f27-4b1b-f4b1-952c80c65255"
      },
      "source": [
        "#!pip install torch torchvision\n",
        "!pip install 'git+https://github.com/facebookresearch/pytorch3d.git@stable'"
      ],
      "execution_count": 2,
      "outputs": [
        {
          "output_type": "stream",
          "text": [
            "Collecting git+https://github.com/facebookresearch/pytorch3d.git@stable\n",
            "  Cloning https://github.com/facebookresearch/pytorch3d.git (to revision stable) to /tmp/pip-req-build-eecfxb12\n",
            "  Running command git clone -q https://github.com/facebookresearch/pytorch3d.git /tmp/pip-req-build-eecfxb12\n",
            "  Running command git checkout -q 686c8666d31d932ed42d3cd7319f249fc75e89a9\n",
            "Requirement already satisfied: torchvision>=0.4 in /usr/local/lib/python3.6/dist-packages (from pytorch3d==0.2.0) (0.6.0+cu101)\n",
            "Collecting fvcore\n",
            "  Downloading https://files.pythonhosted.org/packages/2c/13/454a3b605084a36cd84c9214ec19ea4be298f4f2678d0143bf914ecbe6d2/fvcore-0.1.1.post20200618.tar.gz\n",
            "Requirement already satisfied: torch==1.5.0 in /usr/local/lib/python3.6/dist-packages (from torchvision>=0.4->pytorch3d==0.2.0) (1.5.0+cu101)\n",
            "Requirement already satisfied: pillow>=4.1.1 in /usr/local/lib/python3.6/dist-packages (from torchvision>=0.4->pytorch3d==0.2.0) (7.0.0)\n",
            "Requirement already satisfied: numpy in /usr/local/lib/python3.6/dist-packages (from torchvision>=0.4->pytorch3d==0.2.0) (1.18.5)\n",
            "Collecting yacs>=0.1.6\n",
            "  Downloading https://files.pythonhosted.org/packages/81/3b/40e876afde9f5ffa1cfdce10565aba85b0dc2e067ed551dfb566cfee6d4d/yacs-0.1.7-py3-none-any.whl\n",
            "Collecting pyyaml>=5.1\n",
            "\u001b[?25l  Downloading https://files.pythonhosted.org/packages/64/c2/b80047c7ac2478f9501676c988a5411ed5572f35d1beff9cae07d321512c/PyYAML-5.3.1.tar.gz (269kB)\n",
            "\u001b[K     |████████████████████████████████| 276kB 9.7MB/s \n",
            "\u001b[?25hRequirement already satisfied: tqdm in /usr/local/lib/python3.6/dist-packages (from fvcore->pytorch3d==0.2.0) (4.41.1)\n",
            "Collecting portalocker\n",
            "  Downloading https://files.pythonhosted.org/packages/53/84/7b3146ec6378d28abc73ab484f09f47dfa008ad6f03f33d90a369f880e25/portalocker-1.7.0-py2.py3-none-any.whl\n",
            "Requirement already satisfied: termcolor>=1.1 in /usr/local/lib/python3.6/dist-packages (from fvcore->pytorch3d==0.2.0) (1.1.0)\n",
            "Requirement already satisfied: tabulate in /usr/local/lib/python3.6/dist-packages (from fvcore->pytorch3d==0.2.0) (0.8.7)\n",
            "Requirement already satisfied: future in /usr/local/lib/python3.6/dist-packages (from torch==1.5.0->torchvision>=0.4->pytorch3d==0.2.0) (0.16.0)\n",
            "Building wheels for collected packages: pytorch3d, fvcore, pyyaml\n",
            "  Building wheel for pytorch3d (setup.py) ... \u001b[?25l\u001b[?25hdone\n",
            "  Created wheel for pytorch3d: filename=pytorch3d-0.2.0-cp36-cp36m-linux_x86_64.whl size=11082094 sha256=780cbca04fa4f7cf23a220efdcec97256f82d5efe686686736b7402a99544925\n",
            "  Stored in directory: /tmp/pip-ephem-wheel-cache-gansf22s/wheels/89/69/08/d864f516508b5d943259c6088baa150ebdd3659b5dde4e3571\n",
            "  Building wheel for fvcore (setup.py) ... \u001b[?25l\u001b[?25hdone\n",
            "  Created wheel for fvcore: filename=fvcore-0.1.1.post20200618-cp36-none-any.whl size=41036 sha256=0aa62f1215d2778ebd3c5281dd3c290bb07214ff32a82d75a19c9adfb555d2e2\n",
            "  Stored in directory: /root/.cache/pip/wheels/1f/54/b5/a58a2123544e1a3dd911612757b48ad2c8f2c65b411d34f9a6\n",
            "  Building wheel for pyyaml (setup.py) ... \u001b[?25l\u001b[?25hdone\n",
            "  Created wheel for pyyaml: filename=PyYAML-5.3.1-cp36-cp36m-linux_x86_64.whl size=44621 sha256=63c106d38bcf126d8e9f1436644dc77430f7566372a05629853db70afeba4cba\n",
            "  Stored in directory: /root/.cache/pip/wheels/a7/c1/ea/cf5bd31012e735dc1dfea3131a2d5eae7978b251083d6247bd\n",
            "Successfully built pytorch3d fvcore pyyaml\n",
            "Installing collected packages: pyyaml, yacs, portalocker, fvcore, pytorch3d\n",
            "  Found existing installation: PyYAML 3.13\n",
            "    Uninstalling PyYAML-3.13:\n",
            "      Successfully uninstalled PyYAML-3.13\n",
            "Successfully installed fvcore-0.1.1.post20200618 portalocker-1.7.0 pytorch3d-0.2.0 pyyaml-5.3.1 yacs-0.1.7\n"
          ],
          "name": "stdout"
        }
      ]
    },
    {
      "cell_type": "code",
      "metadata": {
        "colab_type": "code",
        "id": "ylbZGXYBtuvB",
        "colab": {}
      },
      "source": [
        "import os\n",
        "import torch\n",
        "from pytorch3d.io import load_obj, save_obj\n",
        "from pytorch3d.structures import Meshes\n",
        "from pytorch3d.utils import ico_sphere\n",
        "from pytorch3d.ops import sample_points_from_meshes\n",
        "from pytorch3d.loss import (\n",
        "    chamfer_distance, \n",
        "    mesh_edge_loss, \n",
        "    mesh_laplacian_smoothing, \n",
        "    mesh_normal_consistency,\n",
        ")\n",
        "import numpy as np\n",
        "from tqdm import tqdm_notebook\n",
        "%matplotlib notebook \n",
        "from mpl_toolkits.mplot3d import Axes3D\n",
        "import matplotlib.pyplot as plt\n",
        "import matplotlib as mpl\n",
        "mpl.rcParams['savefig.dpi'] = 80\n",
        "mpl.rcParams['figure.dpi'] = 80\n"
      ],
      "execution_count": 3,
      "outputs": []
    },
    {
      "cell_type": "code",
      "metadata": {
        "id": "rkwdckelzddM",
        "colab_type": "code",
        "colab": {}
      },
      "source": [
        "import pytorch3d"
      ],
      "execution_count": 11,
      "outputs": []
    },
    {
      "cell_type": "code",
      "metadata": {
        "id": "GZGvxePvOEd8",
        "colab_type": "code",
        "colab": {
          "base_uri": "https://localhost:8080/",
          "height": 34
        },
        "outputId": "d315437c-5a77-4e5e-9a43-97adabf2f5b6"
      },
      "source": [
        "if torch.cuda.is_available(): \n",
        "  print('available')\n",
        "  device = torch.device(\"cuda:0\")"
      ],
      "execution_count": 4,
      "outputs": [
        {
          "output_type": "stream",
          "text": [
            "available\n"
          ],
          "name": "stdout"
        }
      ]
    },
    {
      "cell_type": "markdown",
      "metadata": {
        "id": "YAABxzLsoQou",
        "colab_type": "text"
      },
      "source": [
        "\n",
        "**Load the objects**"
      ]
    },
    {
      "cell_type": "code",
      "metadata": {
        "id": "LXcd-94IM5zL",
        "colab_type": "code",
        "colab": {}
      },
      "source": [
        "from google.colab import files"
      ],
      "execution_count": 5,
      "outputs": []
    },
    {
      "cell_type": "code",
      "metadata": {
        "id": "pEJqXj4WYqHP",
        "colab_type": "code",
        "colab": {
          "resources": {
            "http://localhost:8080/nbextensions/google.colab/files.js": {
              "data": "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",
              "ok": true,
              "headers": [
                [
                  "content-type",
                  "application/javascript"
                ]
              ],
              "status": 200,
              "status_text": ""
            }
          },
          "base_uri": "https://localhost:8080/",
          "height": 72
        },
        "outputId": "97c1ab3a-58ad-4ff7-8c75-cdc41cd6b389"
      },
      "source": [
        "uploaded = files.upload()"
      ],
      "execution_count": 6,
      "outputs": [
        {
          "output_type": "display_data",
          "data": {
            "text/html": [
              "\n",
              "     <input type=\"file\" id=\"files-cbac5341-3623-41c4-848a-c616813cf315\" name=\"files[]\" multiple disabled\n",
              "        style=\"border:none\" />\n",
              "     <output id=\"result-cbac5341-3623-41c4-848a-c616813cf315\">\n",
              "      Upload widget is only available when the cell has been executed in the\n",
              "      current browser session. Please rerun this cell to enable.\n",
              "      </output>\n",
              "      <script src=\"/nbextensions/google.colab/files.js\"></script> "
            ],
            "text/plain": [
              "<IPython.core.display.HTML object>"
            ]
          },
          "metadata": {
            "tags": []
          }
        },
        {
          "output_type": "stream",
          "text": [
            "Saving Rabbit_Lowpoly_1.obj to Rabbit_Lowpoly_1.obj\n"
          ],
          "name": "stdout"
        }
      ]
    },
    {
      "cell_type": "code",
      "metadata": {
        "id": "L7y1PkvmY82R",
        "colab_type": "code",
        "colab": {}
      },
      "source": [
        "# Load the rabbit obj.\n",
        "rabbit_obj = os.path.join('Rabbit_Lowpoly_1.obj')"
      ],
      "execution_count": 7,
      "outputs": []
    },
    {
      "cell_type": "code",
      "metadata": {
        "colab_type": "code",
        "id": "60nqfXSsY4I6",
        "colab": {
          "base_uri": "https://localhost:8080/",
          "height": 51
        },
        "outputId": "a7a42eed-d684-4ca0-90a4-658855f19f42"
      },
      "source": [
        "# Read the rabbit 3D model using load_obj\n",
        "#verts is a (v,3)-tensor and faces is a (F,3)-tensor\n",
        "verts, faces, aux = load_obj(rabbit_obj)\n",
        "faces_idx = faces.verts_idx.to(device)\n",
        "verts = verts.to(device)\n",
        "\n",
        "# We scale normalize and center the target mesh to fit in a sphere of radius 1 centered at (0,0,0). \n",
        "\n",
        "center = verts.mean(0)\n",
        "verts = verts - center\n",
        "scale = max(verts.abs().max(0)[0])\n",
        "verts = verts / scale\n",
        "\n",
        "# We construct a Meshes structure for the target mesh\n",
        "rabbit_mesh = Meshes(verts=[verts], faces=[faces_idx])"
      ],
      "execution_count": 8,
      "outputs": [
        {
          "output_type": "stream",
          "text": [
            "/usr/local/lib/python3.6/dist-packages/pytorch3d/io/obj_io.py:70: UserWarning: Faces have invalid indices\n",
            "  warnings.warn(\"Faces have invalid indices\")\n"
          ],
          "name": "stderr"
        }
      ]
    },
    {
      "cell_type": "code",
      "metadata": {
        "id": "9XdHl9UmOt4w",
        "colab_type": "code",
        "colab": {
          "base_uri": "https://localhost:8080/",
          "height": 136
        },
        "outputId": "635fb43b-dbee-4745-94f8-b49410b1482c"
      },
      "source": [
        "print(faces_idx)"
      ],
      "execution_count": null,
      "outputs": [
        {
          "output_type": "stream",
          "text": [
            "tensor([[  0,  40,  85],\n",
            "        [ 40,  39,  85],\n",
            "        [  1,  41,   0],\n",
            "        ...,\n",
            "        [217,   6,   7],\n",
            "        [119, 217, 216],\n",
            "        [216, 217,   7]], device='cuda:0')\n"
          ],
          "name": "stdout"
        }
      ]
    },
    {
      "cell_type": "code",
      "metadata": {
        "colab_type": "code",
        "id": "6BxDTpB2WHRH",
        "colab": {}
      },
      "source": [
        "# An initial mesh (\"random noise\")\n",
        "src_mesh = ico_sphere(5, device)"
      ],
      "execution_count": 52,
      "outputs": []
    },
    {
      "cell_type": "code",
      "metadata": {
        "id": "zLjv_TY7CYBm",
        "colab_type": "code",
        "colab": {}
      },
      "source": [
        "sph=ico_sphere(5, device)"
      ],
      "execution_count": 74,
      "outputs": []
    },
    {
      "cell_type": "code",
      "metadata": {
        "id": "1rTrVkCHhVhG",
        "colab_type": "code",
        "colab": {}
      },
      "source": [
        "import scipy.io as io\n",
        "voxels = io.loadmat(\"piano_000000036_7\")['instance']\n",
        "voxels"
      ],
      "execution_count": null,
      "outputs": []
    },
    {
      "cell_type": "code",
      "metadata": {
        "id": "muBehXJHhlWZ",
        "colab_type": "code",
        "colab": {}
      },
      "source": [
        "import numpy as np\n",
        "voxels = np.pad(voxels, (1, 1), 'constant', constant_values=(0, 0))\n",
        "voxels"
      ],
      "execution_count": null,
      "outputs": []
    },
    {
      "cell_type": "code",
      "metadata": {
        "id": "Gg5wp7MhidGd",
        "colab_type": "code",
        "colab": {}
      },
      "source": [
        "vox=torch.from_numpy(voxels) \n",
        "#vox=torch.reshape(vox,(4,17,68,68)) #reshape to 4 rank tensor\n",
        "vox"
      ],
      "execution_count": null,
      "outputs": []
    },
    {
      "cell_type": "code",
      "metadata": {
        "id": "sQZFEaQghqvK",
        "colab_type": "code",
        "colab": {}
      },
      "source": [
        "import scipy.ndimage as nd\n",
        "voxels = nd.zoom(voxels, (2, 2, 2), mode='constant', order=0)"
      ],
      "execution_count": null,
      "outputs": []
    },
    {
      "cell_type": "markdown",
      "metadata": {
        "colab_type": "text",
        "id": "dYWDl4VGWHRK"
      },
      "source": [
        "###  Visualize the source and target meshes"
      ]
    },
    {
      "cell_type": "code",
      "metadata": {
        "colab_type": "code",
        "id": "482YycLHWHRL",
        "colab": {}
      },
      "source": [
        "def plot_pointcloud(mesh, title=\"\"):\n",
        "    # Sample points uniformly from the surface of the mesh.\n",
        "    points = sample_points_from_meshes(mesh, 5000)\n",
        "    x, y, z = points.clone().detach().cpu().squeeze().unbind(1)    \n",
        "    fig = plt.figure(figsize=(5, 5))\n",
        "    ax = Axes3D(fig)\n",
        "    ax.scatter3D(x, z, -y)\n",
        "    ax.set_xlabel('x')\n",
        "    ax.set_ylabel('z')\n",
        "    ax.set_zlabel('y')\n",
        "    ax.set_title(title)\n",
        "    ax.view_init(190, 30)\n",
        "    plt.show()"
      ],
      "execution_count": null,
      "outputs": []
    },
    {
      "cell_type": "code",
      "metadata": {
        "colab_type": "code",
        "id": "UoGcflJ_WHRO",
        "colab": {
          "base_uri": "https://localhost:8080/",
          "height": 197
        },
        "outputId": "5fec5626-9958-47ff-c1a5-581bfb642ce2"
      },
      "source": [
        "# %matplotlib notebook\n",
        "plot_pointcloud(trg_mesh, \"Target mesh\")\n",
        "plot_pointcloud(src_mesh, \"Source mesh\")"
      ],
      "execution_count": null,
      "outputs": [
        {
          "output_type": "error",
          "ename": "NameError",
          "evalue": "ignored",
          "traceback": [
            "\u001b[0;31m---------------------------------------------------------------------------\u001b[0m",
            "\u001b[0;31mNameError\u001b[0m                                 Traceback (most recent call last)",
            "\u001b[0;32m<ipython-input-19-66cc3a14e0cc>\u001b[0m in \u001b[0;36m<module>\u001b[0;34m()\u001b[0m\n\u001b[1;32m      1\u001b[0m \u001b[0;31m# %matplotlib notebook\u001b[0m\u001b[0;34m\u001b[0m\u001b[0;34m\u001b[0m\u001b[0;34m\u001b[0m\u001b[0m\n\u001b[0;32m----> 2\u001b[0;31m \u001b[0mplot_pointcloud\u001b[0m\u001b[0;34m(\u001b[0m\u001b[0mtrg_mesh\u001b[0m\u001b[0;34m,\u001b[0m \u001b[0;34m\"Target mesh\"\u001b[0m\u001b[0;34m)\u001b[0m\u001b[0;34m\u001b[0m\u001b[0;34m\u001b[0m\u001b[0m\n\u001b[0m\u001b[1;32m      3\u001b[0m \u001b[0mplot_pointcloud\u001b[0m\u001b[0;34m(\u001b[0m\u001b[0msrc_mesh\u001b[0m\u001b[0;34m,\u001b[0m \u001b[0;34m\"Source mesh\"\u001b[0m\u001b[0;34m)\u001b[0m\u001b[0;34m\u001b[0m\u001b[0;34m\u001b[0m\u001b[0m\n",
            "\u001b[0;31mNameError\u001b[0m: name 'trg_mesh' is not defined"
          ]
        }
      ]
    },
    {
      "cell_type": "markdown",
      "metadata": {
        "id": "3vTqnJcL2KSp",
        "colab_type": "text"
      },
      "source": [
        "## Make a model\n"
      ]
    },
    {
      "cell_type": "code",
      "metadata": {
        "id": "GDlronCDqwHq",
        "colab_type": "code",
        "colab": {
          "base_uri": "https://localhost:8080/",
          "height": 34
        },
        "outputId": "3ff2a33e-5726-4111-c78c-4298d7c94ac8"
      },
      "source": [
        "vox=torch.randn((4,4,4,4)) #a random grid of voxels\n",
        "vox=vox.to('cuda')\n",
        "vox.device"
      ],
      "execution_count": 61,
      "outputs": [
        {
          "output_type": "execute_result",
          "data": {
            "text/plain": [
              "device(type='cuda', index=0)"
            ]
          },
          "metadata": {
            "tags": []
          },
          "execution_count": 61
        }
      ]
    },
    {
      "cell_type": "code",
      "metadata": {
        "id": "axCfokAtNHYh",
        "colab_type": "code",
        "colab": {
          "base_uri": "https://localhost:8080/",
          "height": 1000
        },
        "outputId": "c5a7bb43-bd36-42e6-c0e0-92c21e12c639"
      },
      "source": [
        "#hmmm so I probably need voxels to use these?\n",
        "\n",
        "cubifier=pytorch3d.ops.cubify(vox,0.1,device)\n",
        "v,f=cubifier.get_mesh_verts_faces(0)\n",
        "print(v)\n",
        "cubifier.device"
      ],
      "execution_count": 62,
      "outputs": [
        {
          "output_type": "stream",
          "text": [
            "tensor([[-1.0000, -1.0000,  1.0000],\n",
            "        [-1.0000, -1.0000,  1.6667],\n",
            "        [-0.3333, -1.0000, -1.0000],\n",
            "        [-0.3333, -1.0000, -0.3333],\n",
            "        [-0.3333, -1.0000,  0.3333],\n",
            "        [-0.3333, -1.0000,  1.0000],\n",
            "        [-0.3333, -1.0000,  1.6667],\n",
            "        [ 0.3333, -1.0000, -1.0000],\n",
            "        [ 0.3333, -1.0000, -0.3333],\n",
            "        [ 0.3333, -1.0000,  0.3333],\n",
            "        [ 1.0000, -1.0000, -1.0000],\n",
            "        [ 1.0000, -1.0000, -0.3333],\n",
            "        [ 1.0000, -1.0000,  0.3333],\n",
            "        [ 1.0000, -1.0000,  1.0000],\n",
            "        [ 1.0000, -1.0000,  1.6667],\n",
            "        [ 1.6667, -1.0000,  0.3333],\n",
            "        [ 1.6667, -1.0000,  1.0000],\n",
            "        [ 1.6667, -1.0000,  1.6667],\n",
            "        [-1.0000, -0.3333, -0.3333],\n",
            "        [-1.0000, -0.3333,  0.3333],\n",
            "        [-1.0000, -0.3333,  1.0000],\n",
            "        [-1.0000, -0.3333,  1.6667],\n",
            "        [-0.3333, -0.3333, -1.0000],\n",
            "        [-0.3333, -0.3333, -0.3333],\n",
            "        [-0.3333, -0.3333,  0.3333],\n",
            "        [-0.3333, -0.3333,  1.0000],\n",
            "        [-0.3333, -0.3333,  1.6667],\n",
            "        [ 0.3333, -0.3333, -1.0000],\n",
            "        [ 0.3333, -0.3333, -0.3333],\n",
            "        [ 0.3333, -0.3333,  0.3333],\n",
            "        [ 0.3333, -0.3333,  1.0000],\n",
            "        [ 0.3333, -0.3333,  1.6667],\n",
            "        [ 1.0000, -0.3333, -1.0000],\n",
            "        [ 1.0000, -0.3333, -0.3333],\n",
            "        [ 1.0000, -0.3333,  0.3333],\n",
            "        [ 1.0000, -0.3333,  1.0000],\n",
            "        [ 1.0000, -0.3333,  1.6667],\n",
            "        [ 1.6667, -0.3333,  0.3333],\n",
            "        [ 1.6667, -0.3333,  1.0000],\n",
            "        [ 1.6667, -0.3333,  1.6667],\n",
            "        [-1.0000,  0.3333, -1.0000],\n",
            "        [-1.0000,  0.3333, -0.3333],\n",
            "        [-1.0000,  0.3333,  0.3333],\n",
            "        [-0.3333,  0.3333, -1.0000],\n",
            "        [-0.3333,  0.3333, -0.3333],\n",
            "        [-0.3333,  0.3333,  0.3333],\n",
            "        [-0.3333,  0.3333,  1.0000],\n",
            "        [-0.3333,  0.3333,  1.6667],\n",
            "        [ 0.3333,  0.3333, -1.0000],\n",
            "        [ 0.3333,  0.3333, -0.3333],\n",
            "        [ 0.3333,  0.3333,  0.3333],\n",
            "        [ 0.3333,  0.3333,  1.0000],\n",
            "        [ 0.3333,  0.3333,  1.6667],\n",
            "        [ 1.0000,  0.3333, -1.0000],\n",
            "        [ 1.0000,  0.3333, -0.3333],\n",
            "        [ 1.0000,  0.3333,  0.3333],\n",
            "        [ 1.0000,  0.3333,  1.0000],\n",
            "        [ 1.0000,  0.3333,  1.6667],\n",
            "        [ 1.6667,  0.3333, -0.3333],\n",
            "        [ 1.6667,  0.3333,  0.3333],\n",
            "        [-1.0000,  1.0000, -1.0000],\n",
            "        [-1.0000,  1.0000, -0.3333],\n",
            "        [-1.0000,  1.0000,  0.3333],\n",
            "        [-1.0000,  1.0000,  1.0000],\n",
            "        [-1.0000,  1.0000,  1.6667],\n",
            "        [-0.3333,  1.0000, -1.0000],\n",
            "        [-0.3333,  1.0000, -0.3333],\n",
            "        [-0.3333,  1.0000,  0.3333],\n",
            "        [-0.3333,  1.0000,  1.0000],\n",
            "        [-0.3333,  1.0000,  1.6667],\n",
            "        [ 0.3333,  1.0000, -1.0000],\n",
            "        [ 0.3333,  1.0000, -0.3333],\n",
            "        [ 0.3333,  1.0000,  0.3333],\n",
            "        [ 0.3333,  1.0000,  1.0000],\n",
            "        [ 0.3333,  1.0000,  1.6667],\n",
            "        [ 1.0000,  1.0000, -1.0000],\n",
            "        [ 1.0000,  1.0000, -0.3333],\n",
            "        [ 1.0000,  1.0000,  0.3333],\n",
            "        [ 1.0000,  1.0000,  1.0000],\n",
            "        [ 1.0000,  1.0000,  1.6667],\n",
            "        [ 1.6667,  1.0000, -1.0000],\n",
            "        [ 1.6667,  1.0000, -0.3333],\n",
            "        [ 1.6667,  1.0000,  0.3333],\n",
            "        [ 1.6667,  1.0000,  1.0000],\n",
            "        [ 1.6667,  1.0000,  1.6667],\n",
            "        [-1.0000,  1.6667,  1.0000],\n",
            "        [-1.0000,  1.6667,  1.6667],\n",
            "        [-0.3333,  1.6667,  0.3333],\n",
            "        [-0.3333,  1.6667,  1.0000],\n",
            "        [-0.3333,  1.6667,  1.6667],\n",
            "        [ 0.3333,  1.6667, -1.0000],\n",
            "        [ 0.3333,  1.6667, -0.3333],\n",
            "        [ 0.3333,  1.6667,  0.3333],\n",
            "        [ 0.3333,  1.6667,  1.0000],\n",
            "        [ 1.0000,  1.6667, -1.0000],\n",
            "        [ 1.0000,  1.6667, -0.3333],\n",
            "        [ 1.0000,  1.6667,  0.3333],\n",
            "        [ 1.0000,  1.6667,  1.0000],\n",
            "        [ 1.0000,  1.6667,  1.6667],\n",
            "        [ 1.6667,  1.6667, -1.0000],\n",
            "        [ 1.6667,  1.6667, -0.3333],\n",
            "        [ 1.6667,  1.6667,  0.3333],\n",
            "        [ 1.6667,  1.6667,  1.0000],\n",
            "        [ 1.6667,  1.6667,  1.6667]], device='cuda:0')\n"
          ],
          "name": "stdout"
        },
        {
          "output_type": "execute_result",
          "data": {
            "text/plain": [
              "device(type='cuda', index=0)"
            ]
          },
          "metadata": {
            "tags": []
          },
          "execution_count": 62
        }
      ]
    },
    {
      "cell_type": "code",
      "metadata": {
        "id": "ESDhVQz5s7eC",
        "colab_type": "code",
        "colab": {}
      },
      "source": [
        "# Fetch the verts and faces of the final predicted mesh\n",
        "final_verts2, final_faces2 = cubifier.get_mesh_verts_faces(0)\n",
        "\n",
        "# Store the predicted mesh using save_obj\n",
        "final_obj2 = os.path.join('./', 'exp_model2.obj')\n",
        "save_obj(final_obj2, final_verts2, final_faces2)"
      ],
      "execution_count": 13,
      "outputs": []
    },
    {
      "cell_type": "code",
      "metadata": {
        "id": "eS3lZtVPrXQT",
        "colab_type": "code",
        "colab": {}
      },
      "source": [
        "files.download('exp_model2.obj')"
      ],
      "execution_count": null,
      "outputs": []
    },
    {
      "cell_type": "markdown",
      "metadata": {
        "id": "3Lg90Ugu1P7h",
        "colab_type": "text"
      },
      "source": [
        "##model"
      ]
    },
    {
      "cell_type": "code",
      "metadata": {
        "id": "iwwP4zBEzQv4",
        "colab_type": "code",
        "colab": {}
      },
      "source": [
        "# N is batch size; D_in is input dimension;\n",
        "# H is hidden dimension; D_out is output dimension.\n",
        "N, D_in, H, D_out = 64, 1000, 100, 10\n",
        "\n",
        "# Create random Tensors to hold inputs and outputs\n",
        "x = torch.randn(N, D_in)\n",
        "y = torch.randn(N, D_out)\n",
        "z = torch.randn(10,2)\n",
        "\n",
        "print(x)\n",
        "print(z)\n",
        "#a sequential model \n",
        "model = torch.nn.Sequential(\n",
        "    pytorch3d.ops.GraphConv(D_in, 2,directed=False),   \n",
        "    #torch.nn.Linear(D_in, H), \n",
        "    torch.nn.ReLU(),\n",
        "    pytorch3d.ops.GraphConv(2, D_out)\n",
        "    #torch.nn.Linear(H, D_out)    \n",
        ")\n",
        "print(model)\n",
        "print(pytorch3d.ops.GraphConv(D_in, H))\n",
        "#loss_fn = torch.nn.MSELoss(reduction='sum')\n",
        "\n",
        "\n",
        "learning_rate = 0.01\n",
        "optimizer = torch.optim.Adam(model.parameters(), lr=learning_rate)\n",
        "\n",
        "\n",
        "for t in range(500):\n",
        "  \n",
        "    # Forward pass: compute predicted y by passing x to the model.\n",
        "    y_pred = model(x)\n",
        "\n",
        "    # Compute and print loss.\n",
        "    loss = loss_fn(y_pred, y)\n",
        "    if t % 100 == 99:\n",
        "        print(t, loss.item())\n",
        "\n",
        "    # Before the backward pass, use the optimizer object to zero all of the\n",
        "    # gradients for the variables it will update (which are the learnable\n",
        "    # weights of the model). This is because by default, gradients are\n",
        "    # accumulated in buffers( i.e, not overwritten) whenever .backward()\n",
        "    # is called. Checkout docs of torch.autograd.backward for more details.\n",
        "    optimizer.zero_grad()\n",
        "\n",
        "    # Backward pass: compute gradient of the loss with respect to model\n",
        "    # parameters\n",
        "    loss.backward()\n",
        "\n",
        "    # Calling the step function on an Optimizer makes an update to its\n",
        "    # parameters\n",
        "    optimizer.step()"
      ],
      "execution_count": null,
      "outputs": []
    },
    {
      "cell_type": "code",
      "metadata": {
        "id": "d25Xs3GYFO9x",
        "colab_type": "code",
        "colab": {
          "base_uri": "https://localhost:8080/",
          "height": 34
        },
        "outputId": "567f0ff9-222a-4bdd-f94c-c9739344ac7e"
      },
      "source": [
        "y_pred = GraphConv(x,z)\n",
        "print(y_pred)"
      ],
      "execution_count": null,
      "outputs": [
        {
          "output_type": "stream",
          "text": [
            "GraphConv(1 -> 3, directed=False)\n"
          ],
          "name": "stdout"
        }
      ]
    },
    {
      "cell_type": "markdown",
      "metadata": {
        "colab_type": "text",
        "id": "8uzMiTUSWHRS"
      },
      "source": [
        "## 3. Optimization loop "
      ]
    },
    {
      "cell_type": "code",
      "metadata": {
        "id": "z7uzSj-Bzu5d",
        "colab_type": "code",
        "colab": {}
      },
      "source": [
        "src_mesh = cubifier"
      ],
      "execution_count": 63,
      "outputs": []
    },
    {
      "cell_type": "code",
      "metadata": {
        "colab_type": "code",
        "id": "Sc-3M17Ltuvh",
        "colab": {}
      },
      "source": [
        "# We will learn to deform the source mesh by offsetting its vertices\n",
        "# The shape of the deform parameters is equal to the total number of vertices in src_mesh\n",
        "deform_verts = torch.full(src_mesh.verts_packed().shape, 0.0, device= device, requires_grad=True)"
      ],
      "execution_count": 64,
      "outputs": []
    },
    {
      "cell_type": "code",
      "metadata": {
        "colab_type": "code",
        "id": "0BtSUfMYtuvl",
        "colab": {}
      },
      "source": [
        "# The optimizer\n",
        "optimizer = torch.optim.SGD([deform_verts], lr=1.0, momentum=0.9)"
      ],
      "execution_count": 65,
      "outputs": []
    },
    {
      "cell_type": "code",
      "metadata": {
        "id": "JACw05C_qyPJ",
        "colab_type": "code",
        "colab": {}
      },
      "source": [
        "# change optimizer\n",
        "optimizer = torch.optim.Adam([deform_verts], lr=1.0)"
      ],
      "execution_count": null,
      "outputs": []
    },
    {
      "cell_type": "code",
      "metadata": {
        "colab_type": "code",
        "id": "9DAjqI9Atuvp",
        "scrolled": false,
        "colab": {
          "base_uri": "https://localhost:8080/",
          "height": 117,
          "referenced_widgets": [
            "a6db031ca39a45b3b4eb39d20e8f6a9d",
            "8685f8e0f7444e59926d1655734b05f4",
            "933ea531c2a44056b8b31ecd0c4b8d73",
            "74f4e5cf9871489cbc291ff7e73e4d6a",
            "d3b83de033a04b9085361dcef1364a76",
            "28daba4f34c2463ea08c63bcba792ebb",
            "14522edf034d4f11830a64307d93b476",
            "9b1bebd9fb4d46e486b4b8dc385b8eb5"
          ]
        },
        "outputId": "c8c769ad-58e6-49d6-8e7e-158d04871e4c"
      },
      "source": [
        "# Number of optimization steps\n",
        "Niter = 2000\n",
        "# Weight for the chamfer loss\n",
        "w_chamfer = 1.0 \n",
        "# Weight for mesh edge loss\n",
        "w_edge = 1.0 \n",
        "# Weight for mesh normal consistency\n",
        "w_normal = 0.01 \n",
        "# Weight for mesh laplacian smoothing\n",
        "w_laplacian = 0.1 \n",
        "# Plot period for the losses\n",
        "plot_period = 250\n",
        "loop = tqdm_notebook(range(Niter))\n",
        "\n",
        "chamfer_losses = []\n",
        "laplacian_losses = []\n",
        "edge_losses = []\n",
        "normal_losses = []\n",
        "\n",
        "%matplotlib inline\n",
        "\n",
        "for i in loop:\n",
        "    # Initialize optimizer\n",
        "    optimizer.zero_grad()\n",
        "    \n",
        "    # Deform the mesh\n",
        "    new_src_mesh = src_mesh.offset_verts(deform_verts)\n",
        "    \n",
        "    # We sample 5k points from the surface of each mesh \n",
        "    sample_trg = sample_points_from_meshes(rabbit_mesh, 5000) \n",
        "    sample_src = sample_points_from_meshes(new_src_mesh, 5000)\n",
        "    sample_src = sample_src.reshape((1,4*5000,3))\n",
        "    \n",
        "    #chamfer loss between point clouds\n",
        "    loss_chamfer, _ = chamfer_distance(sample_trg, sample_src)\n",
        "\n",
        "    # Weighted sum of the losses\n",
        "    loss = loss_chamfer * w_chamfer\n",
        "\n",
        "    ########check tensor shapes\n",
        "    #samplesph = sample_points_from_meshes(sph, 5000) \n",
        "    #print(sample_trg.shape)\n",
        "    #print(sample_src.shape)\n",
        "    #print(samplesph.shape)\n",
        "\n",
        "    # torch.Size([1, 5000, 3])\n",
        "    # torch.Size([4, 5000, 3]) why?\n",
        "    ###########################\n",
        "\n",
        "        # Optimization step\n",
        "    loss.backward()\n",
        "    optimizer.step()\n"
      ],
      "execution_count": 77,
      "outputs": [
        {
          "output_type": "stream",
          "text": [
            "/usr/local/lib/python3.6/dist-packages/ipykernel_launcher.py:13: TqdmDeprecationWarning: This function will be removed in tqdm==5.0.0\n",
            "Please use `tqdm.notebook.tqdm` instead of `tqdm.tqdm_notebook`\n",
            "  del sys.path[0]\n"
          ],
          "name": "stderr"
        },
        {
          "output_type": "display_data",
          "data": {
            "application/vnd.jupyter.widget-view+json": {
              "model_id": "a6db031ca39a45b3b4eb39d20e8f6a9d",
              "version_minor": 0,
              "version_major": 2
            },
            "text/plain": [
              "HBox(children=(FloatProgress(value=0.0, max=2000.0), HTML(value='')))"
            ]
          },
          "metadata": {
            "tags": []
          }
        },
        {
          "output_type": "stream",
          "text": [
            "\n"
          ],
          "name": "stdout"
        }
      ]
    },
    {
      "cell_type": "markdown",
      "metadata": {
        "colab_type": "text",
        "id": "VGcZsvWBWHRc"
      },
      "source": [
        "## 4. Visualize the loss"
      ]
    },
    {
      "cell_type": "code",
      "metadata": {
        "colab_type": "code",
        "id": "baXvAo1yWHRd",
        "colab": {
          "base_uri": "https://localhost:8080/",
          "height": 374
        },
        "outputId": "8d531a57-ac54-41c1-ce3e-b2d1b4f60334"
      },
      "source": [
        "fig = plt.figure(figsize=(13, 5))\n",
        "ax = fig.gca()\n",
        "ax.plot(chamfer_losses, label=\"chamfer loss\")\n",
        "ax.plot(edge_losses, label=\"edge loss\")\n",
        "ax.plot(normal_losses, label=\"normal loss\")\n",
        "ax.plot(laplacian_losses, label=\"laplacian loss\")\n",
        "ax.legend(fontsize=\"16\")\n",
        "ax.set_xlabel(\"Iteration\", fontsize=\"16\")\n",
        "ax.set_ylabel(\"Loss\", fontsize=\"16\")\n",
        "ax.set_title(\"Loss vs iterations\", fontsize=\"16\")"
      ],
      "execution_count": 78,
      "outputs": [
        {
          "output_type": "execute_result",
          "data": {
            "text/plain": [
              "Text(0.5, 1.0, 'Loss vs iterations')"
            ]
          },
          "metadata": {
            "tags": []
          },
          "execution_count": 78
        },
        {
          "output_type": "display_data",
          "data": {
            "image/png": "[encoded data removed]",
            "text/plain": [
              "<Figure size 936x360 with 1 Axes>"
            ]
          },
          "metadata": {
            "tags": [],
            "needs_background": "light"
          }
        }
      ]
    },
    {
      "cell_type": "markdown",
      "metadata": {
        "colab_type": "text",
        "id": "Y9vSKErDWHRg"
      },
      "source": [
        "## 5. Save the predicted mesh"
      ]
    },
    {
      "cell_type": "code",
      "metadata": {
        "colab_type": "code",
        "id": "krikJzrLtuvw",
        "colab": {}
      },
      "source": [
        "# Fetch the verts and faces of the final predicted mesh\n",
        "final_verts, final_faces = new_src_mesh.get_mesh_verts_faces(0)\n",
        "\n",
        "# Scale normalize back to the original target size\n",
        "final_verts = final_verts * scale + center\n",
        "\n",
        "# Store the predicted mesh using save_obj\n",
        "final_obj = os.path.join('./', 'exp_model1.obj')\n",
        "save_obj(final_obj, final_verts, final_faces)"
      ],
      "execution_count": 79,
      "outputs": []
    },
    {
      "cell_type": "code",
      "metadata": {
        "id": "HQKUDgaTbgDE",
        "colab_type": "code",
        "colab": {}
      },
      "source": [
        "files.download('exp_model1.obj')\n",
        "#files.download('exp_model2.obj')"
      ],
      "execution_count": 80,
      "outputs": []
    },
    {
      "cell_type": "markdown",
      "metadata": {
        "colab_type": "text",
        "id": "quR1DVAcWHRk"
      },
      "source": [
        "## 6. Conclusion \n",
        "\n",
        "In this tutorial we learnt how to load a mesh from an obj file, initialize a PyTorch3D datastructure called **Meshes**, set up an optimization loop and use four different PyTorch3D mesh loss functions. "
      ]
    }
  ]
}