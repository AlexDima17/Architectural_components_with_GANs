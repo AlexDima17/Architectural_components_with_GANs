{
 "cells": [
  {
   "cell_type": "markdown",
   "metadata": {},
   "source": [
    "Load modules"
   ]
  },
  {
   "cell_type": "code",
   "execution_count": 1,
   "metadata": {},
   "outputs": [],
   "source": [
    "%load_ext autoreload\n",
    "%matplotlib inline"
   ]
  },
  {
   "cell_type": "code",
   "execution_count": 2,
   "metadata": {},
   "outputs": [],
   "source": [
    "%autoreload 2\n",
    "\n",
    "from IPython import display\n",
    "from utils import Logger \n",
    "\n",
    "import torch\n",
    "from torch import nn, optim\n",
    "from torch.autograd.variable import Variable\n",
    "from torchvision import transforms, datasets\n",
    "\n",
    "import numpy as np\n",
    "import matplotlib.pyplot as plt\n",
    "\n",
    "import numpy as np\n",
    "import trimesh\n",
    "import trimesh.voxel.creation\n",
    "import rtree"
   ]
  },
  {
   "cell_type": "code",
   "execution_count": 3,
   "metadata": {},
   "outputs": [],
   "source": [
    "from torch.utils.data import Dataset"
   ]
  },
  {
   "cell_type": "code",
   "execution_count": 4,
   "metadata": {},
   "outputs": [],
   "source": [
    "import scipy.ndimage as ndimage"
   ]
  },
  {
   "cell_type": "markdown",
   "metadata": {},
   "source": [
    "load .obj files"
   ]
  },
  {
   "cell_type": "code",
   "execution_count": 5,
   "metadata": {},
   "outputs": [],
   "source": [
    "data_folder='./inputs'"
   ]
  },
  {
   "cell_type": "code",
   "execution_count": 6,
   "metadata": {},
   "outputs": [
    {
     "name": "stderr",
     "output_type": "stream",
     "text": [
      "faces have mixed data, using slow fallback!\n",
      "faces have mixed data, using slow fallback!\n",
      "faces have mixed data, using slow fallback!\n",
      "faces have mixed data, using slow fallback!\n"
     ]
    },
    {
     "data": {
      "text/plain": [
       "list"
      ]
     },
     "execution_count": 6,
     "metadata": {},
     "output_type": "execute_result"
    }
   ],
   "source": [
    "meshes = [trimesh.load_mesh('./inputs/s3.obj'),trimesh.load_mesh('./inputs/s4.obj'),trimesh.load_mesh('./inputs/s5.obj'),trimesh.load_mesh('./inputs/s6.obj')]\n",
    "type(meshes)"
   ]
  },
  {
   "cell_type": "markdown",
   "metadata": {},
   "source": [
    "Reshape tensors with padding"
   ]
  },
  {
   "cell_type": "code",
   "execution_count": 7,
   "metadata": {},
   "outputs": [],
   "source": [
    "# Define size of the space (pix)\n",
    "scene_size = 30 "
   ]
  },
  {
   "cell_type": "code",
   "execution_count": 8,
   "metadata": {},
   "outputs": [],
   "source": [
    "# convert to tensors\n",
    "vox_meshes = []\n",
    "for m in range(len(meshes)):\n",
    "    voxelized= trimesh.voxel.creation.voxelize(meshes[m],0.3)\n",
    "    matrix = torch.from_numpy(voxelized.matrix) \n",
    "    target = torch.zeros(scene_size,scene_size,scene_size)\n",
    "    source = torch.ones(matrix.shape)\n",
    "    target[:source.size(0), :source.size(1), :source.size(2)] = source\n",
    "    vox_meshes.append(target.reshape([1,scene_size,scene_size,scene_size]))"
   ]
  },
  {
   "cell_type": "code",
   "execution_count": 9,
   "metadata": {},
   "outputs": [
    {
     "data": {
      "text/plain": [
       "torch.Size([1, 30, 30, 30])"
      ]
     },
     "execution_count": 9,
     "metadata": {},
     "output_type": "execute_result"
    }
   ],
   "source": [
    "vox_meshes[0].shape #check"
   ]
  },
  {
   "cell_type": "code",
   "execution_count": 10,
   "metadata": {},
   "outputs": [],
   "source": [
    "#dataset class\n",
    "class object_dataset(Dataset):\n",
    "    def __init__(self):\n",
    "        self.samples = vox_meshes\n",
    "\n",
    "    def __len__(self):\n",
    "        return len(self.samples)\n",
    "\n",
    "    def __getitem__(self, idx):\n",
    "        return self.samples[idx]"
   ]
  },
  {
   "cell_type": "code",
   "execution_count": 11,
   "metadata": {},
   "outputs": [],
   "source": [
    "train_set = object_dataset() #load the data"
   ]
  },
  {
   "cell_type": "code",
   "execution_count": 12,
   "metadata": {},
   "outputs": [
    {
     "data": {
      "text/plain": [
       "tensor([[[[1., 1., 1.,  ..., 0., 0., 0.],\n",
       "          [1., 1., 1.,  ..., 0., 0., 0.],\n",
       "          [1., 1., 1.,  ..., 0., 0., 0.],\n",
       "          ...,\n",
       "          [0., 0., 0.,  ..., 0., 0., 0.],\n",
       "          [0., 0., 0.,  ..., 0., 0., 0.],\n",
       "          [0., 0., 0.,  ..., 0., 0., 0.]],\n",
       "\n",
       "         [[1., 1., 1.,  ..., 0., 0., 0.],\n",
       "          [1., 1., 1.,  ..., 0., 0., 0.],\n",
       "          [1., 1., 1.,  ..., 0., 0., 0.],\n",
       "          ...,\n",
       "          [0., 0., 0.,  ..., 0., 0., 0.],\n",
       "          [0., 0., 0.,  ..., 0., 0., 0.],\n",
       "          [0., 0., 0.,  ..., 0., 0., 0.]],\n",
       "\n",
       "         [[1., 1., 1.,  ..., 0., 0., 0.],\n",
       "          [1., 1., 1.,  ..., 0., 0., 0.],\n",
       "          [1., 1., 1.,  ..., 0., 0., 0.],\n",
       "          ...,\n",
       "          [0., 0., 0.,  ..., 0., 0., 0.],\n",
       "          [0., 0., 0.,  ..., 0., 0., 0.],\n",
       "          [0., 0., 0.,  ..., 0., 0., 0.]],\n",
       "\n",
       "         ...,\n",
       "\n",
       "         [[0., 0., 0.,  ..., 0., 0., 0.],\n",
       "          [0., 0., 0.,  ..., 0., 0., 0.],\n",
       "          [0., 0., 0.,  ..., 0., 0., 0.],\n",
       "          ...,\n",
       "          [0., 0., 0.,  ..., 0., 0., 0.],\n",
       "          [0., 0., 0.,  ..., 0., 0., 0.],\n",
       "          [0., 0., 0.,  ..., 0., 0., 0.]],\n",
       "\n",
       "         [[0., 0., 0.,  ..., 0., 0., 0.],\n",
       "          [0., 0., 0.,  ..., 0., 0., 0.],\n",
       "          [0., 0., 0.,  ..., 0., 0., 0.],\n",
       "          ...,\n",
       "          [0., 0., 0.,  ..., 0., 0., 0.],\n",
       "          [0., 0., 0.,  ..., 0., 0., 0.],\n",
       "          [0., 0., 0.,  ..., 0., 0., 0.]],\n",
       "\n",
       "         [[0., 0., 0.,  ..., 0., 0., 0.],\n",
       "          [0., 0., 0.,  ..., 0., 0., 0.],\n",
       "          [0., 0., 0.,  ..., 0., 0., 0.],\n",
       "          ...,\n",
       "          [0., 0., 0.,  ..., 0., 0., 0.],\n",
       "          [0., 0., 0.,  ..., 0., 0., 0.],\n",
       "          [0., 0., 0.,  ..., 0., 0., 0.]]]])"
      ]
     },
     "execution_count": 12,
     "metadata": {},
     "output_type": "execute_result"
    }
   ],
   "source": [
    "x = train_set[2]  #check\n",
    "x"
   ]
  },
  {
   "cell_type": "code",
   "execution_count": 13,
   "metadata": {},
   "outputs": [],
   "source": [
    "#Create dataloader\n",
    "train_loader = torch.utils.data.DataLoader(train_set, batch_size=3, shuffle=True) "
   ]
  },
  {
   "cell_type": "code",
   "execution_count": 14,
   "metadata": {},
   "outputs": [],
   "source": [
    "num_batches=len(train_loader)\n"
   ]
  },
  {
   "cell_type": "markdown",
   "metadata": {},
   "source": [
    "### My Networks"
   ]
  },
  {
   "cell_type": "code",
   "execution_count": 15,
   "metadata": {
    "scrolled": true
   },
   "outputs": [],
   "source": [
    "class DiscriminatorNet(torch.nn.Module):\n",
    "    \n",
    "    #3 hidden-layer discriminative nn\n",
    "    \n",
    "    def __init__(self):\n",
    "        super(DiscriminatorNet, self).__init__()\n",
    "        n_features = scene_size * scene_size * scene_size\n",
    "        n_out=1\n",
    "        \n",
    "        \n",
    "#         self.conv1 = nn.Sequential(\n",
    "#             torch.nn.Conv3d(n_features, (int)(n_features/2), kernel_size=4, stride=2, bias=False, padding=1),\n",
    "#             torch.nn.BatchNorm3d(self.cube_size),\n",
    "#             torch.nn.LeakyReLU(0.2)\n",
    "#         )\n",
    "        \n",
    "        self.hidden0=nn.Sequential(\n",
    "#             nn.Linear( n_features/2 , 1024),\n",
    "            nn.Linear( n_features , 1024),\n",
    "            nn.LeakyReLU(0.2),\n",
    "            nn.Dropout(0.3)\n",
    "        )\n",
    "        \n",
    "        self.hidden1=nn.Sequential(\n",
    "            nn.Linear(1024,512),\n",
    "            nn.LeakyReLU(0.2),\n",
    "            nn.Dropout(0.3)\n",
    "        )\n",
    "        \n",
    "        self.hidden2=nn.Sequential(\n",
    "            nn.Linear(512,256),\n",
    "            nn.LeakyReLU(0.2),\n",
    "            nn.Dropout(0.3)\n",
    "        )\n",
    "        \n",
    "        self.out=nn.Sequential(\n",
    "            torch.nn.Linear(256,n_out),\n",
    "            torch.nn.Sigmoid()\n",
    "        )\n",
    "        \n",
    "    def forward(self, x):\n",
    "#         x = self.conv1(x)\n",
    "        x = self.hidden0(x)\n",
    "        x = self.hidden1(x)\n",
    "        x = self.hidden2(x)\n",
    "        x = self.out(x)\n",
    "        return x\n",
    "        \n"
   ]
  },
  {
   "cell_type": "code",
   "execution_count": 16,
   "metadata": {},
   "outputs": [],
   "source": [
    "class GeneratorNet(torch.nn.Module):\n",
    "    def __init__(self):\n",
    "        super(GeneratorNet,self).__init__()\n",
    "        n_features = 100\n",
    "        n_out = scene_size * scene_size * scene_size\n",
    "        \n",
    "#         self.convT_1 = nn.Sequential(\n",
    "#             torch.nn.ConvTranspose3d(n_features, (int)(n_features/2), kernel_size=4, stride=2, bias=False, padding=1),\n",
    "#             torch.nn.BatchNorm3d((int)(n_features/2)),\n",
    "#             torch.nn.ReLU()\n",
    "#         )\n",
    "\n",
    "        self.hidden0=nn.Sequential(\n",
    "            nn.Linear(n_features,256),\n",
    "            nn.LeakyReLU(0.2)\n",
    "        )\n",
    "        \n",
    "        self.hidden1=nn.Sequential(\n",
    "            nn.Linear(256,512),\n",
    "            nn.LeakyReLU(0.2)\n",
    "        )\n",
    "        \n",
    "        self.hidden2=nn.Sequential(\n",
    "            nn.Linear(512,1024),\n",
    "            nn.LeakyReLU(0.2),\n",
    "            nn.Dropout(0.3)\n",
    "        )\n",
    "        \n",
    "        self.out=nn.Sequential(\n",
    "            nn.Linear(1024,n_out),\n",
    "            nn.Tanh()\n",
    "        )\n",
    "        \n",
    "    \n",
    "    def forward(self,x):\n",
    "#         x = self.convT_1(x)\n",
    "        x = self.hidden0(x)\n",
    "        x = self.hidden1(x)\n",
    "        x = self.hidden2(x)\n",
    "        x = self.out(x)\n",
    "        return x\n",
    "    \n"
   ]
  },
  {
   "cell_type": "markdown",
   "metadata": {},
   "source": [
    "Flatten inputs"
   ]
  },
  {
   "cell_type": "code",
   "execution_count": 17,
   "metadata": {},
   "outputs": [],
   "source": [
    "def vox_to_vectors(vox):\n",
    "    return vox.view(vox.size(0),scene_size*scene_size*scene_size)\n",
    "\n",
    "def vectors_to_vox(vectors):\n",
    "    return vectors.view(vectors.size(0),1,scene_size,scene_size,scene_size)"
   ]
  },
  {
   "cell_type": "markdown",
   "metadata": {},
   "source": [
    "Function to generate sample noise"
   ]
  },
  {
   "cell_type": "code",
   "execution_count": 18,
   "metadata": {},
   "outputs": [],
   "source": [
    "def noise(size):\n",
    "    #1-d vector of gaussian sampled random values\n",
    "    \n",
    "    n= Variable(torch.randn(size,100))\n",
    "    #pass to the GPU\n",
    "    if torch.cuda.is_available(): return n.cuda()\n",
    "    return n"
   ]
  },
  {
   "cell_type": "code",
   "execution_count": 19,
   "metadata": {},
   "outputs": [
    {
     "data": {
      "text/plain": [
       "torch.Size([30, 100])"
      ]
     },
     "execution_count": 19,
     "metadata": {},
     "output_type": "execute_result"
    }
   ],
   "source": [
    "n=noise(30)\n",
    "n.shape"
   ]
  },
  {
   "cell_type": "code",
   "execution_count": 20,
   "metadata": {},
   "outputs": [],
   "source": [
    "discriminator = DiscriminatorNet()\n",
    "generator = GeneratorNet() \n",
    "\n",
    "if  torch.cuda.is_available():\n",
    "    discriminator.cuda()\n",
    "    generator.cuda()"
   ]
  },
  {
   "cell_type": "markdown",
   "metadata": {},
   "source": [
    "We also need some additional functionality that allows us to create the random noise. The random noise will be sampled from a normal distribution with mean 0 and variance 1"
   ]
  },
  {
   "cell_type": "markdown",
   "metadata": {},
   "source": [
    "we’ll use Adam as the optimization algorithm for both neural networks"
   ]
  },
  {
   "cell_type": "markdown",
   "metadata": {},
   "source": [
    "### Optimization"
   ]
  },
  {
   "cell_type": "code",
   "execution_count": 21,
   "metadata": {},
   "outputs": [],
   "source": [
    "d_optimizer = optim.Adam(discriminator.parameters(), lr=0.0002)\n",
    "g_optimizer = optim.Adam(generator.parameters(), lr=0.0002)"
   ]
  },
  {
   "cell_type": "markdown",
   "metadata": {},
   "source": [
    "Loss function"
   ]
  },
  {
   "cell_type": "code",
   "execution_count": 22,
   "metadata": {},
   "outputs": [],
   "source": [
    "loss = nn.BCELoss()\n",
    "\n",
    "# Number of steps to apply to the discriminator\n",
    "d_steps = 1\n",
    "\n",
    "# Number of epochs\n",
    "num_epochs = 100"
   ]
  },
  {
   "cell_type": "markdown",
   "metadata": {},
   "source": [
    "Real and fake labels"
   ]
  },
  {
   "cell_type": "code",
   "execution_count": 23,
   "metadata": {},
   "outputs": [],
   "source": [
    "def real_data_target(size):\n",
    "    \n",
    "    # Tensor containing ones(real)\n",
    "    data = Variable(torch.ones(size, 1))\n",
    "    if torch.cuda.is_available(): return data.cuda()\n",
    "    return data\n",
    "\n",
    "def fake_data_target(size):\n",
    "    \n",
    "    # Tensor containing ones(fake)    \n",
    "    data = Variable(torch.zeros(size, 1))\n",
    "    if torch.cuda.is_available(): return data.cuda()\n",
    "    return data"
   ]
  },
  {
   "cell_type": "code",
   "execution_count": 24,
   "metadata": {},
   "outputs": [],
   "source": [
    "def train_discriminator(optimizer , real_data , fake_data):\n",
    "    \n",
    "    N = real_data.size(0)\n",
    "    \n",
    "    #need to zero gradients\n",
    "    optimizer.zero_grad()\n",
    "    \n",
    "    #train on real data\n",
    "    prediction_real = discriminator(real_data)\n",
    "    \n",
    "    #calculate error and backpropagate\n",
    "    error_real=loss(prediction_real,real_data_target(N))\n",
    "    error_real.backward()\n",
    "    \n",
    "    #train on fake data\n",
    "    prediction_fake=discriminator(fake_data)\n",
    "    error_fake=loss(prediction_fake,fake_data_target(N))\n",
    "    error_fake.backward()\n",
    "    \n",
    "    optimizer.step()\n",
    "    \n",
    "    #return error and prdictions for real and fake inputs\n",
    "    return error_real + error_fake, prediction_real, prediction_fake\n",
    "\n",
    "\n",
    "def train_generator(optimizer, fake_data):\n",
    "    # 2. Train Generator\n",
    "    # Reset gradients\n",
    "    optimizer.zero_grad()\n",
    "    # Sample noise and generate fake data\n",
    "    prediction = discriminator(fake_data)\n",
    "    # Calculate error and backpropagate\n",
    "    error = loss(prediction, real_data_target(prediction.size(0)))\n",
    "    error.backward()\n",
    "    # Update weights with gradients\n",
    "    optimizer.step()\n",
    "    # Return error\n",
    "    return error"
   ]
  },
  {
   "cell_type": "markdown",
   "metadata": {},
   "source": [
    "Samples"
   ]
  },
  {
   "cell_type": "code",
   "execution_count": 25,
   "metadata": {},
   "outputs": [],
   "source": [
    "num_test_samples = 1\n",
    "test_noise=noise(num_test_samples)"
   ]
  },
  {
   "cell_type": "markdown",
   "metadata": {},
   "source": [
    "### Training"
   ]
  },
  {
   "cell_type": "code",
   "execution_count": 26,
   "metadata": {},
   "outputs": [
    {
     "name": "stdout",
     "output_type": "stream",
     "text": [
      "<class 'torch.Tensor'>\n",
      "<class 'torch.Tensor'>\n"
     ]
    }
   ],
   "source": [
    "for i, loader_data in enumerate(train_loader):\n",
    "    print(type(loader_data))"
   ]
  },
  {
   "cell_type": "code",
   "execution_count": 27,
   "metadata": {
    "scrolled": true
   },
   "outputs": [
    {
     "name": "stdout",
     "output_type": "stream",
     "text": [
      "Epoch: [0/100], Batch Num: [0/2]\n",
      "Discriminator Loss: 1.3853, Generator Loss: 0.7022\n",
      "D(x): 0.5157, D(G(z)): 0.5148\n",
      "Epoch: [0/100], Batch Num: [1/2]\n",
      "Discriminator Loss: 1.3463, Generator Loss: 0.7373\n",
      "D(x): 0.5205, D(G(z)): 0.5001\n",
      "Epoch: [1/100], Batch Num: [0/2]\n",
      "Discriminator Loss: 1.2964, Generator Loss: 0.7669\n",
      "D(x): 0.5321, D(G(z)): 0.4859\n",
      "Epoch: [1/100], Batch Num: [1/2]\n",
      "Discriminator Loss: 1.2913, Generator Loss: 0.7701\n",
      "D(x): 0.5285, D(G(z)): 0.4798\n",
      "Epoch: [2/100], Batch Num: [0/2]\n",
      "Discriminator Loss: 1.1763, Generator Loss: 0.8479\n",
      "D(x): 0.5696, D(G(z)): 0.4582\n",
      "Epoch: [2/100], Batch Num: [1/2]\n",
      "Discriminator Loss: 1.2348, Generator Loss: 0.8963\n",
      "D(x): 0.5371, D(G(z)): 0.4584\n",
      "Epoch: [3/100], Batch Num: [0/2]\n",
      "Discriminator Loss: 1.0776, Generator Loss: 0.9029\n",
      "D(x): 0.6065, D(G(z)): 0.4382\n",
      "Epoch: [3/100], Batch Num: [1/2]\n",
      "Discriminator Loss: 1.1680, Generator Loss: 0.9013\n",
      "D(x): 0.5562, D(G(z)): 0.4408\n",
      "Epoch: [4/100], Batch Num: [0/2]\n",
      "Discriminator Loss: 1.0104, Generator Loss: 0.9019\n",
      "D(x): 0.6541, D(G(z)): 0.4424\n",
      "Epoch: [4/100], Batch Num: [1/2]\n",
      "Discriminator Loss: 1.1074, Generator Loss: 0.9086\n",
      "D(x): 0.5945, D(G(z)): 0.4442\n",
      "Epoch: [5/100], Batch Num: [0/2]\n",
      "Discriminator Loss: 0.9428, Generator Loss: 0.9198\n",
      "D(x): 0.7270, D(G(z)): 0.4610\n",
      "Epoch: [5/100], Batch Num: [1/2]\n",
      "Discriminator Loss: 1.1844, Generator Loss: 0.6984\n",
      "D(x): 0.6372, D(G(z)): 0.5199\n",
      "Epoch: [6/100], Batch Num: [0/2]\n",
      "Discriminator Loss: 1.0303, Generator Loss: 0.7774\n",
      "D(x): 0.7744, D(G(z)): 0.5320\n",
      "Epoch: [6/100], Batch Num: [1/2]\n",
      "Discriminator Loss: 1.0710, Generator Loss: 0.5693\n",
      "D(x): 0.7781, D(G(z)): 0.5596\n",
      "Epoch: [7/100], Batch Num: [0/2]\n",
      "Discriminator Loss: 1.1764, Generator Loss: 0.6784\n",
      "D(x): 0.8305, D(G(z)): 0.6230\n",
      "Epoch: [7/100], Batch Num: [1/2]\n",
      "Discriminator Loss: 1.1858, Generator Loss: 0.6640\n",
      "D(x): 0.8502, D(G(z)): 0.6407\n",
      "Epoch: [8/100], Batch Num: [0/2]\n",
      "Discriminator Loss: 1.0333, Generator Loss: 0.6569\n",
      "D(x): 0.9048, D(G(z)): 0.6045\n",
      "Epoch: [8/100], Batch Num: [1/2]\n",
      "Discriminator Loss: 1.2377, Generator Loss: 0.6668\n",
      "D(x): 0.7497, D(G(z)): 0.6131\n",
      "Epoch: [9/100], Batch Num: [0/2]\n",
      "Discriminator Loss: 0.9851, Generator Loss: 0.7696\n",
      "D(x): 0.9166, D(G(z)): 0.5908\n",
      "Epoch: [9/100], Batch Num: [1/2]\n",
      "Discriminator Loss: 1.1594, Generator Loss: 0.8664\n",
      "D(x): 0.7925, D(G(z)): 0.6042\n",
      "Epoch: [10/100], Batch Num: [0/2]\n",
      "Discriminator Loss: 0.8156, Generator Loss: 1.1350\n",
      "D(x): 0.8815, D(G(z)): 0.4957\n",
      "Epoch: [10/100], Batch Num: [1/2]\n",
      "Discriminator Loss: 0.5737, Generator Loss: 1.4141\n",
      "D(x): 0.9893, D(G(z)): 0.4304\n",
      "Epoch: [11/100], Batch Num: [0/2]\n",
      "Discriminator Loss: 0.5393, Generator Loss: 1.4483\n",
      "D(x): 0.9410, D(G(z)): 0.3776\n",
      "Epoch: [11/100], Batch Num: [1/2]\n",
      "Discriminator Loss: 0.4810, Generator Loss: 1.6298\n",
      "D(x): 0.9222, D(G(z)): 0.3296\n",
      "Epoch: [12/100], Batch Num: [0/2]\n",
      "Discriminator Loss: 0.3506, Generator Loss: 1.9992\n",
      "D(x): 0.9741, D(G(z)): 0.2769\n",
      "Epoch: [12/100], Batch Num: [1/2]\n",
      "Discriminator Loss: 0.3713, Generator Loss: 2.8682\n",
      "D(x): 0.8784, D(G(z)): 0.2147\n",
      "Epoch: [13/100], Batch Num: [0/2]\n",
      "Discriminator Loss: 0.2016, Generator Loss: 2.7734\n",
      "D(x): 0.9573, D(G(z)): 0.1441\n",
      "Epoch: [13/100], Batch Num: [1/2]\n",
      "Discriminator Loss: 0.2506, Generator Loss: 3.0896\n",
      "D(x): 0.9678, D(G(z)): 0.1957\n",
      "Epoch: [14/100], Batch Num: [0/2]\n",
      "Discriminator Loss: 0.2024, Generator Loss: 2.8579\n",
      "D(x): 0.9599, D(G(z)): 0.1471\n",
      "Epoch: [14/100], Batch Num: [1/2]\n",
      "Discriminator Loss: 0.3986, Generator Loss: 2.7933\n",
      "D(x): 0.9978, D(G(z)): 0.3272\n",
      "Epoch: [15/100], Batch Num: [0/2]\n",
      "Discriminator Loss: 0.3737, Generator Loss: 2.1759\n",
      "D(x): 0.9534, D(G(z)): 0.2691\n",
      "Epoch: [15/100], Batch Num: [1/2]\n",
      "Discriminator Loss: 0.3154, Generator Loss: 3.0142\n",
      "D(x): 0.9985, D(G(z)): 0.2694\n",
      "Epoch: [16/100], Batch Num: [0/2]\n",
      "Discriminator Loss: 0.7341, Generator Loss: 2.1451\n",
      "D(x): 0.9618, D(G(z)): 0.4786\n",
      "Epoch: [16/100], Batch Num: [1/2]\n",
      "Discriminator Loss: 0.6514, Generator Loss: 3.7585\n",
      "D(x): 0.9895, D(G(z)): 0.4731\n",
      "Epoch: [17/100], Batch Num: [0/2]\n",
      "Discriminator Loss: 0.7034, Generator Loss: 3.1119\n",
      "D(x): 0.9873, D(G(z)): 0.3691\n",
      "Epoch: [17/100], Batch Num: [1/2]\n",
      "Discriminator Loss: 0.6043, Generator Loss: 1.7776\n",
      "D(x): 0.8747, D(G(z)): 0.3753\n",
      "Epoch: [18/100], Batch Num: [0/2]\n",
      "Discriminator Loss: 1.6065, Generator Loss: 2.5430\n",
      "D(x): 0.9691, D(G(z)): 0.6658\n",
      "Epoch: [18/100], Batch Num: [1/2]\n",
      "Discriminator Loss: 0.2520, Generator Loss: 2.8044\n",
      "D(x): 0.8871, D(G(z)): 0.1238\n",
      "Epoch: [19/100], Batch Num: [0/2]\n",
      "Discriminator Loss: 0.8032, Generator Loss: 3.0443\n",
      "D(x): 0.8290, D(G(z)): 0.3977\n",
      "Epoch: [19/100], Batch Num: [1/2]\n",
      "Discriminator Loss: 1.0837, Generator Loss: 3.5914\n",
      "D(x): 0.8179, D(G(z)): 0.5863\n",
      "Epoch: [20/100], Batch Num: [0/2]\n",
      "Discriminator Loss: 0.6230, Generator Loss: 4.8763\n",
      "D(x): 0.8605, D(G(z)): 0.3700\n",
      "Epoch: [20/100], Batch Num: [1/2]\n",
      "Discriminator Loss: 1.5573, Generator Loss: 4.4560\n",
      "D(x): 0.3227, D(G(z)): 0.3471\n",
      "Epoch: [21/100], Batch Num: [0/2]\n",
      "Discriminator Loss: 0.4275, Generator Loss: 3.6687\n",
      "D(x): 0.7486, D(G(z)): 0.1220\n",
      "Epoch: [21/100], Batch Num: [1/2]\n",
      "Discriminator Loss: 0.5252, Generator Loss: 2.1951\n",
      "D(x): 0.6899, D(G(z)): 0.1428\n",
      "Epoch: [22/100], Batch Num: [0/2]\n",
      "Discriminator Loss: 0.5251, Generator Loss: 4.9984\n",
      "D(x): 0.8252, D(G(z)): 0.2208\n",
      "Epoch: [22/100], Batch Num: [1/2]\n",
      "Discriminator Loss: 1.4299, Generator Loss: 4.1080\n",
      "D(x): 0.9156, D(G(z)): 0.7386\n",
      "Epoch: [23/100], Batch Num: [0/2]\n",
      "Discriminator Loss: 0.6792, Generator Loss: 2.7369\n",
      "D(x): 0.9078, D(G(z)): 0.4166\n",
      "Epoch: [23/100], Batch Num: [1/2]\n",
      "Discriminator Loss: 0.4709, Generator Loss: 3.3372\n",
      "D(x): 0.7890, D(G(z)): 0.2085\n",
      "Epoch: [24/100], Batch Num: [0/2]\n",
      "Discriminator Loss: 1.9129, Generator Loss: 4.3536\n",
      "D(x): 0.8257, D(G(z)): 0.6890\n",
      "Epoch: [24/100], Batch Num: [1/2]\n",
      "Discriminator Loss: 1.0298, Generator Loss: 4.5409\n",
      "D(x): 0.9790, D(G(z)): 0.6353\n",
      "Epoch: [25/100], Batch Num: [0/2]\n",
      "Discriminator Loss: 1.2233, Generator Loss: 4.2671\n",
      "D(x): 0.8616, D(G(z)): 0.4993\n",
      "Epoch: [25/100], Batch Num: [1/2]\n",
      "Discriminator Loss: 8.2205, Generator Loss: 1.0845\n",
      "D(x): 0.7410, D(G(z)): 0.9996\n",
      "Epoch: [26/100], Batch Num: [0/2]\n",
      "Discriminator Loss: 2.3988, Generator Loss: 2.5235\n",
      "D(x): 0.8221, D(G(z)): 0.7674\n",
      "Epoch: [26/100], Batch Num: [1/2]\n",
      "Discriminator Loss: 0.7963, Generator Loss: 0.0371\n",
      "D(x): 0.5501, D(G(z)): 0.1801\n",
      "Epoch: [27/100], Batch Num: [0/2]\n",
      "Discriminator Loss: 4.0831, Generator Loss: 1.9496\n",
      "D(x): 0.6527, D(G(z)): 0.7749\n",
      "Epoch: [27/100], Batch Num: [1/2]\n",
      "Discriminator Loss: 2.0673, Generator Loss: 5.4802\n",
      "D(x): 0.8077, D(G(z)): 0.8434\n",
      "Epoch: [28/100], Batch Num: [0/2]\n",
      "Discriminator Loss: 2.0511, Generator Loss: 4.2372\n",
      "D(x): 0.6094, D(G(z)): 0.3658\n",
      "Epoch: [28/100], Batch Num: [1/2]\n",
      "Discriminator Loss: 1.3721, Generator Loss: 5.8551\n",
      "D(x): 0.7873, D(G(z)): 0.6779\n",
      "Epoch: [29/100], Batch Num: [0/2]\n",
      "Discriminator Loss: 1.3589, Generator Loss: 6.9304\n",
      "D(x): 0.6068, D(G(z)): 0.4641\n",
      "Epoch: [29/100], Batch Num: [1/2]\n",
      "Discriminator Loss: 0.3108, Generator Loss: 11.5771\n",
      "D(x): 0.7390, D(G(z)): 0.0083\n",
      "Epoch: [30/100], Batch Num: [0/2]\n",
      "Discriminator Loss: 0.4272, Generator Loss: 7.8593\n",
      "D(x): 0.6883, D(G(z)): 0.0243\n",
      "Epoch: [30/100], Batch Num: [1/2]\n",
      "Discriminator Loss: 1.1911, Generator Loss: 10.5487\n",
      "D(x): 0.3305, D(G(z)): 0.0805\n",
      "Epoch: [31/100], Batch Num: [0/2]\n",
      "Discriminator Loss: 0.5885, Generator Loss: 8.0295\n",
      "D(x): 0.5982, D(G(z)): 0.0231\n",
      "Epoch: [31/100], Batch Num: [1/2]\n",
      "Discriminator Loss: 0.1174, Generator Loss: 6.3833\n",
      "D(x): 0.8907, D(G(z)): 0.0017\n",
      "Epoch: [32/100], Batch Num: [0/2]\n",
      "Discriminator Loss: 0.3387, Generator Loss: 6.0009\n",
      "D(x): 0.7326, D(G(z)): 0.0113\n",
      "Epoch: [32/100], Batch Num: [1/2]\n",
      "Discriminator Loss: 0.9520, Generator Loss: 4.7499\n",
      "D(x): 0.3917, D(G(z)): 0.0146\n",
      "Epoch: [33/100], Batch Num: [0/2]\n",
      "Discriminator Loss: 0.3222, Generator Loss: 6.4588\n",
      "D(x): 0.7670, D(G(z)): 0.0151\n",
      "Epoch: [33/100], Batch Num: [1/2]\n",
      "Discriminator Loss: 0.3651, Generator Loss: 3.8185\n",
      "D(x): 0.7911, D(G(z)): 0.1225\n",
      "Epoch: [34/100], Batch Num: [0/2]\n",
      "Discriminator Loss: 0.9663, Generator Loss: 4.3607\n",
      "D(x): 0.7630, D(G(z)): 0.3030\n",
      "Epoch: [34/100], Batch Num: [1/2]\n",
      "Discriminator Loss: 0.0338, Generator Loss: 12.1840\n",
      "D(x): 0.9672, D(G(z)): 0.0005\n",
      "Epoch: [35/100], Batch Num: [0/2]\n",
      "Discriminator Loss: 0.1139, Generator Loss: 9.3768\n",
      "D(x): 0.8941, D(G(z)): 0.0006\n",
      "Epoch: [35/100], Batch Num: [1/2]\n",
      "Discriminator Loss: 0.3517, Generator Loss: 9.1092\n",
      "D(x): 0.7043, D(G(z)): 0.0012\n"
     ]
    },
    {
     "name": "stdout",
     "output_type": "stream",
     "text": [
      "Epoch: [36/100], Batch Num: [0/2]\n",
      "Discriminator Loss: 0.1433, Generator Loss: 8.8808\n",
      "D(x): 0.8755, D(G(z)): 0.0001\n",
      "Epoch: [36/100], Batch Num: [1/2]\n",
      "Discriminator Loss: 0.2552, Generator Loss: 5.6472\n",
      "D(x): 0.7749, D(G(z)): 0.0002\n",
      "Epoch: [37/100], Batch Num: [0/2]\n",
      "Discriminator Loss: 0.1173, Generator Loss: 8.6842\n",
      "D(x): 0.8943, D(G(z)): 0.0000\n",
      "Epoch: [37/100], Batch Num: [1/2]\n",
      "Discriminator Loss: 0.1260, Generator Loss: 3.4596\n",
      "D(x): 0.8819, D(G(z)): 0.0004\n",
      "Epoch: [38/100], Batch Num: [0/2]\n",
      "Discriminator Loss: 0.1641, Generator Loss: 7.2629\n",
      "D(x): 0.8579, D(G(z)): 0.0005\n",
      "Epoch: [38/100], Batch Num: [1/2]\n",
      "Discriminator Loss: 0.0112, Generator Loss: 8.0926\n",
      "D(x): 0.9905, D(G(z)): 0.0016\n",
      "Epoch: [39/100], Batch Num: [0/2]\n",
      "Discriminator Loss: 0.1030, Generator Loss: 7.6723\n",
      "D(x): 0.9094, D(G(z)): 0.0064\n",
      "Epoch: [39/100], Batch Num: [1/2]\n",
      "Discriminator Loss: 0.0091, Generator Loss: 12.0503\n",
      "D(x): 0.9910, D(G(z)): 0.0001\n",
      "Epoch: [40/100], Batch Num: [0/2]\n",
      "Discriminator Loss: 0.1689, Generator Loss: 5.1496\n",
      "D(x): 0.8822, D(G(z)): 0.0367\n",
      "Epoch: [40/100], Batch Num: [1/2]\n",
      "Discriminator Loss: 0.0813, Generator Loss: 10.9371\n",
      "D(x): 0.9885, D(G(z)): 0.0674\n",
      "Epoch: [41/100], Batch Num: [0/2]\n",
      "Discriminator Loss: 0.0597, Generator Loss: 8.4649\n",
      "D(x): 0.9482, D(G(z)): 0.0050\n",
      "Epoch: [41/100], Batch Num: [1/2]\n",
      "Discriminator Loss: 0.0433, Generator Loss: 7.1849\n",
      "D(x): 0.9576, D(G(z)): 0.0000\n",
      "Epoch: [42/100], Batch Num: [0/2]\n",
      "Discriminator Loss: 0.0481, Generator Loss: 10.7977\n",
      "D(x): 0.9749, D(G(z)): 0.0219\n",
      "Epoch: [42/100], Batch Num: [1/2]\n",
      "Discriminator Loss: 0.1587, Generator Loss: 6.1095\n",
      "D(x): 0.8538, D(G(z)): 0.0007\n",
      "Epoch: [43/100], Batch Num: [0/2]\n",
      "Discriminator Loss: 0.1006, Generator Loss: 4.4726\n",
      "D(x): 0.9107, D(G(z)): 0.0042\n",
      "Epoch: [43/100], Batch Num: [1/2]\n",
      "Discriminator Loss: 0.0494, Generator Loss: 12.0835\n",
      "D(x): 0.9935, D(G(z)): 0.0420\n",
      "Epoch: [44/100], Batch Num: [0/2]\n",
      "Discriminator Loss: 0.0673, Generator Loss: 6.9589\n",
      "D(x): 0.9492, D(G(z)): 0.0135\n",
      "Epoch: [44/100], Batch Num: [1/2]\n",
      "Discriminator Loss: 0.2957, Generator Loss: 13.4805\n",
      "D(x): 0.9558, D(G(z)): 0.2215\n",
      "Epoch: [45/100], Batch Num: [0/2]\n",
      "Discriminator Loss: 0.0381, Generator Loss: 15.2513\n",
      "D(x): 0.9647, D(G(z)): 0.0016\n",
      "Epoch: [45/100], Batch Num: [1/2]\n",
      "Discriminator Loss: 0.1921, Generator Loss: 12.0702\n",
      "D(x): 0.8252, D(G(z)): 0.0000\n",
      "Epoch: [46/100], Batch Num: [0/2]\n",
      "Discriminator Loss: 0.0997, Generator Loss: 17.1347\n",
      "D(x): 0.9073, D(G(z)): 0.0000\n",
      "Epoch: [46/100], Batch Num: [1/2]\n",
      "Discriminator Loss: 0.0396, Generator Loss: 22.2930\n",
      "D(x): 0.9611, D(G(z)): 0.0000\n",
      "Epoch: [47/100], Batch Num: [0/2]\n",
      "Discriminator Loss: 0.0651, Generator Loss: 12.3412\n",
      "D(x): 0.9399, D(G(z)): 0.0002\n",
      "Epoch: [47/100], Batch Num: [1/2]\n",
      "Discriminator Loss: 0.0190, Generator Loss: 16.4321\n",
      "D(x): 0.9812, D(G(z)): 0.0000\n",
      "Epoch: [48/100], Batch Num: [0/2]\n",
      "Discriminator Loss: 0.0421, Generator Loss: 13.5836\n",
      "D(x): 0.9595, D(G(z)): 0.0000\n",
      "Epoch: [48/100], Batch Num: [1/2]\n",
      "Discriminator Loss: 0.0049, Generator Loss: 10.3512\n",
      "D(x): 0.9952, D(G(z)): 0.0000\n",
      "Epoch: [49/100], Batch Num: [0/2]\n",
      "Discriminator Loss: 0.0425, Generator Loss: 13.0714\n",
      "D(x): 0.9593, D(G(z)): 0.0000\n",
      "Epoch: [49/100], Batch Num: [1/2]\n",
      "Discriminator Loss: 0.0025, Generator Loss: 10.7468\n",
      "D(x): 0.9975, D(G(z)): 0.0000\n",
      "Epoch: [50/100], Batch Num: [0/2]\n",
      "Discriminator Loss: 0.0463, Generator Loss: 14.1634\n",
      "D(x): 0.9595, D(G(z)): 0.0045\n",
      "Epoch: [50/100], Batch Num: [1/2]\n",
      "Discriminator Loss: 0.0042, Generator Loss: 14.3236\n",
      "D(x): 0.9980, D(G(z)): 0.0022\n",
      "Epoch: [51/100], Batch Num: [0/2]\n",
      "Discriminator Loss: 0.0678, Generator Loss: 5.6395\n",
      "D(x): 0.9573, D(G(z)): 0.0224\n",
      "Epoch: [51/100], Batch Num: [1/2]\n",
      "Discriminator Loss: 0.0057, Generator Loss: 2.2024\n",
      "D(x): 0.9980, D(G(z)): 0.0037\n",
      "Epoch: [52/100], Batch Num: [0/2]\n",
      "Discriminator Loss: 0.5431, Generator Loss: 3.2519\n",
      "D(x): 0.9848, D(G(z)): 0.3530\n",
      "Epoch: [52/100], Batch Num: [1/2]\n",
      "Discriminator Loss: 0.0868, Generator Loss: 2.7163\n",
      "D(x): 0.9226, D(G(z)): 0.0062\n",
      "Epoch: [53/100], Batch Num: [0/2]\n",
      "Discriminator Loss: 2.1043, Generator Loss: 2.3693\n",
      "D(x): 0.9931, D(G(z)): 0.7575\n",
      "Epoch: [53/100], Batch Num: [1/2]\n",
      "Discriminator Loss: 0.3944, Generator Loss: 0.5313\n",
      "D(x): 0.8993, D(G(z)): 0.2504\n",
      "Epoch: [54/100], Batch Num: [0/2]\n",
      "Discriminator Loss: 0.3925, Generator Loss: 5.3793\n",
      "D(x): 0.9674, D(G(z)): 0.2323\n",
      "Epoch: [54/100], Batch Num: [1/2]\n",
      "Discriminator Loss: 0.2850, Generator Loss: 9.3340\n",
      "D(x): 0.9039, D(G(z)): 0.1681\n",
      "Epoch: [55/100], Batch Num: [0/2]\n",
      "Discriminator Loss: 0.0729, Generator Loss: 13.6971\n",
      "D(x): 0.9354, D(G(z)): 0.0045\n",
      "Epoch: [55/100], Batch Num: [1/2]\n",
      "Discriminator Loss: 0.1632, Generator Loss: 18.2059\n",
      "D(x): 0.8518, D(G(z)): 0.0028\n",
      "Epoch: [56/100], Batch Num: [0/2]\n",
      "Discriminator Loss: 0.1112, Generator Loss: 10.2107\n",
      "D(x): 0.8981, D(G(z)): 0.0017\n",
      "Epoch: [56/100], Batch Num: [1/2]\n",
      "Discriminator Loss: 0.1259, Generator Loss: 5.9246\n",
      "D(x): 0.8817, D(G(z)): 0.0000\n",
      "Epoch: [57/100], Batch Num: [0/2]\n",
      "Discriminator Loss: 0.1209, Generator Loss: 15.1467\n",
      "D(x): 0.8873, D(G(z)): 0.0000\n",
      "Epoch: [57/100], Batch Num: [1/2]\n",
      "Discriminator Loss: 0.1815, Generator Loss: 10.6808\n",
      "D(x): 0.8340, D(G(z)): 0.0000\n",
      "Epoch: [58/100], Batch Num: [0/2]\n",
      "Discriminator Loss: 0.1561, Generator Loss: 10.0853\n",
      "D(x): 0.8573, D(G(z)): 0.0000\n",
      "Epoch: [58/100], Batch Num: [1/2]\n",
      "Discriminator Loss: 0.1500, Generator Loss: 21.0871\n",
      "D(x): 0.8608, D(G(z)): 0.0000\n",
      "Epoch: [59/100], Batch Num: [0/2]\n",
      "Discriminator Loss: 0.1888, Generator Loss: 11.1915\n",
      "D(x): 0.8316, D(G(z)): 0.0000\n",
      "Epoch: [59/100], Batch Num: [1/2]\n",
      "Discriminator Loss: 0.1523, Generator Loss: 13.6969\n",
      "D(x): 0.8588, D(G(z)): 0.0000\n",
      "Epoch: [60/100], Batch Num: [0/2]\n",
      "Discriminator Loss: 0.0898, Generator Loss: 9.7878\n",
      "D(x): 0.9144, D(G(z)): 0.0001\n",
      "Epoch: [60/100], Batch Num: [1/2]\n",
      "Discriminator Loss: 0.1618, Generator Loss: 16.9400\n",
      "D(x): 0.8506, D(G(z)): 0.0000\n",
      "Epoch: [61/100], Batch Num: [0/2]\n",
      "Discriminator Loss: 0.0555, Generator Loss: 11.6371\n",
      "D(x): 0.9470, D(G(z)): 0.0002\n",
      "Epoch: [61/100], Batch Num: [1/2]\n",
      "Discriminator Loss: 0.0872, Generator Loss: 11.7060\n",
      "D(x): 0.9186, D(G(z)): 0.0023\n",
      "Epoch: [62/100], Batch Num: [0/2]\n",
      "Discriminator Loss: 0.0635, Generator Loss: 8.6369\n",
      "D(x): 0.9401, D(G(z)): 0.0006\n",
      "Epoch: [62/100], Batch Num: [1/2]\n",
      "Discriminator Loss: 0.0160, Generator Loss: 7.8677\n",
      "D(x): 0.9988, D(G(z)): 0.0146\n",
      "Epoch: [63/100], Batch Num: [0/2]\n",
      "Discriminator Loss: 0.0243, Generator Loss: 6.4230\n",
      "D(x): 0.9831, D(G(z)): 0.0071\n",
      "Epoch: [63/100], Batch Num: [1/2]\n",
      "Discriminator Loss: 0.0446, Generator Loss: 5.1814\n",
      "D(x): 0.9564, D(G(z)): 0.0000\n",
      "Epoch: [64/100], Batch Num: [0/2]\n",
      "Discriminator Loss: 0.0888, Generator Loss: 5.0182\n",
      "D(x): 0.9656, D(G(z)): 0.0510\n",
      "Epoch: [64/100], Batch Num: [1/2]\n",
      "Discriminator Loss: 0.0445, Generator Loss: 11.2510\n",
      "D(x): 0.9990, D(G(z)): 0.0426\n",
      "Epoch: [65/100], Batch Num: [0/2]\n",
      "Discriminator Loss: 0.0233, Generator Loss: 8.6875\n",
      "D(x): 0.9978, D(G(z)): 0.0209\n",
      "Epoch: [65/100], Batch Num: [1/2]\n",
      "Discriminator Loss: 0.5783, Generator Loss: 1.9763\n",
      "D(x): 0.9646, D(G(z)): 0.4186\n",
      "Epoch: [66/100], Batch Num: [0/2]\n",
      "Discriminator Loss: 0.0313, Generator Loss: 6.4375\n",
      "D(x): 0.9765, D(G(z)): 0.0072\n",
      "Epoch: [66/100], Batch Num: [1/2]\n",
      "Discriminator Loss: 0.0021, Generator Loss: 2.2335\n",
      "D(x): 0.9980, D(G(z)): 0.0002\n",
      "Epoch: [67/100], Batch Num: [0/2]\n",
      "Discriminator Loss: 0.3532, Generator Loss: 6.3200\n",
      "D(x): 0.9764, D(G(z)): 0.2628\n",
      "Epoch: [67/100], Batch Num: [1/2]\n",
      "Discriminator Loss: 0.0082, Generator Loss: 1.3439\n",
      "D(x): 0.9995, D(G(z)): 0.0076\n",
      "Epoch: [68/100], Batch Num: [0/2]\n",
      "Discriminator Loss: 0.0513, Generator Loss: 4.7941\n",
      "D(x): 0.9767, D(G(z)): 0.0268\n",
      "Epoch: [68/100], Batch Num: [1/2]\n",
      "Discriminator Loss: 0.0420, Generator Loss: 4.7038\n",
      "D(x): 0.9918, D(G(z)): 0.0332\n",
      "Epoch: [69/100], Batch Num: [0/2]\n",
      "Discriminator Loss: 0.2165, Generator Loss: 7.8931\n",
      "D(x): 0.9871, D(G(z)): 0.1688\n",
      "Epoch: [69/100], Batch Num: [1/2]\n",
      "Discriminator Loss: 0.5084, Generator Loss: 0.3243\n",
      "D(x): 0.9854, D(G(z)): 0.3896\n",
      "Epoch: [70/100], Batch Num: [0/2]\n",
      "Discriminator Loss: 0.4495, Generator Loss: 1.7059\n",
      "D(x): 0.9843, D(G(z)): 0.2501\n",
      "Epoch: [70/100], Batch Num: [1/2]\n",
      "Discriminator Loss: 0.4706, Generator Loss: 6.7708\n",
      "D(x): 0.9758, D(G(z)): 0.3599\n",
      "Epoch: [71/100], Batch Num: [0/2]\n",
      "Discriminator Loss: 0.1309, Generator Loss: 2.3737\n",
      "D(x): 0.9629, D(G(z)): 0.0826\n"
     ]
    },
    {
     "name": "stdout",
     "output_type": "stream",
     "text": [
      "Epoch: [71/100], Batch Num: [1/2]\n",
      "Discriminator Loss: 0.0050, Generator Loss: 6.3697\n",
      "D(x): 0.9991, D(G(z)): 0.0041\n",
      "Epoch: [72/100], Batch Num: [0/2]\n",
      "Discriminator Loss: 0.0847, Generator Loss: 2.8692\n",
      "D(x): 0.9774, D(G(z)): 0.0585\n",
      "Epoch: [72/100], Batch Num: [1/2]\n",
      "Discriminator Loss: 0.2816, Generator Loss: 3.7602\n",
      "D(x): 0.9920, D(G(z)): 0.2394\n",
      "Epoch: [73/100], Batch Num: [0/2]\n",
      "Discriminator Loss: 0.0862, Generator Loss: 2.9445\n",
      "D(x): 0.9784, D(G(z)): 0.0603\n",
      "Epoch: [73/100], Batch Num: [1/2]\n",
      "Discriminator Loss: 1.4260, Generator Loss: 6.7895\n",
      "D(x): 0.9793, D(G(z)): 0.7546\n",
      "Epoch: [74/100], Batch Num: [0/2]\n",
      "Discriminator Loss: 0.3287, Generator Loss: 2.7631\n",
      "D(x): 0.9838, D(G(z)): 0.2246\n",
      "Epoch: [74/100], Batch Num: [1/2]\n",
      "Discriminator Loss: 0.0700, Generator Loss: 3.3620\n",
      "D(x): 0.9390, D(G(z)): 0.0070\n",
      "Epoch: [75/100], Batch Num: [0/2]\n",
      "Discriminator Loss: 0.1117, Generator Loss: 3.5421\n",
      "D(x): 0.9646, D(G(z)): 0.0693\n",
      "Epoch: [75/100], Batch Num: [1/2]\n",
      "Discriminator Loss: 0.3222, Generator Loss: 6.1019\n",
      "D(x): 0.9876, D(G(z)): 0.2663\n",
      "Epoch: [76/100], Batch Num: [0/2]\n",
      "Discriminator Loss: 0.2973, Generator Loss: 3.2115\n",
      "D(x): 0.9576, D(G(z)): 0.2189\n",
      "Epoch: [76/100], Batch Num: [1/2]\n",
      "Discriminator Loss: 0.0484, Generator Loss: 6.1874\n",
      "D(x): 0.9944, D(G(z)): 0.0419\n",
      "Epoch: [77/100], Batch Num: [0/2]\n",
      "Discriminator Loss: 0.3403, Generator Loss: 2.5716\n",
      "D(x): 0.9589, D(G(z)): 0.2466\n",
      "Epoch: [77/100], Batch Num: [1/2]\n",
      "Discriminator Loss: 0.1291, Generator Loss: 2.6879\n",
      "D(x): 0.8998, D(G(z)): 0.0233\n",
      "Epoch: [78/100], Batch Num: [0/2]\n",
      "Discriminator Loss: 0.0959, Generator Loss: 3.1214\n",
      "D(x): 0.9396, D(G(z)): 0.0322\n",
      "Epoch: [78/100], Batch Num: [1/2]\n",
      "Discriminator Loss: 0.1627, Generator Loss: 4.4675\n",
      "D(x): 0.9647, D(G(z)): 0.1191\n",
      "Epoch: [79/100], Batch Num: [0/2]\n",
      "Discriminator Loss: 0.0426, Generator Loss: 4.5147\n",
      "D(x): 0.9726, D(G(z)): 0.0146\n",
      "Epoch: [79/100], Batch Num: [1/2]\n",
      "Discriminator Loss: 0.1079, Generator Loss: 1.9390\n",
      "D(x): 0.9091, D(G(z)): 0.0125\n",
      "Epoch: [80/100], Batch Num: [0/2]\n",
      "Discriminator Loss: 0.0566, Generator Loss: 7.3569\n",
      "D(x): 0.9523, D(G(z)): 0.0055\n",
      "Epoch: [80/100], Batch Num: [1/2]\n",
      "Discriminator Loss: 0.0953, Generator Loss: 4.5737\n",
      "D(x): 0.9102, D(G(z)): 0.0012\n",
      "Epoch: [81/100], Batch Num: [0/2]\n",
      "Discriminator Loss: 0.0792, Generator Loss: 6.9499\n",
      "D(x): 0.9438, D(G(z)): 0.0206\n",
      "Epoch: [81/100], Batch Num: [1/2]\n",
      "Discriminator Loss: 0.0329, Generator Loss: 5.8432\n",
      "D(x): 0.9679, D(G(z)): 0.0004\n",
      "Epoch: [82/100], Batch Num: [0/2]\n",
      "Discriminator Loss: 0.0677, Generator Loss: 3.6592\n",
      "D(x): 0.9451, D(G(z)): 0.0112\n",
      "Epoch: [82/100], Batch Num: [1/2]\n",
      "Discriminator Loss: 0.0630, Generator Loss: 3.9088\n",
      "D(x): 0.9429, D(G(z)): 0.0041\n",
      "Epoch: [83/100], Batch Num: [0/2]\n",
      "Discriminator Loss: 0.1242, Generator Loss: 3.4377\n",
      "D(x): 0.9839, D(G(z)): 0.0926\n",
      "Epoch: [83/100], Batch Num: [1/2]\n",
      "Discriminator Loss: 0.0748, Generator Loss: 2.2295\n",
      "D(x): 0.9284, D(G(z)): 0.0005\n",
      "Epoch: [84/100], Batch Num: [0/2]\n",
      "Discriminator Loss: 0.0647, Generator Loss: 3.6814\n",
      "D(x): 0.9770, D(G(z)): 0.0400\n",
      "Epoch: [84/100], Batch Num: [1/2]\n",
      "Discriminator Loss: 0.1026, Generator Loss: 3.4232\n",
      "D(x): 0.9207, D(G(z)): 0.0198\n",
      "Epoch: [85/100], Batch Num: [0/2]\n",
      "Discriminator Loss: 0.1416, Generator Loss: 3.5295\n",
      "D(x): 0.9638, D(G(z)): 0.0894\n",
      "Epoch: [85/100], Batch Num: [1/2]\n",
      "Discriminator Loss: 0.0412, Generator Loss: 4.4428\n",
      "D(x): 0.9648, D(G(z)): 0.0054\n",
      "Epoch: [86/100], Batch Num: [0/2]\n",
      "Discriminator Loss: 0.1295, Generator Loss: 3.4681\n",
      "D(x): 0.9885, D(G(z)): 0.1039\n",
      "Epoch: [86/100], Batch Num: [1/2]\n",
      "Discriminator Loss: 0.1737, Generator Loss: 4.9005\n",
      "D(x): 0.9324, D(G(z)): 0.0986\n",
      "Epoch: [87/100], Batch Num: [0/2]\n",
      "Discriminator Loss: 0.2725, Generator Loss: 1.4228\n",
      "D(x): 0.9867, D(G(z)): 0.2268\n",
      "Epoch: [87/100], Batch Num: [1/2]\n",
      "Discriminator Loss: 0.0904, Generator Loss: 4.9481\n",
      "D(x): 0.9637, D(G(z)): 0.0520\n",
      "Epoch: [88/100], Batch Num: [0/2]\n",
      "Discriminator Loss: 0.4705, Generator Loss: 0.8789\n",
      "D(x): 0.9787, D(G(z)): 0.3055\n",
      "Epoch: [88/100], Batch Num: [1/2]\n",
      "Discriminator Loss: 0.0897, Generator Loss: 3.1857\n",
      "D(x): 0.9686, D(G(z)): 0.0562\n",
      "Epoch: [89/100], Batch Num: [0/2]\n",
      "Discriminator Loss: 0.9037, Generator Loss: 1.8174\n",
      "D(x): 0.9836, D(G(z)): 0.4814\n",
      "Epoch: [89/100], Batch Num: [1/2]\n",
      "Discriminator Loss: 0.4810, Generator Loss: 1.1596\n",
      "D(x): 0.9353, D(G(z)): 0.3391\n",
      "Epoch: [90/100], Batch Num: [0/2]\n",
      "Discriminator Loss: 0.2431, Generator Loss: 1.5654\n",
      "D(x): 0.9737, D(G(z)): 0.1700\n",
      "Epoch: [90/100], Batch Num: [1/2]\n",
      "Discriminator Loss: 0.0824, Generator Loss: 0.9820\n",
      "D(x): 0.9952, D(G(z)): 0.0747\n",
      "Epoch: [91/100], Batch Num: [0/2]\n",
      "Discriminator Loss: 0.8093, Generator Loss: 1.9044\n",
      "D(x): 0.9655, D(G(z)): 0.3978\n",
      "Epoch: [91/100], Batch Num: [1/2]\n",
      "Discriminator Loss: 0.1210, Generator Loss: 0.4234\n",
      "D(x): 0.8864, D(G(z)): 0.0004\n",
      "Epoch: [92/100], Batch Num: [0/2]\n",
      "Discriminator Loss: 0.5988, Generator Loss: 6.9513\n",
      "D(x): 0.9394, D(G(z)): 0.4101\n",
      "Epoch: [92/100], Batch Num: [1/2]\n",
      "Discriminator Loss: 0.2365, Generator Loss: 3.9785\n",
      "D(x): 0.9202, D(G(z)): 0.1422\n",
      "Epoch: [93/100], Batch Num: [0/2]\n",
      "Discriminator Loss: 0.2833, Generator Loss: 3.3449\n",
      "D(x): 0.9304, D(G(z)): 0.1744\n",
      "Epoch: [93/100], Batch Num: [1/2]\n",
      "Discriminator Loss: 0.0325, Generator Loss: 3.0099\n",
      "D(x): 0.9699, D(G(z)): 0.0019\n",
      "Epoch: [94/100], Batch Num: [0/2]\n",
      "Discriminator Loss: 0.1518, Generator Loss: 5.1299\n",
      "D(x): 0.9162, D(G(z)): 0.0606\n",
      "Epoch: [94/100], Batch Num: [1/2]\n",
      "Discriminator Loss: 0.0740, Generator Loss: 6.0142\n",
      "D(x): 0.9337, D(G(z)): 0.0054\n",
      "Epoch: [95/100], Batch Num: [0/2]\n",
      "Discriminator Loss: 0.0688, Generator Loss: 5.0526\n",
      "D(x): 0.9550, D(G(z)): 0.0222\n",
      "Epoch: [95/100], Batch Num: [1/2]\n",
      "Discriminator Loss: 0.2174, Generator Loss: 6.3087\n",
      "D(x): 0.8099, D(G(z)): 0.0065\n",
      "Epoch: [96/100], Batch Num: [0/2]\n",
      "Discriminator Loss: 0.0602, Generator Loss: 7.5183\n",
      "D(x): 0.9638, D(G(z)): 0.0228\n",
      "Epoch: [96/100], Batch Num: [1/2]\n",
      "Discriminator Loss: 0.0838, Generator Loss: 6.3926\n",
      "D(x): 0.9197, D(G(z)): 0.0000\n",
      "Epoch: [97/100], Batch Num: [0/2]\n",
      "Discriminator Loss: 0.0741, Generator Loss: 2.4937\n",
      "D(x): 0.9682, D(G(z)): 0.0404\n",
      "Epoch: [97/100], Batch Num: [1/2]\n",
      "Discriminator Loss: 0.2069, Generator Loss: 5.0490\n",
      "D(x): 0.8644, D(G(z)): 0.0594\n",
      "Epoch: [98/100], Batch Num: [0/2]\n",
      "Discriminator Loss: 0.2187, Generator Loss: 3.1742\n",
      "D(x): 0.9530, D(G(z)): 0.1521\n",
      "Epoch: [98/100], Batch Num: [1/2]\n",
      "Discriminator Loss: 0.0853, Generator Loss: 2.9872\n",
      "D(x): 0.9613, D(G(z)): 0.0449\n",
      "Epoch: [99/100], Batch Num: [0/2]\n",
      "Discriminator Loss: 0.3526, Generator Loss: 2.1208\n",
      "D(x): 0.9755, D(G(z)): 0.2546\n",
      "Epoch: [99/100], Batch Num: [1/2]\n",
      "Discriminator Loss: 0.2133, Generator Loss: 3.8577\n",
      "D(x): 0.9069, D(G(z)): 0.1092\n"
     ]
    }
   ],
   "source": [
    "logger = Logger(model_name='VoxGAN', data_name='myModels')\n",
    "\n",
    "for epoch in range(num_epochs):\n",
    "    for n_batch, real_batch in  enumerate(train_loader):\n",
    "        #print(real_batch.shape)\n",
    "        #print(real_batch.size(0))\n",
    "        # 1. Train Discriminator\n",
    "        real_data = Variable(vox_to_vectors(real_batch))\n",
    "        if torch.cuda.is_available(): real_data = real_data.cuda()\n",
    "        # Generate fake data\n",
    "        fake_data = generator(noise(real_data.size(0))).detach()\n",
    "        # Train D\n",
    "        d_error, d_pred_real, d_pred_fake = train_discriminator(d_optimizer,\n",
    "                                                                real_data, fake_data)\n",
    "\n",
    "        # 2. Train Generator\n",
    "        # Generate fake data\n",
    "        fake_data = generator(noise(real_batch.size(0)))\n",
    "        # Train G\n",
    "        g_error = train_generator(g_optimizer, fake_data)\n",
    "        # Log error\n",
    "        logger.log(d_error, g_error, epoch, n_batch, num_batches)\n",
    "        \n",
    "        \n",
    "\n",
    "       #display\n",
    "        test_vox = vectors_to_vox(generator(test_noise)).data.cpu()\n",
    "        \n",
    "            \n",
    "        # Display status Logs\n",
    "        logger.display_status(\n",
    "        epoch, num_epochs, n_batch, num_batches,\n",
    "        d_error, g_error, d_pred_real, d_pred_fake\n",
    "            )\n",
    "        # Model Checkpoints\n",
    "        logger.save_models(generator, discriminator, epoch)"
   ]
  },
  {
   "cell_type": "code",
   "execution_count": 41,
   "metadata": {},
   "outputs": [
    {
     "data": {
      "text/plain": [
       "tensor([[[[ 3.7083e-01,  2.4284e-01,  2.7903e-01,  ..., -4.3292e-02,\n",
       "           -8.7343e-02,  6.0012e-02],\n",
       "          [ 3.0188e-01,  2.4172e-01,  3.0416e-01,  ...,  3.3108e-02,\n",
       "            4.9505e-02, -5.6832e-03],\n",
       "          [ 3.3547e-01,  3.4227e-01,  2.7722e-01,  ..., -4.5634e-02,\n",
       "           -4.3168e-02,  1.4480e-02],\n",
       "          ...,\n",
       "          [ 2.5465e-02, -3.7499e-02, -6.9416e-02,  ..., -6.5832e-02,\n",
       "            1.6995e-02, -6.7955e-02],\n",
       "          [ 3.1857e-02, -2.7992e-02, -9.6702e-02,  ..., -1.6675e-02,\n",
       "            1.9208e-02,  9.0976e-02],\n",
       "          [-3.0655e-02,  7.3099e-02,  2.4505e-02,  ..., -3.1181e-02,\n",
       "            4.3835e-02,  4.5074e-02]],\n",
       "\n",
       "         [[ 2.8922e-01,  2.7811e-01,  3.0405e-01,  ...,  4.7781e-02,\n",
       "           -3.5555e-03, -1.5860e-03],\n",
       "          [ 3.1034e-01,  2.7247e-01,  3.0471e-01,  ..., -1.6593e-03,\n",
       "           -4.7931e-02,  1.7728e-02],\n",
       "          [ 3.7176e-01,  3.2197e-01,  2.1825e-01,  ..., -1.8841e-02,\n",
       "            2.4664e-02,  1.7034e-03],\n",
       "          ...,\n",
       "          [ 1.6937e-03, -8.5193e-03, -5.1994e-03,  ...,  4.0484e-03,\n",
       "            5.6091e-02,  7.3979e-02],\n",
       "          [-1.8374e-02,  5.7123e-03,  2.4086e-02,  ..., -6.1696e-03,\n",
       "            3.9753e-02,  1.0988e-05],\n",
       "          [-1.9415e-02, -7.3272e-03,  6.7956e-02,  ...,  1.3917e-02,\n",
       "           -6.7340e-02, -2.3763e-02]],\n",
       "\n",
       "         [[ 2.6847e-01,  3.3474e-01,  3.1427e-01,  ...,  3.8159e-02,\n",
       "           -1.7137e-02, -2.4451e-02],\n",
       "          [ 3.0929e-01,  2.8176e-01,  2.9790e-01,  ...,  7.5823e-03,\n",
       "           -1.0849e-01,  7.7801e-03],\n",
       "          [ 2.9690e-01,  2.8415e-01,  3.0951e-01,  ...,  1.0840e-02,\n",
       "            5.2088e-02, -6.2902e-02],\n",
       "          ...,\n",
       "          [ 6.1608e-03, -7.8300e-03, -6.1026e-02,  ..., -3.2492e-02,\n",
       "           -9.2909e-03,  1.5309e-02],\n",
       "          [ 3.9313e-02, -6.5747e-02, -2.4339e-02,  ..., -1.7625e-02,\n",
       "            4.2040e-02,  3.5780e-02],\n",
       "          [ 3.7335e-02,  7.4730e-03,  2.0260e-02,  ...,  9.2697e-03,\n",
       "           -3.9233e-02,  3.2517e-02]],\n",
       "\n",
       "         ...,\n",
       "\n",
       "         [[ 7.2755e-02,  3.4776e-02, -1.1287e-02,  ...,  3.5721e-02,\n",
       "            5.1338e-02,  1.3126e-02],\n",
       "          [-1.4872e-02, -1.9231e-02, -9.1017e-03,  ..., -4.2410e-02,\n",
       "           -2.0594e-02, -2.5764e-02],\n",
       "          [-3.7447e-02,  3.9622e-02,  1.2785e-02,  ...,  4.3985e-02,\n",
       "            4.5701e-02, -2.5513e-02],\n",
       "          ...,\n",
       "          [-8.3870e-03, -3.3331e-03,  3.5474e-02,  ...,  3.0896e-02,\n",
       "           -4.4902e-02, -7.3739e-03],\n",
       "          [ 1.3310e-02,  4.2260e-02,  6.2390e-02,  ..., -5.9341e-02,\n",
       "            1.6351e-02,  4.0787e-02],\n",
       "          [-8.5335e-02, -9.4086e-03,  9.7379e-02,  ..., -4.0190e-02,\n",
       "            3.0565e-02, -2.4110e-03]],\n",
       "\n",
       "         [[-4.9785e-02, -2.2591e-02, -1.1940e-02,  ...,  3.2020e-02,\n",
       "           -9.0894e-03,  4.7070e-02],\n",
       "          [ 1.4289e-02,  5.7811e-03,  2.4581e-02,  ..., -1.9235e-03,\n",
       "           -4.5557e-03,  4.1834e-02],\n",
       "          [-3.4285e-02, -3.7430e-02, -1.2367e-02,  ..., -2.5433e-02,\n",
       "           -3.9919e-02, -5.6137e-02],\n",
       "          ...,\n",
       "          [-1.1281e-01,  3.2755e-02, -3.4634e-02,  ...,  4.1699e-02,\n",
       "           -4.0055e-02,  2.7469e-03],\n",
       "          [ 2.0689e-02, -6.9712e-02, -6.0852e-03,  ...,  6.5011e-03,\n",
       "           -8.7876e-02,  2.9945e-02],\n",
       "          [ 7.1722e-04, -2.3913e-02, -8.4837e-02,  ...,  3.8479e-02,\n",
       "            9.0573e-02, -5.4616e-02]],\n",
       "\n",
       "         [[-2.7054e-02, -1.6197e-02,  9.6566e-03,  ..., -8.3346e-02,\n",
       "           -5.8465e-02,  2.6899e-02],\n",
       "          [-5.7526e-02, -3.7390e-02,  8.1680e-02,  ..., -2.6065e-02,\n",
       "           -1.9741e-02,  8.5926e-02],\n",
       "          [-2.7246e-03, -2.8996e-02,  1.9963e-02,  ...,  2.9138e-02,\n",
       "           -5.0517e-02, -6.9778e-02],\n",
       "          ...,\n",
       "          [ 5.2742e-03, -6.9945e-02,  3.1605e-02,  ...,  4.0620e-02,\n",
       "            4.1687e-02,  2.9772e-02],\n",
       "          [ 5.7823e-03, -1.0177e-02, -1.6863e-03,  ...,  7.1907e-02,\n",
       "            1.3917e-02,  3.7394e-02],\n",
       "          [-6.3902e-02, -7.3492e-02, -8.6321e-03,  ..., -4.2473e-02,\n",
       "            3.3561e-02, -6.0987e-02]]]])"
      ]
     },
     "execution_count": 41,
     "metadata": {},
     "output_type": "execute_result"
    }
   ],
   "source": [
    "test_vox[0]"
   ]
  },
  {
   "cell_type": "code",
   "execution_count": 44,
   "metadata": {},
   "outputs": [
    {
     "name": "stdout",
     "output_type": "stream",
     "text": [
      "torch.Size([27000]) torch.Size([27000]) tensor([20,  0,  0,  ..., 29, 29, 29])\n"
     ]
    },
    {
     "data": {
      "image/png": "[encoded data removed]",
      "text/plain": [
       "<Figure size 2304x1152 with 1 Axes>"
      ]
     },
     "metadata": {
      "needs_background": "light"
     },
     "output_type": "display_data"
    },
    {
     "data": {
      "image/png": "[encoded data removed]",
      "text/plain": [
       "<Figure size 432x288 with 1 Axes>"
      ]
     },
     "metadata": {
      "needs_background": "light"
     },
     "output_type": "display_data"
    }
   ],
   "source": [
    "#I CAN FIND THE POSITIONS OF THE NON-ZERO ELEMENTS...CAN I USE THIS?\n",
    "\n",
    "voxels = test_vox.__ge__(0.5)\n",
    "fig = plt.figure(figsize=(32, 16))\n",
    "gs = gridspec.GridSpec(2, 4)\n",
    "gs.update(wspace=0.05, hspace=0.05)\n",
    "\n",
    "for i, sample in enumerate(test_vox[0]):\n",
    "        x, y, z = sample.nonzero().reshape([3,27000])\n",
    "        print(x.shape,y.shape,z)\n",
    "        ax = plt.subplot(gs[i], projection='3d')\n",
    "        ax.scatter(x, y, z, zdir='z', c='red')\n",
    "        ax.set_xticklabels([])\n",
    "        ax.set_yticklabels([])\n",
    "        #ax.set_aspect('equal')\n",
    "#plt.savefig(path + '{}.png'.format(str(iteration).zfill(3)), bbox_inches='tight')\n",
    "#plt.close()\n",
    "\n",
    "fig = plt.figure()\n",
    "ax = fig.gca(projection='3d')\n",
    "\n",
    "#print(test_vox[0].shape)\n",
    "v=test_vox[0].squeeze()#.reshape([3,8000])\n",
    "#print(v.shape)\n",
    "ax.voxels(v)\n",
    "plt.show()"
   ]
  },
  {
   "cell_type": "code",
   "execution_count": 29,
   "metadata": {},
   "outputs": [],
   "source": [
    "import matplotlib.pyplot as plt\n",
    "from mpl_toolkits.mplot3d import Axes3D\n",
    "import matplotlib.gridspec as gridspec"
   ]
  },
  {
   "cell_type": "code",
   "execution_count": 54,
   "metadata": {},
   "outputs": [
    {
     "data": {
      "text/plain": [
       "<matplotlib.collections.PathCollection at 0x1df983278c8>"
      ]
     },
     "execution_count": 54,
     "metadata": {},
     "output_type": "execute_result"
    },
    {
     "data": {
      "image/png": "[encoded data removed]",
      "text/plain": [
       "<Figure size 432x288 with 1 Axes>"
      ]
     },
     "metadata": {
      "needs_background": "light"
     },
     "output_type": "display_data"
    }
   ],
   "source": [
    "sc = np.array([[10,10],[10,10]])\n",
    "\n",
    "ax = plt.subplot(gs[i])\n",
    "ax.scatter(1,2)"
   ]
  },
  {
   "cell_type": "code",
   "execution_count": 38,
   "metadata": {},
   "outputs": [
    {
     "ename": "ValueError",
     "evalue": "Argument filled must be 3-dimensional",
     "output_type": "error",
     "traceback": [
      "\u001b[1;31m---------------------------------------------------------------------------\u001b[0m",
      "\u001b[1;31mValueError\u001b[0m                                Traceback (most recent call last)",
      "\u001b[1;32m<ipython-input-38-e0525afd155a>\u001b[0m in \u001b[0;36m<module>\u001b[1;34m\u001b[0m\n\u001b[0;32m      1\u001b[0m \u001b[0mfig\u001b[0m \u001b[1;33m=\u001b[0m \u001b[0mplt\u001b[0m\u001b[1;33m.\u001b[0m\u001b[0mfigure\u001b[0m\u001b[1;33m(\u001b[0m\u001b[1;33m)\u001b[0m\u001b[1;33m\u001b[0m\u001b[1;33m\u001b[0m\u001b[0m\n\u001b[0;32m      2\u001b[0m \u001b[0max\u001b[0m \u001b[1;33m=\u001b[0m \u001b[0mfig\u001b[0m\u001b[1;33m.\u001b[0m\u001b[0mgca\u001b[0m\u001b[1;33m(\u001b[0m\u001b[0mprojection\u001b[0m\u001b[1;33m=\u001b[0m\u001b[1;34m'3d'\u001b[0m\u001b[1;33m)\u001b[0m\u001b[1;33m\u001b[0m\u001b[1;33m\u001b[0m\u001b[0m\n\u001b[1;32m----> 3\u001b[1;33m \u001b[0max\u001b[0m\u001b[1;33m.\u001b[0m\u001b[0mvoxels\u001b[0m\u001b[1;33m(\u001b[0m\u001b[0mtest_vox\u001b[0m\u001b[1;33m,\u001b[0m \u001b[0medgecolor\u001b[0m\u001b[1;33m=\u001b[0m\u001b[1;34m\"red\"\u001b[0m\u001b[1;33m)\u001b[0m\u001b[1;33m\u001b[0m\u001b[1;33m\u001b[0m\u001b[0m\n\u001b[0m\u001b[0;32m      4\u001b[0m \u001b[0mplt\u001b[0m\u001b[1;33m.\u001b[0m\u001b[0mshow\u001b[0m\u001b[1;33m(\u001b[0m\u001b[1;33m)\u001b[0m\u001b[1;33m\u001b[0m\u001b[1;33m\u001b[0m\u001b[0m\n\u001b[0;32m      5\u001b[0m \u001b[1;31m#ax.set_aspect('equal')\u001b[0m\u001b[1;33m\u001b[0m\u001b[1;33m\u001b[0m\u001b[1;33m\u001b[0m\u001b[0m\n",
      "\u001b[1;32m~\\ANACONDA3\\lib\\site-packages\\mpl_toolkits\\mplot3d\\axes3d.py\u001b[0m in \u001b[0;36mvoxels\u001b[1;34m(self, facecolors, edgecolors, shade, lightsource, *args, **kwargs)\u001b[0m\n\u001b[0;32m   2800\u001b[0m         \u001b[1;31m# check dimensions\u001b[0m\u001b[1;33m\u001b[0m\u001b[1;33m\u001b[0m\u001b[1;33m\u001b[0m\u001b[0m\n\u001b[0;32m   2801\u001b[0m         \u001b[1;32mif\u001b[0m \u001b[0mfilled\u001b[0m\u001b[1;33m.\u001b[0m\u001b[0mndim\u001b[0m \u001b[1;33m!=\u001b[0m \u001b[1;36m3\u001b[0m\u001b[1;33m:\u001b[0m\u001b[1;33m\u001b[0m\u001b[1;33m\u001b[0m\u001b[0m\n\u001b[1;32m-> 2802\u001b[1;33m             \u001b[1;32mraise\u001b[0m \u001b[0mValueError\u001b[0m\u001b[1;33m(\u001b[0m\u001b[1;34m\"Argument filled must be 3-dimensional\"\u001b[0m\u001b[1;33m)\u001b[0m\u001b[1;33m\u001b[0m\u001b[1;33m\u001b[0m\u001b[0m\n\u001b[0m\u001b[0;32m   2803\u001b[0m         \u001b[0msize\u001b[0m \u001b[1;33m=\u001b[0m \u001b[0mnp\u001b[0m\u001b[1;33m.\u001b[0m\u001b[0marray\u001b[0m\u001b[1;33m(\u001b[0m\u001b[0mfilled\u001b[0m\u001b[1;33m.\u001b[0m\u001b[0mshape\u001b[0m\u001b[1;33m,\u001b[0m \u001b[0mdtype\u001b[0m\u001b[1;33m=\u001b[0m\u001b[0mnp\u001b[0m\u001b[1;33m.\u001b[0m\u001b[0mintp\u001b[0m\u001b[1;33m)\u001b[0m\u001b[1;33m\u001b[0m\u001b[1;33m\u001b[0m\u001b[0m\n\u001b[0;32m   2804\u001b[0m \u001b[1;33m\u001b[0m\u001b[0m\n",
      "\u001b[1;31mValueError\u001b[0m: Argument filled must be 3-dimensional"
     ]
    },
    {
     "data": {
      "image/png": "[encoded data removed]",
      "text/plain": [
       "<Figure size 432x288 with 1 Axes>"
      ]
     },
     "metadata": {
      "needs_background": "light"
     },
     "output_type": "display_data"
    }
   ],
   "source": [
    "fig = plt.figure()\n",
    "ax = fig.gca(projection='3d')\n",
    "ax.voxels(test_vox, edgecolor=\"red\")\n",
    "plt.show()\n",
    "#ax.set_aspect('equal')"
   ]
  },
  {
   "cell_type": "code",
   "execution_count": null,
   "metadata": {},
   "outputs": [],
   "source": [
    "test_vox[0].squeeze()"
   ]
  },
  {
   "cell_type": "code",
   "execution_count": null,
   "metadata": {},
   "outputs": [],
   "source": []
  }
 ],
 "metadata": {
  "kernelspec": {
   "display_name": "Python 3",
   "language": "python",
   "name": "python3"
  },
  "language_info": {
   "codemirror_mode": {
    "name": "ipython",
    "version": 3
   },
   "file_extension": ".py",
   "mimetype": "text/x-python",
   "name": "python",
   "nbconvert_exporter": "python",
   "pygments_lexer": "ipython3",
   "version": "3.7.6"
  }
 },
 "nbformat": 4,
 "nbformat_minor": 4
}
